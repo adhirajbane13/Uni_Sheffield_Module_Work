{
  "nbformat": 4,
  "nbformat_minor": 0,
  "metadata": {
    "colab": {
      "provenance": []
    },
    "kernelspec": {
      "name": "python3",
      "display_name": "Python 3"
    },
    "language_info": {
      "name": "python"
    }
  },
  "cells": [
    {
      "cell_type": "markdown",
      "source": [
        "# Bootstrap Example\n",
        "\n",
        "To understand the bootstrap approach a little better, let us return to the simple linear regression example from the lecture."
      ],
      "metadata": {
        "id": "QmcrwqYRzL_V"
      }
    },
    {
      "cell_type": "code",
      "source": [
        "import numpy as np\n",
        "import matplotlib.pyplot as plt\n",
        "\n",
        "x = np.array([1.2,1.7,2.4,3.3,4.1,4.8,5.6,7.2,8.4,9.1])\n",
        "y = np.array([3.2,3.7,4.2,4.6,4.9,5.1,5.6,5.9,6.1,6.4])"
      ],
      "metadata": {
        "id": "KGfAoDndzYrU"
      },
      "execution_count": null,
      "outputs": []
    },
    {
      "cell_type": "markdown",
      "source": [
        "We can find the ordinary least squares (OLS) maximum likelihood estimate. We could use one of the libraries, or build our own regressor."
      ],
      "metadata": {
        "id": "p-DArZEYz07n"
      }
    },
    {
      "cell_type": "code",
      "source": [
        "def fit_parameters(x,y):\n",
        "  #Fit OLS 1st order polynomial (straight-line)\n",
        "  X = np.c_[x,np.ones_like(x)]\n",
        "  return np.linalg.inv(X.T@X) @ X.T @ y\n",
        "\n",
        "w = fit_parameters(x,y)"
      ],
      "metadata": {
        "id": "-983r_Aqzzbh"
      },
      "execution_count": null,
      "outputs": []
    },
    {
      "cell_type": "code",
      "source": [
        "plt.plot(x,y,'x')\n",
        "plt.xlabel('x')\n",
        "plt.ylabel('y')\n",
        "plt.plot([0,10],[w[1],w[1]+w[0]*10])"
      ],
      "metadata": {
        "id": "TtU_sGDFzwus"
      },
      "execution_count": null,
      "outputs": []
    },
    {
      "cell_type": "markdown",
      "source": [
        "This is fine, but it doesn't give us a sense of our uncertainty, or what the model can or can't predict.\n",
        "\n",
        "## Bootstrap Question 1\n",
        "\n",
        "Using `np.random.choice`, resample 100 times (with replacement) from x and y, and compute the parameters for each of these resampled datasets. Return a $100 \\times 2$ numpy array of these parameters."
      ],
      "metadata": {
        "id": "NBZ5Tbvu0rJ2"
      }
    },
    {
      "cell_type": "code",
      "source": [
        "def bootstrap(x,y):\n",
        "  #Add code here [answer at end of the notebook!]"
      ],
      "metadata": {
        "id": "GSW5b_JG0qEy"
      },
      "execution_count": null,
      "outputs": []
    },
    {
      "cell_type": "markdown",
      "source": [
        "Using this method, we can plot the range of likely parameters, and plot likely predictions."
      ],
      "metadata": {
        "id": "KvzJMdfP4F0g"
      }
    },
    {
      "cell_type": "code",
      "source": [
        "ws = bootstrap(x,y)\n",
        "plt.scatter(ws[:,0],ws[:,1])\n",
        "plt.xlabel('Gradient')\n",
        "plt.ylabel('Offset')"
      ],
      "metadata": {
        "id": "-L3-K2mV1y3J"
      },
      "execution_count": null,
      "outputs": []
    },
    {
      "cell_type": "code",
      "source": [
        "plt.plot(x,y,'x')\n",
        "for w in ws:\n",
        "  plt.plot([0,10],[w[1],w[1]+w[0]*10],'k-',alpha=0.05)"
      ],
      "metadata": {
        "id": "Oqz5yKOf2NZQ"
      },
      "execution_count": null,
      "outputs": []
    },
    {
      "cell_type": "markdown",
      "source": [
        "Let's now apply it to regression trees!\n",
        "\n",
        "This is the simplest example in which we have one continous input and one continous output. We just have a single decision node. This turns out not to be able to represent the data very well...\n",
        "\n",
        "## Bootstrap Question 2"
      ],
      "metadata": {
        "id": "bUsKHDxN4R1o"
      }
    },
    {
      "cell_type": "code",
      "source": [
        "def get_split(x,y):\n",
        "  #This finds the threshold value to use, to minimise the weighted sum of variances between the two sub-nodes.\n",
        "  #It returns this threshold and the means of the two sub-nodes, in an array of Nx3 (N resamples) with the first\n",
        "  #column equal to the threshold split point, the second row the mean of the points left of the split, and the\n",
        "  #third row the mean of the points to the right of the split.\n",
        "\n",
        "  #Code here [answer at end of notebook!]"
      ],
      "metadata": {
        "id": "mvOqJYNW4jy3"
      },
      "execution_count": null,
      "outputs": []
    },
    {
      "cell_type": "code",
      "source": [
        "def bootstrap_trees(x,y):\n",
        "  # Run the bootstrap algorithm to make splits on bootstrap subsets of the data. Store the results of each in 'parameters'\n",
        "  parameters = []\n",
        "  for it in range(500):\n",
        "    indices = np.random.choice(len(x),len(x))\n",
        "    split, left_mean, right_mean = get_split(x[indices],y[indices])\n",
        "    parameters.append([split,left_mean,right_mean])\n",
        "  return np.array(parameters)"
      ],
      "metadata": {
        "id": "Lm8p-USO6hN_"
      },
      "execution_count": null,
      "outputs": []
    },
    {
      "cell_type": "code",
      "source": [
        "parameters = bootstrap_trees(x,y)"
      ],
      "metadata": {
        "id": "5VnGuxUZ7AP7"
      },
      "execution_count": null,
      "outputs": []
    },
    {
      "cell_type": "code",
      "source": [
        "# Plot these predictions\n",
        "for param in parameters:\n",
        "  plt.plot([0,param[0],param[0],10],[param[1],param[1],param[2],param[2]],'k-',alpha=0.1)\n",
        "plt.plot(x,y,'x')"
      ],
      "metadata": {
        "id": "YoBJ_UjU7Ert"
      },
      "execution_count": null,
      "outputs": []
    },
    {
      "cell_type": "code",
      "source": [
        "#here we plot the 95% CI:\n",
        "pred_x = np.linspace(0,10,100)\n",
        "v = [np.mean(np.r_[parameters[p<parameters[:,0],1],parameters[p>=parameters[:,0],2]]) for p in pred_x]\n",
        "lowerCI = [np.percentile(np.r_[parameters[p<parameters[:,0],1],parameters[p>=parameters[:,0],2]],2.5) for p in pred_x]\n",
        "upperCI = [np.percentile(np.r_[parameters[p<parameters[:,0],1],parameters[p>=parameters[:,0],2]],97.5) for p in pred_x]\n",
        "plt.plot(pred_x,v)\n",
        "plt.plot(pred_x,lowerCI,'r-')\n",
        "plt.plot(pred_x,upperCI,'r-')\n",
        "plt.plot(x,y,'x')"
      ],
      "metadata": {
        "id": "uLidUxcr70Ex"
      },
      "execution_count": null,
      "outputs": []
    },
    {
      "cell_type": "markdown",
      "source": [
        "# Answers"
      ],
      "metadata": {
        "id": "aHOEXrlv_RyW"
      }
    },
    {
      "cell_type": "code",
      "source": [
        "#Question 1:\n",
        "\n",
        "def bootstrap(x,y):\n",
        "  ws = []\n",
        "  for it in range(100):\n",
        "    indices = np.random.choice(len(x),len(x))\n",
        "    w = fit_parameters(x[indices],y[indices])\n",
        "    ws.append(w)\n",
        "  return np.array(ws)\n",
        "\n",
        "# Question 2:\n",
        "def get_split(x,y):\n",
        "  #This finds the threshold value to use, to minimise the weighted sum of variances between the two sub-nodes.\n",
        "  #It returns this threshold and the means of the two sub-nodes, in an array of Nx3 (N resamples) with the first\n",
        "  #column equal to the threshold split point, the second row the mean of the points left of the split, and the\n",
        "  #third row the mean of the points to the right of the split.\n",
        "\n",
        "  minimum_var = np.inf\n",
        "  minimum_threshold = np.NaN\n",
        "  for threshold in np.linspace(0,10,100):\n",
        "    weighted_sum_of_variance = np.var(y[y<threshold])*np.sum(y<threshold)+np.var(y[y>=threshold])*np.sum(y>=threshold)\n",
        "    if weighted_sum_of_variance<minimum_var:\n",
        "      minimum_var = weighted_sum_of_variance\n",
        "      minimum_threshold = threshold\n",
        "  return minimum_threshold, np.mean(y[y<minimum_threshold]), np.mean(y[y>=minimum_threshold])"
      ],
      "metadata": {
        "id": "6aut7Rw1_MXO"
      },
      "execution_count": null,
      "outputs": []
    },
    {
      "cell_type": "code",
      "source": [],
      "metadata": {
        "id": "mgl6wwjt_2ke"
      },
      "execution_count": null,
      "outputs": []
    }
  ]
}