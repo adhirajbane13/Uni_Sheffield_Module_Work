{
 "cells": [
  {
   "cell_type": "markdown",
   "metadata": {},
   "source": [
    "# [COM6513] Assignment: Topic Classification with a Feedforward Network\n",
    "\n",
    "\n",
    "### Instructor: Nikos Aletras\n",
    "\n",
    "\n",
    "The goal of this assignment is to develop a Feedforward neural network for topic classification. \n",
    "\n",
    "\n",
    "\n",
    "For that purpose, you will implement:\n",
    "\n",
    "- Text processing methods for transforming raw text data into input vectors for your network  (**1 mark**)\n",
    "\n",
    "\n",
    "- A Feedforward network consisting of:\n",
    "    - **One-hot** input layer mapping words into an **Embedding weight matrix** (**1 mark**)\n",
    "    - **One hidden layer** computing the mean embedding vector of all words in input followed by a **ReLU activation function** (**1 mark**)\n",
    "    - **Output layer** with a **softmax** activation. (**1 mark**)\n",
    "\n",
    "\n",
    "- The Stochastic Gradient Descent (SGD) algorithm with **back-propagation** to learn the weights of your Neural network. Your algorithm should:\n",
    "    - Use (and minimise) the **Categorical Cross-entropy loss** function (**1 mark**)\n",
    "    - Perform a **Forward pass** to compute intermediate outputs (**2 marks**)\n",
    "    - Perform a **Backward pass** to compute gradients and update all sets of weights (**3 marks**)\n",
    "    - Implement and use **Dropout** after each hidden layer for regularisation (**1 marks**)\n",
    "\n",
    "\n",
    "\n",
    "- Discuss how did you choose hyperparameters? You can tune the learning rate (hint: choose small values), embedding size {e.g. 50, 300, 500} and the dropout rate {e.g. 0.2, 0.5}. Please use tables or graphs to show training and validation performance for each hyperparameter combination  (**2 marks**). \n",
    "\n",
    "\n",
    "\n",
    "- After training a model, plot the learning process (i.e. training and validation loss in each epoch) using a line plot and report accuracy. Does your model overfit, underfit or is about right? (**1 mark**).\n",
    "\n",
    "\n",
    "\n",
    "- Re-train your network by using pre-trained embeddings ([GloVe](https://nlp.stanford.edu/projects/glove/)) trained on large corpora. Instead of randomly initialising the embedding weights matrix, you should initialise it with the pre-trained weights. During training, you should not update them (i.e. weight freezing) and backprop should stop before computing gradients for updating embedding weights. Report results by performing hyperparameter tuning and plotting the learning process. Do you get better performance? (**1 marks**).\n",
    "\n",
    "\n",
    "\n",
    "- Extend you Feedforward network by adding more hidden layers (e.g. one more or two). How does it affect the performance? Note: You need to repeat hyperparameter tuning, but the number of combinations grows exponentially. Therefore, you need to choose a subset of all possible combinations (**3 marks**)\n",
    "\n",
    "\n",
    "- Provide well documented and commented code describing all of your choices. In general, you are free to make decisions about text processing (e.g. punctuation, numbers, vocabulary size) and hyperparameter values. We expect to see justifications and discussion for all of your choices. You must provide detailed explanations of your implementation, provide a detailed analysis of the results (e.g. why a model performs better than other models etc.) including error analyses (e.g. examples and discussion/analysis of missclasifications etc.)  (**10 marks**). \n",
    "\n",
    "\n",
    "\n",
    "- Provide efficient solutions by using Numpy arrays when possible. Executing the whole notebook with your code should not take more than 10 minutes on any standard computer (e.g. Intel Core i5 CPU, 8 or 16GB RAM) excluding hyperparameter tuning runs and loading the pretrained vectors. You can find tips in Lab 1 (**2 marks**). \n",
    "\n",
    "\n",
    "\n",
    "### Data \n",
    "\n",
    "The data you will use for the task is a subset of the [AG News Corpus](http://groups.di.unipi.it/~gulli/AG_corpus_of_news_articles.html) and you can find it in the `./data_topic` folder in CSV format:\n",
    "\n",
    "- `data_topic/train.csv`: contains 2,400 news articles, 800 for each class to be used for training.\n",
    "- `data_topic/dev.csv`: contains 150 news articles, 50 for each class to be used for hyperparameter selection and monitoring the training process.\n",
    "- `data_topic/test.csv`: contains 900 news articles, 300 for each class to be used for testing.\n",
    "\n",
    "Class 1: Politics, Class 2: Sports, Class 3: Economy\n",
    "\n",
    "### Pre-trained Embeddings\n",
    "\n",
    "You can download pre-trained GloVe embeddings trained on Common Crawl (840B tokens, 2.2M vocab, cased, 300d vectors, 2.03 GB download) from [here](http://nlp.stanford.edu/data/glove.840B.300d.zip). No need to unzip, the file is large.\n",
    "\n",
    "### Save Memory\n",
    "\n",
    "To save RAM, when you finish each experiment you can delete the weights of your network using `del W` followed by Python's garbage collector `gc.collect()`\n",
    "\n",
    "\n"
   ]
  },
  {
   "cell_type": "markdown",
   "metadata": {},
   "source": [
    "### Submission Instructions\n",
    "\n",
    "You **must** submit a Jupyter Notebook file (assignment_yourusername.ipynb) and an exported PDF version (you can do it from Jupyter: `File->Download as->PDF via Latex`, you need to have a Latex distribution installed e.g. MikTex or MacTex and pandoc). If you are unable to export the pdf via Latex, you can print the notebook web page to a pdf file from your browser (e.g. on Firefox: File->Print->Save to PDF).\n",
    "\n",
    "\n",
    "You are advised to follow the code structure given in this notebook by completing all given funtions. You can also write any auxilliary/helper functions (and arguments for the functions) that you might need but note that you can provide a full solution without any such functions. Similarly, you can just use only the packages imported below but you are free to use any functionality from the [Python Standard Library](https://docs.python.org/3/library/index.html), NumPy, SciPy (excluding built-in softmax funtcions) and Pandas. You are **not allowed to use any third-party library** such as Scikit-learn (apart from metric functions already provided), NLTK, Spacy, Keras, Pytorch etc.. You should mention if you've used Windows to write and test your code because we mostly use Unix based machines for marking (e.g. Ubuntu, MacOS). \n",
    "\n",
    "There is no single correct answer on what your accuracy should be, but correct implementations usually achieve F1-scores around 80\\% or higher. The quality of the analysis of the results and discussion is as important as the implementation and accuracy of your models. Please be brief and consice in your discussion and analyses. \n",
    "\n",
    "This assignment will be marked out of 30. It is worth 30\\% of your final grade in the module.\n",
    "\n",
    "The deadline for this assignment is **23:59 on Mon, 12 Apr 2024** and it needs to be submitted via Blackboard. Standard departmental penalties for lateness will be applied. We use a range of strategies to **detect [unfair means](https://www.sheffield.ac.uk/ssid/unfair-means/index)**, including Turnitin which helps detect plagiarism. Use of unfair means would result in getting a failing grade.\n",
    "\n"
   ]
  },
  {
   "cell_type": "markdown",
   "metadata": {},
   "source": [
    "### Machine Used for the assignment\n",
    "`Windows` machine was used to write and test codes "
   ]
  },
  {
   "cell_type": "code",
   "execution_count": 1,
   "metadata": {
    "ExecuteTime": {
     "end_time": "2020-04-02T15:00:18.625532Z",
     "start_time": "2020-04-02T15:00:17.377733Z"
    },
    "scrolled": true
   },
   "outputs": [],
   "source": [
    "import pandas as pd\n",
    "import numpy as np\n",
    "from collections import Counter\n",
    "import re\n",
    "import matplotlib.pyplot as plt\n",
    "from sklearn.metrics import accuracy_score, precision_score, recall_score, f1_score\n",
    "import random\n",
    "from time import localtime, strftime\n",
    "from scipy.stats import spearmanr,pearsonr\n",
    "import zipfile\n",
    "import gc\n",
    "\n",
    "# fixing random seed for reproducibility\n",
    "random.seed(123)\n",
    "np.random.seed(123)\n"
   ]
  },
  {
   "cell_type": "markdown",
   "metadata": {},
   "source": [
    "## Transform Raw texts into training and development data\n",
    "\n",
    "First, you need to load the training, development and test sets from their corresponding CSV files (tip: you can use Pandas dataframes)."
   ]
  },
  {
   "cell_type": "code",
   "execution_count": 2,
   "metadata": {
    "ExecuteTime": {
     "end_time": "2020-04-02T14:26:39.748484Z",
     "start_time": "2020-04-02T14:26:39.727404Z"
    },
    "scrolled": true
   },
   "outputs": [
    {
     "name": "stdout",
     "output_type": "stream",
     "text": [
      "Training data dimenshions: (2399, 2)\n",
      "Development data dimensions: (149, 2)\n",
      "Test data dimensions: (149, 2)\n"
     ]
    }
   ],
   "source": [
    "df_train = pd.read_csv(\"./data_topic/train.csv\") #training\n",
    "df_dev = pd.read_csv(\"./data_topic/dev.csv\") #development set for hyperparameter tuning\n",
    "df_test = pd.read_csv(\"./data_topic/dev.csv\") #test\n",
    "\n",
    "print(\"Training data dimenshions:\", df_train.shape)\n",
    "print(\"Development data dimensions:\", df_dev.shape)\n",
    "print(\"Test data dimensions:\", df_test.shape)"
   ]
  },
  {
   "cell_type": "code",
   "execution_count": 3,
   "metadata": {
    "ExecuteTime": {
     "end_time": "2020-04-02T14:26:39.753874Z",
     "start_time": "2020-04-02T14:26:39.749647Z"
    },
    "scrolled": true
   },
   "outputs": [
    {
     "name": "stdout",
     "output_type": "stream",
     "text": [
      "\n",
      "Training data samples:\n",
      "   1  \\\n",
      "0  1   \n",
      "1  1   \n",
      "2  1   \n",
      "3  1   \n",
      "4  1   \n",
      "\n",
      "  Reuters - Venezuelans turned out early\\and in large numbers on Sunday to vote in a historic referendum\\that will either remove left-wing President Hugo Chavez from\\office or give him a new mandate to govern for the next two\\years.  \n",
      "0  Reuters - South Korean police used water canno...                                                                                                                                                                                      \n",
      "1  Reuters - Thousands of Palestinian\\prisoners i...                                                                                                                                                                                      \n",
      "2  AFP - Sporadic gunfire and shelling took place...                                                                                                                                                                                      \n",
      "3  AP - Dozens of Rwandan soldiers flew into Suda...                                                                                                                                                                                      \n",
      "4  Reuters - Rwandan troops were airlifted on Sun...                                                                                                                                                                                      \n",
      "\n",
      "Development data samples:\n",
      "   1  \\\n",
      "0  1   \n",
      "1  1   \n",
      "2  1   \n",
      "3  1   \n",
      "4  1   \n",
      "\n",
      "  BAGHDAD, Iraq - An Islamic militant group that claimed to have kidnapped two French journalists said it would soon decide their fate, according to a message posted on a Web site Friday, and an Iraqi negotiator called the chance for their release  quot;excellent   \n",
      "0  Parts of Los Angeles international airport are...                                                                                                                                                                                                                      \n",
      "1  AFP - Facing a issue that once tripped up his ...                                                                                                                                                                                                                      \n",
      "2  The leader of militant Lebanese group Hezbolla...                                                                                                                                                                                                                      \n",
      "3  JAKARTA : ASEAN finance ministers ended a meet...                                                                                                                                                                                                                      \n",
      "4  The death toll in the Russian schoolhouse sieg...                                                                                                                                                                                                                      \n",
      "\n",
      "Test data samples:\n",
      "   1  \\\n",
      "0  1   \n",
      "1  1   \n",
      "2  1   \n",
      "3  1   \n",
      "4  1   \n",
      "\n",
      "  BAGHDAD, Iraq - An Islamic militant group that claimed to have kidnapped two French journalists said it would soon decide their fate, according to a message posted on a Web site Friday, and an Iraqi negotiator called the chance for their release  quot;excellent   \n",
      "0  Parts of Los Angeles international airport are...                                                                                                                                                                                                                      \n",
      "1  AFP - Facing a issue that once tripped up his ...                                                                                                                                                                                                                      \n",
      "2  The leader of militant Lebanese group Hezbolla...                                                                                                                                                                                                                      \n",
      "3  JAKARTA : ASEAN finance ministers ended a meet...                                                                                                                                                                                                                      \n",
      "4  The death toll in the Russian schoolhouse sieg...                                                                                                                                                                                                                      \n"
     ]
    }
   ],
   "source": [
    "print('\\nTraining data samples:')\n",
    "print(df_train.head())\n",
    "print('\\nDevelopment data samples:')\n",
    "print(df_dev.head())\n",
    "print('\\nTest data samples:')\n",
    "print(df_test.head())\n"
   ]
  },
  {
   "cell_type": "markdown",
   "metadata": {},
   "source": [
    "# Create input representations\n",
    "\n",
    "\n",
    "To train your Feedforward network, you first need to obtain input representations given a vocabulary. One-hot encoding requires large memory capacity. Therefore, we will instead represent documents as lists of vocabulary indices (each word corresponds to a vocabulary index). \n",
    "\n",
    "\n",
    "## Text Pre-Processing Pipeline\n",
    "\n",
    "To obtain a vocabulary of words. You should: \n",
    "- tokenise all texts into a list of unigrams (tip: you can re-use the functions from Assignment 1) \n",
    "- remove stop words (using the one provided or one of your preference) \n",
    "- remove unigrams appearing in less than K documents\n",
    "- use the remaining to create a vocabulary of the top-N most frequent unigrams in the entire corpus.\n"
   ]
  },
  {
   "cell_type": "code",
   "execution_count": 4,
   "metadata": {
    "ExecuteTime": {
     "end_time": "2020-04-02T14:26:40.851926Z",
     "start_time": "2020-04-02T14:26:40.847500Z"
    },
    "scrolled": true
   },
   "outputs": [],
   "source": [
    "stop_words = ['a','in','on','at','and','or', \n",
    "              'to', 'the', 'of', 'an', 'by', \n",
    "              'as', 'is', 'was', 'were', 'been', 'be', \n",
    "              'are','for', 'this', 'that', 'these', 'those', 'you', 'i', 'if',\n",
    "             'it', 'he', 'she', 'we', 'they', 'will', 'have', 'has',\n",
    "              'do', 'did', 'can', 'could', 'who', 'which', 'what',\n",
    "              'but', 'not', 'there', 'no', 'does', 'not', 'so', 've', 'their',\n",
    "             'his', 'her', 'they', 'them', 'from', 'with', 'its']\n",
    "\n",
    "# Assuming the text column is the second one (index 1) in each dataframe\n",
    "texts = pd.concat([df_train.iloc[:, 1], df_dev.iloc[:, 1], df_test.iloc[:, 1]]).tolist()"
   ]
  },
  {
   "cell_type": "markdown",
   "metadata": {},
   "source": [
    "### Unigram extraction from a document\n",
    "\n",
    "You first need to implement the `extract_ngrams` function. It takes as input:\n",
    "- `x_raw`: a string corresponding to the raw text of a document\n",
    "- `ngram_range`: a tuple of two integers denoting the type of ngrams you want to extract, e.g. (1,2) denotes extracting unigrams and bigrams.\n",
    "- `token_pattern`: a string to be used within a regular expression to extract all tokens. Note that data is already tokenised so you could opt for a simple white space tokenisation.\n",
    "- `stop_words`: a list of stop words\n",
    "- `vocab`: a given vocabulary. It should be used to extract specific features.\n",
    "\n",
    "and returns:\n",
    "\n",
    "- a list of all extracted features.\n"
   ]
  },
  {
   "cell_type": "code",
   "execution_count": 5,
   "metadata": {
    "ExecuteTime": {
     "end_time": "2020-05-11T08:23:17.181553Z",
     "start_time": "2020-05-11T08:23:17.178314Z"
    },
    "scrolled": true
   },
   "outputs": [],
   "source": [
    "def extract_ngrams(x_raw, ngram_range=(1,3), token_pattern=r'\\b[A-Za-z][A-Za-z]+\\b', stop_words=[], vocab=set()):\n",
    "    # Tokenize the document based on the provided token_pattern\n",
    "    tokens = [token for token in re.findall(token_pattern, x_raw.lower()) if token not in stop_words]\n",
    "    \n",
    "    # Function to generate n-grams from tokens\n",
    "    def generate_ngrams(tokens, n):\n",
    "        ngrams = []\n",
    "        for i in range(len(tokens) - n + 1):\n",
    "            ngram = ' '.join(tokens[i:i+n])\n",
    "            ngrams.append(ngram)\n",
    "        return ngrams\n",
    "    \n",
    "    # Initialize list to store all extracted n-grams\n",
    "    x = []\n",
    "    \n",
    "    # Generate n-grams for each n in ngram_range\n",
    "    for n in range(ngram_range[0], ngram_range[1] + 1):\n",
    "        ngrams = generate_ngrams(tokens, n)\n",
    "        # Filter by vocab if vocab is not empty\n",
    "        if vocab:\n",
    "            ngrams = [ngram for ngram in ngrams if ngram in vocab]\n",
    "        x.extend(ngrams)\n",
    "    \n",
    "    return x"
   ]
  },
  {
   "cell_type": "markdown",
   "metadata": {},
   "source": [
    "### Create a vocabulary of n-grams\n",
    "\n",
    "Then the `get_vocab` function will be used to (1) create a vocabulary of ngrams; (2) count the document frequencies of ngrams; (3) their raw frequency. It takes as input:\n",
    "- `X_raw`: a list of strings each corresponding to the raw text of a document\n",
    "- `ngram_range`: a tuple of two integers denoting the type of ngrams you want to extract, e.g. (1,2) denotes extracting unigrams and bigrams.\n",
    "- `token_pattern`: a string to be used within a regular expression to extract all tokens. Note that data is already tokenised so you could opt for a simple white space tokenisation.\n",
    "- `stop_words`: a list of stop words\n",
    "- `min_df`: keep ngrams with a minimum document frequency.\n",
    "- `keep_topN`: keep top-N more frequent ngrams.\n",
    "\n",
    "and returns:\n",
    "\n",
    "- `vocab`: a set of the n-grams that will be used as features.\n",
    "- `df`: a Counter (or dict) that contains ngrams as keys and their corresponding document frequency as values.\n",
    "- `ngram_counts`: counts of each ngram in vocab\n"
   ]
  },
  {
   "cell_type": "code",
   "execution_count": 6,
   "metadata": {
    "ExecuteTime": {
     "end_time": "2020-04-02T14:26:42.563876Z",
     "start_time": "2020-04-02T14:26:42.557967Z"
    },
    "scrolled": true
   },
   "outputs": [],
   "source": [
    "def get_vocab(X_raw, ngram_range=(1,3), token_pattern=r'\\b[A-Za-z][A-Za-z]+\\b', \n",
    "              min_df=0, keep_topN=0, \n",
    "              stop_words=[]):\n",
    "    vocab = set()\n",
    "    df = Counter()\n",
    "    ngram_counts = Counter()\n",
    "    \n",
    "    for doc in X_raw:\n",
    "        # Extract n-grams for each document\n",
    "        ngrams = extract_ngrams(doc, ngram_range, token_pattern, stop_words)\n",
    "        # Update document frequency (df) for each unique n-gram in this document\n",
    "        df.update(set(ngrams))\n",
    "        # Update overall n-gram counts\n",
    "        ngram_counts.update(ngrams)\n",
    "    \n",
    "    # Filter ngrams by document frequency (min_df)\n",
    "    if min_df > 0:\n",
    "        df = Counter({ngram: freq for ngram, freq in df.items() if freq >= min_df})\n",
    "        ngram_counts = Counter({ngram: freq for ngram, freq in ngram_counts.items() if ngram in df})\n",
    "    \n",
    "    # Keep only the top-N most frequent ngrams if keep_topN is specified\n",
    "    if keep_topN > 0:\n",
    "        vocab = set([ngram for ngram, freq in ngram_counts.most_common(keep_topN)])\n",
    "    else:\n",
    "        vocab = set(ngram_counts.keys())\n",
    "    \n",
    "    # Return only the ngrams that are in the vocab\n",
    "    df = Counter({ngram: freq for ngram, freq in df.items() if ngram in vocab})\n",
    "    ngram_counts = Counter({ngram: freq for ngram, freq in ngram_counts.items() if ngram in vocab})\n",
    "    \n",
    "    return vocab, df, ngram_counts\n"
   ]
  },
  {
   "cell_type": "markdown",
   "metadata": {},
   "source": [
    "Now you should use `get_vocab` to create your vocabulary and get document and raw frequencies of unigrams:"
   ]
  },
  {
   "cell_type": "code",
   "execution_count": 7,
   "metadata": {
    "ExecuteTime": {
     "end_time": "2020-04-02T14:26:43.577997Z",
     "start_time": "2020-04-02T14:26:43.478950Z"
    },
    "scrolled": true
   },
   "outputs": [
    {
     "name": "stdout",
     "output_type": "stream",
     "text": [
      "Random 10 words from the Vocabulary (Set of Unigrams):\n",
      "['let', 'scandal', 'khartoum', 'darfur', 'percent', 'reached', 'owen', 'cause', 'illinois', 'toronto']\n",
      "\n",
      "Document Frequencies (DF) of 10 Unigrams from the vocabulary:\n",
      "[('send', 17), ('water', 23), ('least', 61), ('used', 20), ('south', 51), ('troops', 65), ('sunday', 161), ('seoul', 4), ('decision', 30), ('protesters', 6)]\n",
      "\n",
      "Raw Frequencies of 10 Unigrams from the vocabulary:\n",
      "[('reuters', 737), ('south', 53), ('korean', 9), ('police', 55), ('used', 20), ('water', 24), ('central', 23), ('seoul', 4), ('sunday', 163), ('least', 61)]\n"
     ]
    }
   ],
   "source": [
    "vocab, df, ngram_counts = get_vocab(texts, \n",
    "                                    ngram_range=(1,1), \n",
    "                                    token_pattern=r'\\b[A-Za-z][A-Za-z]+\\b', \n",
    "                                    min_df=2, \n",
    "                                    keep_topN=3000, \n",
    "                                    stop_words=stop_words)\n",
    "\n",
    "# Display the results\n",
    "print(\"Random 10 words from the Vocabulary (Set of Unigrams):\") \n",
    "print(list(vocab)[:10])\n",
    "print(\"\\nDocument Frequencies (DF) of 10 Unigrams from the vocabulary:\")\n",
    "print(list(dict(df).items())[:10])\n",
    "print(\"\\nRaw Frequencies of 10 Unigrams from the vocabulary:\")\n",
    "print(list(dict(ngram_counts).items())[:10])"
   ]
  },
  {
   "cell_type": "markdown",
   "metadata": {},
   "source": [
    "Then, you need to create vocabulary id -> word and word -> vocabulary id dictionaries for reference:"
   ]
  },
  {
   "cell_type": "code",
   "execution_count": 8,
   "metadata": {
    "ExecuteTime": {
     "end_time": "2020-04-02T14:26:44.069661Z",
     "start_time": "2020-04-02T14:26:44.065058Z"
    },
    "scrolled": true
   },
   "outputs": [
    {
     "name": "stdout",
     "output_type": "stream",
     "text": [
      "Word -> ID Dictionary for 1st 10 words in vocabulary:\n",
      "[('abandon', 0), ('about', 1), ('above', 2), ('abroad', 3), ('ac', 4), ('accept', 5), ('accepted', 6), ('accident', 7), ('according', 8), ('account', 9)]\n",
      "\n",
      "ID -> Word Dictionary for 1st 10 words in vocabulary:\n",
      "[(0, 'abandon'), (1, 'about'), (2, 'above'), (3, 'abroad'), (4, 'ac'), (5, 'accept'), (6, 'accepted'), (7, 'accident'), (8, 'according'), (9, 'account')]\n"
     ]
    }
   ],
   "source": [
    "# Create a list from vocab to ensure consistent ordering\n",
    "vocab_list = sorted(list(vocab))\n",
    "\n",
    "# Create Word -> Vocabulary ID Dictionary\n",
    "word_to_id = {word: idx for idx, word in enumerate(vocab_list)}\n",
    "\n",
    "# Create Vocabulary ID -> Word Dictionary\n",
    "id_to_word = {idx: word for word, idx in word_to_id.items()}\n",
    "\n",
    "# Display the dictionaries\n",
    "print(\"Word -> ID Dictionary for 1st 10 words in vocabulary:\")\n",
    "print(list(word_to_id.items())[:10])\n",
    "print(\"\\nID -> Word Dictionary for 1st 10 words in vocabulary:\")\n",
    "print(list(id_to_word.items())[:10])"
   ]
  },
  {
   "cell_type": "markdown",
   "metadata": {},
   "source": [
    "### Convert the list of unigrams  into a list of vocabulary indices"
   ]
  },
  {
   "cell_type": "markdown",
   "metadata": {},
   "source": [
    "Storing actual one-hot vectors into memory for all words in the entire data set is prohibitive. Instead, we will store word indices in the vocabulary and look-up the weight matrix. This is equivalent of doing a dot product between an one-hot vector and the weight matrix. \n",
    "\n",
    "First, represent documents in train, dev and test sets as lists of words in the vocabulary:"
   ]
  },
  {
   "cell_type": "code",
   "execution_count": 9,
   "metadata": {
    "ExecuteTime": {
     "end_time": "2020-04-02T14:26:45.047887Z",
     "start_time": "2020-04-02T14:26:44.920631Z"
    },
    "scrolled": true
   },
   "outputs": [],
   "source": [
    "train_texts = df_train.iloc[:, 1].tolist()\n",
    "dev_texts = df_dev.iloc[:, 1].tolist()\n",
    "test_texts = df_test.iloc[:, 1].tolist()\n",
    "\n",
    "def docs_to_tokens(docs):\n",
    "    tokens_list = []\n",
    "    for doc in docs:\n",
    "         # Tokenize the document\n",
    "        tokens = extract_ngrams(doc, ngram_range=(1,1), token_pattern=r'\\b[A-Za-z][A-Za-z]+\\b', stop_words = stop_words)\n",
    "        tokens_list.append(tokens)\n",
    "    \n",
    "    return tokens_list\n",
    "\n",
    "train_tokens = docs_to_tokens(train_texts)\n",
    "dev_tokens = docs_to_tokens(dev_texts)\n",
    "test_tokens = docs_to_tokens(test_texts)"
   ]
  },
  {
   "cell_type": "markdown",
   "metadata": {},
   "source": [
    "Then convert them into lists of indices in the vocabulary:"
   ]
  },
  {
   "cell_type": "code",
   "execution_count": 10,
   "metadata": {
    "ExecuteTime": {
     "end_time": "2020-04-02T14:26:45.752658Z",
     "start_time": "2020-04-02T14:26:45.730409Z"
    },
    "scrolled": true
   },
   "outputs": [],
   "source": [
    "def tokens_to_indices(tokens_list, word_to_id):\n",
    "    token_indices = []\n",
    "    for tokens in tokens_list:\n",
    "        # Convert tokens to indices, filtering out tokens not in the vocabulary\n",
    "        indices = [word_to_id[word] for word in tokens if word in word_to_id]\n",
    "        token_indices.append(indices)\n",
    "    return token_indices\n",
    "\n",
    "# Assuming train_texts, dev_texts, and test_texts are your datasets\n",
    "train_indices = tokens_to_indices(train_tokens, word_to_id)\n",
    "dev_indices = tokens_to_indices(dev_tokens, word_to_id)\n",
    "test_indices = tokens_to_indices(test_tokens, word_to_id)"
   ]
  },
  {
   "cell_type": "markdown",
   "metadata": {},
   "source": [
    "Put the labels `Y` for train, dev and test sets into arrays: "
   ]
  },
  {
   "cell_type": "code",
   "execution_count": 11,
   "metadata": {
    "ExecuteTime": {
     "end_time": "2020-04-02T15:03:13.183996Z",
     "start_time": "2020-04-02T15:03:13.077575Z"
    },
    "scrolled": true
   },
   "outputs": [],
   "source": [
    "train_labels = df_train.iloc[:, 0].tolist()  # labels for the training set\n",
    "dev_labels = df_dev.iloc[:, 0].tolist()  # labels for the development set\n",
    "test_labels = df_test.iloc[:, 0].tolist()  # labels for the test set\n",
    "\n",
    "# Convert label lists into NumPy arrays\n",
    "Y_train = np.array(train_labels)\n",
    "Y_dev = np.array(dev_labels)\n",
    "Y_test = np.array(test_labels)\n"
   ]
  },
  {
   "cell_type": "markdown",
   "metadata": {},
   "source": [
    "# Network Architecture\n",
    "\n",
    "Your network should pass each word index into its corresponding embedding by looking-up on the embedding matrix and then compute the first hidden layer $\\mathbf{h}_1$:\n",
    "\n",
    "$$\\mathbf{h}_1 = \\frac{1}{|x|}\\sum_i W^e_i, i \\in x$$\n",
    "\n",
    "where $|x|$ is the number of words in the document and $W^e$ is an embedding matrix $|V|\\times d$, $|V|$ is the size of the vocabulary and $d$ the embedding size.\n",
    "\n",
    "Then $\\mathbf{h}_1$ should be passed through a ReLU activation function:\n",
    "\n",
    "$$\\mathbf{a}_1 = relu(\\mathbf{h}_1)$$\n",
    "\n",
    "Finally the hidden layer is passed to the output layer:\n",
    "\n",
    "\n",
    "$$\\mathbf{y} = \\text{softmax}(\\mathbf{a}_1W) $$ \n",
    "where $W$ is a matrix $d \\times |{\\cal Y}|$, $|{\\cal Y}|$ is the number of classes.\n",
    "\n",
    "During training, $\\mathbf{a}_1$ should be multiplied with a dropout mask vector (elementwise) for regularisation before it is passed to the output layer.\n",
    "\n",
    "You can extend to a deeper architecture by passing a hidden layer to another one:\n",
    "\n",
    "$$\\mathbf{h_i} = \\mathbf{a}_{i-1}W_i $$\n",
    "\n",
    "$$\\mathbf{a_i} = relu(\\mathbf{h_i}) $$\n",
    "\n"
   ]
  },
  {
   "cell_type": "markdown",
   "metadata": {},
   "source": [
    "# Network Training\n",
    "\n",
    "First we need to define the parameters of our network by initiliasing the weight matrices. For that purpose, you should implement the `network_weights` function that takes as input:\n",
    "\n",
    "- `vocab_size`: the size of the vocabulary\n",
    "- `embedding_dim`: the size of the word embeddings\n",
    "- `hidden_dim`: a list of the sizes of any subsequent hidden layers. Empty if there are no hidden layers between the average embedding and the output layer \n",
    "- `num_classes`: the number of the classes for the output layer\n",
    "\n",
    "and returns:\n",
    "\n",
    "- `W`: a dictionary mapping from layer index (e.g. 0 for the embedding matrix) to the corresponding weight matrix initialised with small random numbers (hint: use numpy.random.uniform with from -0.1 to 0.1)\n",
    "\n",
    "Make sure that the dimensionality of each weight matrix is compatible with the previous and next weight matrix, otherwise you won't be able to perform forward and backward passes. Consider also using np.float32 precision to save memory."
   ]
  },
  {
   "cell_type": "code",
   "execution_count": 12,
   "metadata": {
    "ExecuteTime": {
     "end_time": "2020-04-02T15:41:20.918617Z",
     "start_time": "2020-04-02T15:41:20.915597Z"
    },
    "scrolled": true
   },
   "outputs": [],
   "source": [
    "def network_weights(vocab_size=1000, embedding_dim=300, \n",
    "                    hidden_dim=[], num_classes=3, init_val = 0.1):\n",
    "    \"\"\"\n",
    "    Initialize the network's weights with an option to set the initialization value.\n",
    "\n",
    "    Parameters:\n",
    "    - vocab_size: The size of the vocabulary.\n",
    "    - embedding_dim: The size of the word embeddings.\n",
    "    - hidden_dim: A list of the sizes of any subsequent hidden layers.\n",
    "    - num_classes: The number of classes for the output layer.\n",
    "    - init_val: The maximum absolute value for initializing the weights.\n",
    "\n",
    "    Returns:\n",
    "    - W: A dictionary mapping from layer index to the corresponding weight matrix.\n",
    "    \"\"\"\n",
    "    np.random.seed(0)  # For reproducibility\n",
    "    W = {}\n",
    "\n",
    "    # Calculate the range for uniform distribution\n",
    "    low, high = -init_val, init_val\n",
    "\n",
    "    # Embedding layer weights\n",
    "    W[0] = np.random.uniform(low, high, (vocab_size, embedding_dim)).astype(np.float32)\n",
    "\n",
    "    prev_dim = embedding_dim\n",
    "\n",
    "    # Hidden layer weights\n",
    "    for i, hid_dim in enumerate(hidden_dim, start=1):\n",
    "        W[i] = np.random.uniform(low, high, (prev_dim, hid_dim)).astype(np.float32)\n",
    "        prev_dim = hid_dim\n",
    "\n",
    "    # Output layer weights\n",
    "    W[len(hidden_dim) + 1] = np.random.uniform(low, high, (prev_dim, num_classes)).astype(np.float32)\n",
    "\n",
    "    return W\n",
    "    "
   ]
  },
  {
   "cell_type": "code",
   "execution_count": 13,
   "metadata": {
    "ExecuteTime": {
     "end_time": "2020-04-02T14:26:48.636732Z",
     "start_time": "2020-04-02T14:26:48.634122Z"
    },
    "scrolled": true
   },
   "outputs": [],
   "source": [
    "W = network_weights(vocab_size=3,embedding_dim=4,hidden_dim=[2], num_classes=3)"
   ]
  },
  {
   "cell_type": "markdown",
   "metadata": {
    "ExecuteTime": {
     "end_time": "2020-04-01T10:31:57.970152Z",
     "start_time": "2020-04-01T10:31:57.966123Z"
    }
   },
   "source": [
    "Then you need to develop a `softmax` function (same as in Assignment 1) to be used in the output layer. \n",
    "\n",
    "It takes as input `z` (array of real numbers) and returns `sig` (the softmax of `z`)\n",
    "\n"
   ]
  },
  {
   "cell_type": "code",
   "execution_count": 14,
   "metadata": {},
   "outputs": [],
   "source": [
    "def softmax(z):\n",
    "    \"\"\"\n",
    "    Compute the softmax of array z.\n",
    "\n",
    "    Parameters:\n",
    "    - z: A numpy array of real numbers.\n",
    "\n",
    "    Returns:\n",
    "    - sig: The softmax of z.\n",
    "    \"\"\"\n",
    "    # Ensure numerical stability by subtracting the max from z by shifting the inputs to a range where the largest value is 0\n",
    "    #To avoid overflow problem\n",
    "    z_shifted = z - np.max(z) \n",
    "    \n",
    "    # Compute the softmax\n",
    "    exp_z = np.exp(z_shifted)\n",
    "    sum_exps = np.sum(exp_z)\n",
    "    \n",
    "    if sum_exps == 0:\n",
    "        sum_exps = 1e-9\n",
    "    \n",
    "    sig = exp_z / sum_exps\n",
    "    #print(sig)\n",
    "    \n",
    "    return sig"
   ]
  },
  {
   "cell_type": "markdown",
   "metadata": {},
   "source": [
    "Now you need to implement the categorical cross entropy loss by slightly modifying the function from Assignment 1 to depend only on the true label `y` and the class probabilities vector `y_preds`:\n"
   ]
  },
  {
   "cell_type": "code",
   "execution_count": 15,
   "metadata": {
    "ExecuteTime": {
     "end_time": "2020-04-02T14:26:51.360838Z",
     "start_time": "2020-04-02T14:26:51.356935Z"
    },
    "scrolled": true
   },
   "outputs": [],
   "source": [
    "def categorical_loss(y, y_preds):\n",
    "    # Select the predicted probability corresponding to the true class\n",
    "    p = y_preds[y-1]\n",
    "    # Compute the negative log of the probability\n",
    "    l = -np.log(p + 1e-9)\n",
    "    \n",
    "    return l"
   ]
  },
  {
   "cell_type": "markdown",
   "metadata": {
    "ExecuteTime": {
     "end_time": "2020-03-31T15:02:56.149535Z",
     "start_time": "2020-03-31T15:02:56.145738Z"
    }
   },
   "source": [
    "Then, implement the `relu` function to introduce non-linearity after each hidden layer of your network \n",
    "(during the forward pass): \n",
    "\n",
    "$$relu(z_i)= max(z_i,0)$$\n",
    "\n",
    "and the `relu_derivative` function to compute its derivative (used in the backward pass):\n",
    "\n",
    "  \n",
    "  relu_derivative($z_i$)=0, if $z_i$<=0, 1 otherwise.\n",
    "  \n",
    "\n",
    "\n",
    "Note that both functions take as input a vector $z$ \n",
    "\n",
    "Hint use .copy() to avoid in place changes in array z"
   ]
  },
  {
   "cell_type": "code",
   "execution_count": 16,
   "metadata": {
    "ExecuteTime": {
     "end_time": "2020-04-02T14:26:52.665236Z",
     "start_time": "2020-04-02T14:26:52.661519Z"
    },
    "scrolled": true
   },
   "outputs": [],
   "source": [
    "def relu(z):\n",
    "     # Ensure we do not modify the original input array\n",
    "    a = z.copy()\n",
    "\n",
    "    # Apply ReLU: max(z, 0) for each element in z\n",
    "    a[a < 0] = 0\n",
    "\n",
    "    return a\n",
    "    \n",
    "def relu_derivative(z):\n",
    "    # Ensure we do not modify the original input array\n",
    "    dz = z.copy()\n",
    "    \n",
    "    # Derivative is 1 for z > 0, 0 otherwise\n",
    "    dz[dz <= 0] = 0\n",
    "    dz[dz > 0] = 1\n",
    "    \n",
    "    return dz"
   ]
  },
  {
   "cell_type": "markdown",
   "metadata": {},
   "source": [
    "During training you should also apply a dropout mask element-wise after the activation function (i.e. vector of ones with a random percentage set to zero). The `dropout_mask` function takes as input:\n",
    "\n",
    "- `size`: the size of the vector that we want to apply dropout\n",
    "- `dropout_rate`: the percentage of elements that will be randomly set to zeros\n",
    "\n",
    "and returns:\n",
    "\n",
    "- `dropout_vec`: a vector with binary values (0 or 1)"
   ]
  },
  {
   "cell_type": "code",
   "execution_count": 17,
   "metadata": {
    "ExecuteTime": {
     "end_time": "2020-04-02T14:26:53.429192Z",
     "start_time": "2020-04-02T14:26:53.425301Z"
    },
    "scrolled": true
   },
   "outputs": [],
   "source": [
    "def dropout_mask(size, dropout_rate):\n",
    "     # Create a vector of ones with the given size\n",
    "    dropout_vec = np.ones(size)\n",
    "    \n",
    "    # Calculate the number of elements to set to zero based on the dropout rate\n",
    "    num_zeros = int(size * dropout_rate)\n",
    "    \n",
    "    # Generate random indices to set to zero\n",
    "    indices_to_zero = np.random.choice(range(size), size=num_zeros, replace=False)\n",
    "    \n",
    "    # Set the selected indices to zero\n",
    "    dropout_vec[indices_to_zero] = 0\n",
    "\n",
    "    return dropout_vec\n",
    "    "
   ]
  },
  {
   "cell_type": "code",
   "execution_count": 18,
   "metadata": {
    "ExecuteTime": {
     "end_time": "2020-04-02T14:26:53.853632Z",
     "start_time": "2020-04-02T14:26:53.849944Z"
    },
    "scrolled": true
   },
   "outputs": [
    {
     "name": "stdout",
     "output_type": "stream",
     "text": [
      "[1. 0. 1. 1. 1. 1. 1. 1. 0. 1.]\n",
      "[1. 1. 1. 0. 1. 1. 1. 1. 1. 0.]\n"
     ]
    }
   ],
   "source": [
    "print(dropout_mask(10, 0.2))\n",
    "print(dropout_mask(10, 0.2))"
   ]
  },
  {
   "cell_type": "markdown",
   "metadata": {},
   "source": [
    "Now you need to implement the `forward_pass` function that passes the input x through the network up to the output layer for computing the probability for each class using the weight matrices in `W`. The ReLU activation function should be applied on each hidden layer. \n",
    "\n",
    "- `x`: a list of vocabulary indices each corresponding to a word in the document (input)\n",
    "- `W`: a list of weight matrices connecting each part of the network, e.g. for a network with a hidden and an output layer: W[0] is the weight matrix that connects the input to the first hidden layer, W[1] is the weight matrix that connects the hidden layer to the output layer.\n",
    "- `dropout_rate`: the dropout rate that is used to generate a random dropout mask vector applied after each hidden layer for regularisation.\n",
    "\n",
    "and returns:\n",
    "\n",
    "- `out_vals`: a dictionary of output values from each layer: h (the vector before the activation function), a (the resulting vector after passing h from the activation function), its dropout mask vector; and the prediction vector (probability for each class) from the output layer."
   ]
  },
  {
   "cell_type": "code",
   "execution_count": 19,
   "metadata": {
    "ExecuteTime": {
     "end_time": "2020-04-02T14:26:54.761268Z",
     "start_time": "2020-04-02T14:26:54.753402Z"
    },
    "scrolled": true
   },
   "outputs": [],
   "source": [
    "def forward_pass(x, W, dropout_rate=0.2):\n",
    "    out_vals = {}\n",
    "\n",
    "    # Embedding layer: Average embeddings corresponding to input indices\n",
    "    avg_embedding = np.mean(W[0][x, :], axis=0) if len(x) > 0 else np.zeros(W[0].shape[1])\n",
    "    a = avg_embedding  # Initial activation from averaged embeddings\n",
    "\n",
    "    # Lists to store layer-wise outputs\n",
    "    #h_vecs = [np.zeros(W[0].shape[1])]  # Zero vector for embedding layer pre-activation\n",
    "    h_vecs = [np.sum(W[0][x, :], axis=0) if len(x) > 0 else np.zeros(W[0].shape[1])]\n",
    "    a_vecs = [avg_embedding]  # First activation is the averaged embedding\n",
    "    dropout_vecs = []  # Store dropout masks applied after each hidden layer\n",
    "\n",
    "    # Process hidden layers\n",
    "    for i in range(1, len(W) - 1):\n",
    "        h = np.dot(a, W[i])  # Compute pre-activation for current layer\n",
    "        a = relu(h)  # Apply ReLU activation function\n",
    "        dropout_vec = dropout_mask(a.shape[0], dropout_rate)  # Generate dropout mask\n",
    "        a = a * dropout_vec  # Apply dropout mask to activations\n",
    "        # Store outputs\n",
    "        h_vecs.append(h)\n",
    "        a_vecs.append(a)\n",
    "        dropout_vecs.append(dropout_vec)\n",
    "        \n",
    "    # Output layer\n",
    "    final_h = np.dot(a, W[len(W)-1])  # Pre-activation for output layer\n",
    "    prediction = softmax(final_h)  # Apply softmax to get class probabilities\n",
    "\n",
    "    # Compile outputs\n",
    "    out_vals['h'] = h_vecs\n",
    "    out_vals['a'] = a_vecs\n",
    "    out_vals['dropout_vecs'] = dropout_vecs\n",
    "    out_vals['prediction'] = prediction\n",
    "    \n",
    "    return out_vals\n",
    "    "
   ]
  },
  {
   "cell_type": "markdown",
   "metadata": {},
   "source": [
    "The `backward_pass` function computes the gradients and updates the weights for each matrix in the network from the output to the input. It takes as input \n",
    "\n",
    "- `x`: a list of vocabulary indices each corresponding to a word in the document (input)\n",
    "- `y`: the true label\n",
    "- `W`: a list of weight matrices connecting each part of the network, e.g. for a network with a hidden and an output layer: W[0] is the weight matrix that connects the input to the first hidden layer, W[1] is the weight matrix that connects the hidden layer to the output layer.\n",
    "- `out_vals`: a dictionary of output values from a forward pass.\n",
    "- `learning_rate`: the learning rate for updating the weights.\n",
    "- `freeze_emb`: boolean value indicating whether the embedding weights will be updated.\n",
    "\n",
    "and returns:\n",
    "\n",
    "- `W`: the updated weights of the network.\n",
    "\n",
    "Hint: the gradients on the output layer are similar to the multiclass logistic regression."
   ]
  },
  {
   "cell_type": "code",
   "execution_count": 20,
   "metadata": {},
   "outputs": [],
   "source": [
    "def backward_pass(x, y, W, out_vals, lr=0.001, freeze_emb=False):\n",
    "    grads = {}\n",
    "    num_layers = len(W) + 1\n",
    "    \n",
    "    # Output layer error (prediction - one-hot encoded true label)\n",
    "    d_out = out_vals['prediction'].copy()\n",
    "    d_out[y-1] -= 1 #derivative of loss wrt pre-activation value towards output layer \n",
    "    \n",
    "    # Loop through layers in reverse order to backpropagate the error\n",
    "    for i in range(num_layers - 2, 0, -1):\n",
    "        # Compute gradients for weights (dW)\n",
    "        if i == num_layers - 2:\n",
    "            grads[i] = np.outer(out_vals['a'][i-1], d_out) #derivative of loss wrt weights for output layer\n",
    "            d_prev = np.dot(d_out, W[i].T)\n",
    "        else:\n",
    "            # Apply derivative of activation function (ReLU in this case)\n",
    "            d_prev = d_prev * relu_derivative(out_vals['h'][i]) #derivative of loss wrt pre-activation value towards hidden layer \n",
    "            grads[i] = np.outer(out_vals['a'][i-1], d_prev) #derivative of loss wrt weights for hidden layer\n",
    "            d_prev = np.dot(d_prev, W[i].T) #derivative of loss wrt activation value as hidden layer output\n",
    "        \n",
    "        # Update weights\n",
    "        W[i] -= lr * grads[i] #Applying Gradien descent for updating weight matrices\n",
    "    \n",
    "    # Update embedding weights, if not frozen\n",
    "    if not freeze_emb:\n",
    "        for idx in x:\n",
    "            # Example fix, adjust based on actual intent and structure of d_prev\n",
    "            W[0][idx, :] -= lr * d_prev / len(x)  # Assuming d_prev is to be applied uniformly\n",
    "\n",
    "    \n",
    "    return W\n"
   ]
  },
  {
   "cell_type": "markdown",
   "metadata": {
    "ExecuteTime": {
     "end_time": "2020-02-15T14:08:59.937442Z",
     "start_time": "2020-02-15T14:08:59.932221Z"
    }
   },
   "source": [
    "Finally you need to modify SGD to support back-propagation by using the `forward_pass` and `backward_pass` functions.\n",
    "\n",
    "The `SGD` function takes as input:\n",
    "\n",
    "- `X_tr`: array of training data (vectors)\n",
    "- `Y_tr`: labels of `X_tr`\n",
    "- `W`: the weights of the network (dictionary)\n",
    "- `X_dev`: array of development (i.e. validation) data (vectors)\n",
    "- `Y_dev`: labels of `X_dev`\n",
    "- `lr`: learning rate\n",
    "- `dropout`: regularisation strength\n",
    "- `epochs`: number of full passes over the training data\n",
    "- `tolerance`: stop training if the difference between the current and previous validation loss is smaller than a threshold\n",
    "- `freeze_emb`: boolean value indicating whether the embedding weights will be updated (to be used by the backward pass function).\n",
    "- `print_progress`: flag for printing the training progress (train/validation loss)\n",
    "\n",
    "\n",
    "and returns:\n",
    "\n",
    "- `weights`: the weights learned\n",
    "- `training_loss_history`: an array with the average losses of the whole training set after each epoch\n",
    "- `validation_loss_history`: an array with the average losses of the whole development set after each epoch"
   ]
  },
  {
   "cell_type": "code",
   "execution_count": 21,
   "metadata": {
    "ExecuteTime": {
     "end_time": "2020-04-02T15:09:19.021428Z",
     "start_time": "2020-04-02T15:09:19.017835Z"
    },
    "scrolled": true
   },
   "outputs": [],
   "source": [
    "def SGD(X_tr, Y_tr, W, X_dev=[], Y_dev=[], lr=0.001, \n",
    "        dropout=0.2, epochs=5, tolerance=0.001, freeze_emb=False, \n",
    "        print_progress=True):\n",
    "    \n",
    "    training_loss_history = []\n",
    "    validation_loss_history = []\n",
    "\n",
    "    for epoch in range(epochs):\n",
    "        train_loss = 0\n",
    "        for x, y in zip(X_tr, Y_tr):\n",
    "            # Forward pass\n",
    "            out_vals = forward_pass(x, W, dropout)\n",
    "            # Calculate loss (assuming categorical_loss is implemented)\n",
    "            loss = categorical_loss(y, out_vals['prediction'])\n",
    "            train_loss += loss\n",
    "            # Backward pass\n",
    "            W = backward_pass(x, y, W, out_vals, lr, freeze_emb)\n",
    "        \n",
    "        # Average training loss for the epoch\n",
    "        avg_train_loss = train_loss / len(X_tr)\n",
    "        training_loss_history.append(avg_train_loss)\n",
    "\n",
    "        # Validation\n",
    "        if X_dev and Y_dev.any():\n",
    "            validation_loss = 0\n",
    "            for x, y in zip(X_dev, Y_dev):\n",
    "                out_vals = forward_pass(x, W, dropout)\n",
    "                loss = categorical_loss(y, out_vals['prediction'])\n",
    "                validation_loss += loss\n",
    "            avg_validation_loss = validation_loss / len(X_dev)\n",
    "            validation_loss_history.append(avg_validation_loss)\n",
    "            \n",
    "            # Early stopping\n",
    "            if epoch > 0 and (validation_loss_history[-2] - avg_validation_loss) < tolerance:\n",
    "                print(\"Early stopping triggered.\")\n",
    "                break\n",
    "        \n",
    "        # Print progress\n",
    "        if print_progress:\n",
    "            print(f\"Epoch {epoch+1}, Train Loss: {avg_train_loss:.4f}, Validation Loss: {avg_validation_loss:.4f}\")\n",
    "    \n",
    "\n",
    "    \n",
    "    \n",
    "    return W, training_loss_history, validation_loss_history"
   ]
  },
  {
   "cell_type": "markdown",
   "metadata": {
    "ExecuteTime": {
     "end_time": "2020-02-15T14:10:15.772383Z",
     "start_time": "2020-02-15T14:10:15.767855Z"
    }
   },
   "source": [
    "Now you are ready to train and evaluate your neural net. First, you need to define your network using the `network_weights` function followed by SGD with backprop:"
   ]
  },
  {
   "cell_type": "code",
   "execution_count": 22,
   "metadata": {
    "ExecuteTime": {
     "end_time": "2020-04-02T15:09:33.643515Z",
     "start_time": "2020-04-02T15:09:33.640943Z"
    },
    "scrolled": true
   },
   "outputs": [
    {
     "name": "stdout",
     "output_type": "stream",
     "text": [
      "Shape W0 (3000, 300)\n",
      "Shape W1 (300, 3)\n",
      "Using parameters, learning rate = 0.001 and epochs = 100\n",
      "Current lowest validation loss:  inf\n",
      "Validation loss:  0.7132776681453984\n",
      "Using parameters, learning rate = 0.001 and epochs = 200\n",
      "Current lowest validation loss:  0.7132776681453984\n",
      "Validation loss:  0.38773802700913546\n",
      "Using parameters, learning rate = 0.005 and epochs = 100\n",
      "Current lowest validation loss:  0.38773802700913546\n",
      "Validation loss:  0.2592022981611545\n",
      "Using parameters, learning rate = 0.005 and epochs = 200\n",
      "Early stopping triggered.\n",
      "Current lowest validation loss:  0.2592022981611545\n",
      "Validation loss:  0.2416315772451524\n",
      "Using parameters, learning rate = 0.008 and epochs = 100\n",
      "Current lowest validation loss:  0.2416315772451524\n",
      "Validation loss:  0.2419789031289795\n",
      "Using parameters, learning rate = 0.008 and epochs = 200\n",
      "Early stopping triggered.\n",
      "Current lowest validation loss:  0.2416315772451524\n",
      "Validation loss:  0.24032607421570057\n",
      "Best model hyperparmeters, learning rate = 0.008, epochs = 200 and validation loss = 0.24032607421570057\n"
     ]
    }
   ],
   "source": [
    "learning_rates = [1e-3,5e-3,8e-3]\n",
    "epochs = [100,200]\n",
    "val_loss = float('inf')\n",
    "\n",
    "model = {}\n",
    "W = network_weights(vocab_size=len(vocab),embedding_dim=300,\n",
    "                    hidden_dim=[], num_classes=3)\n",
    "for i in range(len(W)):\n",
    "            print('Shape W'+str(i), W[i].shape)\n",
    "\n",
    "\n",
    "for lr in learning_rates:\n",
    "    for epoch in epochs:\n",
    "        W = network_weights(vocab_size=len(vocab),embedding_dim=300,\n",
    "                    hidden_dim=[], num_classes=3)\n",
    "        \n",
    "        print(f'Using parameters, learning rate = {lr} and epochs = {epoch}')\n",
    "\n",
    "        W, loss_tr, dev_loss = SGD(X_tr = train_indices, Y_tr = Y_train,\n",
    "                                    W = W,\n",
    "                                    X_dev=dev_indices, \n",
    "                                    Y_dev=Y_dev,\n",
    "                                    lr= lr, \n",
    "                                    dropout=None,   #Dropout set to None as it does not affect the architecture in this model\n",
    "                                    freeze_emb=False,\n",
    "                                    tolerance=1e-5,\n",
    "                                    epochs=epoch,\n",
    "                                    print_progress=False)\n",
    "        \n",
    "        print('Current lowest validation loss: ', val_loss)\n",
    "        print('Validation loss: ',dev_loss[-1])\n",
    "        \n",
    "        if dev_loss[-1] < val_loss:\n",
    "            val_loss = dev_loss[-1]\n",
    "            model['loss'] = val_loss\n",
    "            model['W'] = W\n",
    "            model['epochs'] = epoch\n",
    "            model['learning_rate'] = lr\n",
    "            model['dev_loss'] = dev_loss\n",
    "            model['loss_tr'] = loss_tr\n",
    "\n",
    "print(f'Best model hyperparmeters, learning rate = {model[\"learning_rate\"]}, epochs = {model[\"epochs\"]} and validation loss = {model[\"loss\"]}')"
   ]
  },
  {
   "cell_type": "markdown",
   "metadata": {},
   "source": [
    "Plot the learning process:"
   ]
  },
  {
   "cell_type": "code",
   "execution_count": 23,
   "metadata": {
    "ExecuteTime": {
     "end_time": "2020-04-02T14:27:15.716497Z",
     "start_time": "2020-04-02T14:27:15.612736Z"
    },
    "scrolled": true
   },
   "outputs": [
    {
     "data": {
      "image/png": "[encoded data removed]",
      "text/plain": [
       "<Figure size 1000x600 with 1 Axes>"
      ]
     },
     "metadata": {},
     "output_type": "display_data"
    }
   ],
   "source": [
    "import matplotlib.pyplot as plt\n",
    "\n",
    "# Assuming training_loss_history and validation_loss_history are populated\n",
    "epochs = range(1, len(model['loss_tr']) + 1)\n",
    "\n",
    "plt.figure(figsize=(10, 6))  # Set figure size\n",
    "plt.plot(epochs, model['loss_tr'], 'b-', label='Training Loss')\n",
    "plt.plot(epochs, model['dev_loss'], 'r-', label='Development Loss')\n",
    "plt.title('Training and Development Loss')\n",
    "plt.xlabel('Epochs')\n",
    "plt.ylabel('Loss')\n",
    "plt.legend()\n",
    "plt.grid()\n",
    "\n",
    "plt.show()"
   ]
  },
  {
   "cell_type": "markdown",
   "metadata": {},
   "source": [
    "Compute accuracy, precision, recall and F1-Score:"
   ]
  },
  {
   "cell_type": "code",
   "execution_count": 24,
   "metadata": {
    "ExecuteTime": {
     "end_time": "2020-04-02T15:10:11.037495Z",
     "start_time": "2020-04-02T15:10:11.034999Z"
    },
    "scrolled": true
   },
   "outputs": [
    {
     "name": "stdout",
     "output_type": "stream",
     "text": [
      "Accuracy: 0.9060402684563759\n",
      "Precision: 0.9082924168030551\n",
      "Recall: 0.9059863945578231\n",
      "F1-Score: 0.9065802456534313\n"
     ]
    }
   ],
   "source": [
    "preds_te = [np.argmax(forward_pass(x, model['W'], dropout_rate=0.0)['prediction']) \n",
    "            for x,y in zip(test_indices,Y_test)]\n",
    "\n",
    "preds_te1 = []\n",
    "\n",
    "for i in preds_te:\n",
    "    preds_te1.append(i+1)\n",
    "\n",
    "\n",
    "print('Accuracy:', accuracy_score(Y_test,preds_te1))\n",
    "print('Precision:', precision_score(Y_test,preds_te1,average='macro'))\n",
    "print('Recall:', recall_score(Y_test,preds_te1,average='macro'))\n",
    "print('F1-Score:', f1_score(Y_test,preds_te1,average='macro'))"
   ]
  },
  {
   "cell_type": "markdown",
   "metadata": {},
   "source": [
    "### Discuss how did you choose model hyperparameters ? "
   ]
  },
  {
   "cell_type": "markdown",
   "metadata": {},
   "source": [
    "The process for determining the hyperparameter combinations is outlined as follows:\n",
    "\n",
    "1. **Defining Hyperparameters**: Learning rates and epochs were specified as `[1e-3, 5e-3, 8e-3]` and `[100, 200]`, respectively, aiming for a balance between learning efficiency and convergence. \n",
    "   - The selection of learning rates considers the trade-off between faster rates, which risk overshooting minima, and slower rates, which may lead to prolonged convergence.\n",
    "   - Epochs, representing the dataset passes, balance underfitting with fewer epochs and potential overfitting with more, mitigated by `early stopping` based on tolerance between validation loss progress in case validation loss does not improve by a minimum of the tolerance value.\n",
    "\n",
    "2. **Initialization**: `val_loss` was set to infinity, and an empty dictionary, `model`, was created to store the best hyperparameter configurations based on validation loss.\n",
    "\n",
    "3. **Exploring Combinations**: Nested loops iterated through each learning rate and epoch combination. For each:\n",
    "   - Weights were initialized using `network_weights()`.\n",
    "   - Training occurred via Stochastic Gradient Descent (SGD), encompassing forward and backward passes and calculation of categorical loss.\n",
    "   - The average validation loss was evaluated post-training per epoch, alongside average training loss for performance analysis.\n",
    "\n",
    "4. **Evaluating Performance**: If a configuration resulted in lower validation loss than previously recorded, `val_loss` was updated, and the configuration stored in `model`.\n",
    "\n",
    "5. **Selecting Optimal Configuration**: After testing all combinations, the configuration with the lowest validation loss was identified as optimal, with its parameters displayed.\n",
    "\n",
    "This approach guarantees a comprehensive examination of hyperparameter influences, enhancing model performance via methodical testing and refinements. The best hyperparameters identified were `learning rate = 0.008` and `epochs = 200`.\n",
    "\n",
    "The table for validation losses for each hyperparameter combination is given below:\n",
    "\n",
    "| Learning Rate | Epochs | Validation Loss     |\n",
    "|---------------|--------|---------------------|\n",
    "| 0.001         | 100    | 0.7132776681453984  |\n",
    "| 0.001         | 200    | 0.38773802700913546 |\n",
    "| 0.005         | 100    | 0.2592022981611545  |\n",
    "| 0.005         | 200    | 0.2416315772451524  |\n",
    "| 0.008         | 100    | 0.2419789031289795  |\n",
    "| 0.008         | 200    | 0.24032607421570057 |"
   ]
  },
  {
   "cell_type": "markdown",
   "metadata": {},
   "source": [
    "# Use Pre-trained Embeddings\n",
    "\n",
    "Now re-train the network using GloVe pre-trained embeddings. You need to modify the `backward_pass` function above to stop computing gradients and updating weights of the embedding matrix.\n",
    "\n",
    "Use the function below to obtain the embedding martix for your vocabulary. Generally, that should work without any problem. If you get errors, you can modify it."
   ]
  },
  {
   "cell_type": "code",
   "execution_count": 25,
   "metadata": {
    "ExecuteTime": {
     "end_time": "2020-04-02T14:27:32.020697Z",
     "start_time": "2020-04-02T14:27:32.015733Z"
    },
    "scrolled": true
   },
   "outputs": [],
   "source": [
    "def get_glove_embeddings(f_zip, f_txt, word2id, emb_size=300):\n",
    "    \n",
    "    w_emb = np.zeros((len(word2id), emb_size))\n",
    "    \n",
    "    with zipfile.ZipFile(f_zip) as z:\n",
    "        with z.open(f_txt) as f:\n",
    "            for line in f:\n",
    "                line = line.decode('utf-8')\n",
    "                word = line.split()[0]\n",
    "                     \n",
    "                if word in vocab:\n",
    "                    emb = np.array(line.strip('\\n').split()[1:]).astype(np.float32)\n",
    "                    w_emb[word2id[word]] +=emb\n",
    "    return w_emb"
   ]
  },
  {
   "cell_type": "code",
   "execution_count": 26,
   "metadata": {
    "ExecuteTime": {
     "end_time": "2020-04-02T14:28:54.548613Z",
     "start_time": "2020-04-02T14:27:32.780248Z"
    },
    "scrolled": true
   },
   "outputs": [],
   "source": [
    "w_glove = get_glove_embeddings(\"glove.840B.300d.zip\",\"glove.840B.300d.txt\",word_to_id)"
   ]
  },
  {
   "cell_type": "markdown",
   "metadata": {},
   "source": [
    "First, initialise the weights of your network using the `network_weights` function. Second, replace the weigths of the embedding matrix with `w_glove`. Finally, train the network by freezing the embedding weights: "
   ]
  },
  {
   "cell_type": "code",
   "execution_count": 47,
   "metadata": {
    "ExecuteTime": {
     "end_time": "2020-04-02T14:30:11.121198Z",
     "start_time": "2020-04-02T14:29:24.946124Z"
    },
    "scrolled": true
   },
   "outputs": [
    {
     "name": "stdout",
     "output_type": "stream",
     "text": [
      "Shape W0 (3000, 300)\n",
      "Shape W1 (300, 3)\n",
      "Using parameters, learning rate = 1e-05 and epochs = 300\n",
      "Early stopping triggered.\n",
      "Current lowest validation loss:  inf\n",
      "Validation loss:  0.5883742153005599\n",
      "Using parameters, learning rate = 1e-05 and epochs = 400\n",
      "Early stopping triggered.\n",
      "Current lowest validation loss:  0.5883742153005599\n",
      "Validation loss:  0.5883742153005599\n",
      "Using parameters, learning rate = 5e-05 and epochs = 300\n",
      "Early stopping triggered.\n",
      "Current lowest validation loss:  0.5883742153005599\n",
      "Validation loss:  0.37430071738665\n",
      "Using parameters, learning rate = 5e-05 and epochs = 400\n",
      "Early stopping triggered.\n",
      "Current lowest validation loss:  0.37430071738665\n",
      "Validation loss:  0.37430071738665\n",
      "Using parameters, learning rate = 8e-05 and epochs = 300\n",
      "Early stopping triggered.\n",
      "Current lowest validation loss:  0.37430071738665\n",
      "Validation loss:  0.33719937221397417\n",
      "Using parameters, learning rate = 8e-05 and epochs = 400\n",
      "Early stopping triggered.\n",
      "Current lowest validation loss:  0.33719937221397417\n",
      "Validation loss:  0.33719937221397417\n",
      "Best model hyperparmeters, learning rate = 8e-05, epochs = 300 and validation loss = 0.33719937221397417\n"
     ]
    }
   ],
   "source": [
    "learning_rates = [1e-5,5e-5,8e-5]\n",
    "epochs = [300,400]\n",
    "val_loss = float('inf')\n",
    "\n",
    "model = {}\n",
    "W = network_weights(vocab_size=len(vocab),embedding_dim=300,\n",
    "                    hidden_dim=[], num_classes=3)\n",
    "for i in range(len(W)):\n",
    "            print('Shape W'+str(i), W[i].shape)\n",
    "\n",
    "\n",
    "for lr in learning_rates:\n",
    "    for epoch in epochs:\n",
    "        W = network_weights(vocab_size=len(vocab),embedding_dim=300,\n",
    "                    hidden_dim=[], num_classes=3)\n",
    "        \n",
    "        W[0] = w_glove\n",
    "        \n",
    "        print(f'Using parameters, learning rate = {lr} and epochs = {epoch}')\n",
    "\n",
    "        W, loss_tr, dev_loss = SGD(X_tr = train_indices, Y_tr = Y_train,\n",
    "                                    W = W,\n",
    "                                    X_dev=dev_indices, \n",
    "                                    Y_dev=Y_dev,\n",
    "                                    lr= lr, \n",
    "                                    dropout=None,   #Dropout set to None as it does not affect the architecture in this model\n",
    "                                    freeze_emb=True,\n",
    "                                    tolerance=1e-3,\n",
    "                                    epochs=epoch,\n",
    "                                    print_progress=False)\n",
    "        \n",
    "        print('Current lowest validation loss: ', val_loss)\n",
    "        print('Validation loss: ',dev_loss[-1])\n",
    "        \n",
    "        if dev_loss[-1] < val_loss:\n",
    "            val_loss = dev_loss[-1]\n",
    "            model['loss'] = val_loss\n",
    "            model['W'] = W\n",
    "            model['epochs'] = epoch\n",
    "            model['learning_rate'] = lr\n",
    "            model['dev_loss'] = dev_loss\n",
    "            model['loss_tr'] = loss_tr\n",
    "\n",
    "\n",
    "print(f'Best model hyperparmeters, learning rate = {model[\"learning_rate\"]}, epochs = {model[\"epochs\"]} and validation loss = {model[\"loss\"]}')"
   ]
  },
  {
   "cell_type": "code",
   "execution_count": 48,
   "metadata": {},
   "outputs": [
    {
     "data": {
      "image/png": "[encoded data removed]",
      "text/plain": [
       "<Figure size 1000x600 with 1 Axes>"
      ]
     },
     "metadata": {},
     "output_type": "display_data"
    }
   ],
   "source": [
    "import matplotlib.pyplot as plt\n",
    "\n",
    "# Assuming training_loss_history and validation_loss_history are populated\n",
    "epochs = range(1, len(model['loss_tr']) + 1)\n",
    "\n",
    "plt.figure(figsize=(10, 6))  # Set figure size\n",
    "plt.plot(epochs, model['loss_tr'], 'b-', label='Training Loss')\n",
    "plt.plot(epochs, model['dev_loss'], 'r-', label='Development Loss')\n",
    "plt.title('Training and Development Loss')\n",
    "plt.xlabel('Epochs')\n",
    "plt.ylabel('Loss')\n",
    "plt.legend()\n",
    "plt.grid()\n",
    "\n",
    "plt.show()"
   ]
  },
  {
   "cell_type": "code",
   "execution_count": 49,
   "metadata": {
    "ExecuteTime": {
     "end_time": "2020-04-02T15:12:00.815184Z",
     "start_time": "2020-04-02T15:12:00.812563Z"
    },
    "scrolled": true
   },
   "outputs": [
    {
     "name": "stdout",
     "output_type": "stream",
     "text": [
      "Accuracy: 0.9194630872483222\n",
      "Precision: 0.9231463571889104\n",
      "Recall: 0.9191836734693877\n",
      "F1-Score: 0.9200478645066273\n"
     ]
    }
   ],
   "source": [
    "preds_te = [np.argmax(forward_pass(x, model['W'], dropout_rate=0.0)['prediction']) \n",
    "            for x,y in zip(test_indices,Y_test)]\n",
    "\n",
    "preds_te1 = []\n",
    "\n",
    "for i in preds_te:\n",
    "    preds_te1.append(i+1)\n",
    "\n",
    "\n",
    "print('Accuracy:', accuracy_score(Y_test,preds_te1))\n",
    "print('Precision:', precision_score(Y_test,preds_te1,average='macro'))\n",
    "print('Recall:', recall_score(Y_test,preds_te1,average='macro'))\n",
    "print('F1-Score:', f1_score(Y_test,preds_te1,average='macro'))"
   ]
  },
  {
   "cell_type": "markdown",
   "metadata": {},
   "source": [
    "### Discuss how did you choose model hyperparameters ? "
   ]
  },
  {
   "cell_type": "markdown",
   "metadata": {},
   "source": [
    "The approach to determining hyperparameter combinations is structured as follows:\n",
    "\n",
    "#### Hyperparameter Grid:\n",
    "- **Learning Rates**: Three values, `[1e-5, 5e-5, 8e-5]`, were chosen to fine-tune the model's responsiveness to subtle changes. Lower rates prioritize stable convergence, while higher rates aim for faster convergence, although potentially introducing instability.\n",
    "- **Epochs**: Two values, `[300, 400]`, were selected to explore extended training durations, allowing for deeper learning and weight refinement. This enhances learning potential but raises the risk of overfitting, mitigated by an early stopping condition in case validation loss does not improve by a minimum of tolerance value.\n",
    "\n",
    "#### Model Setup and Configuration:\n",
    "- **Initial Setup**: The model initializes with `val_loss` set to infinity for easy progress tracking. The initial layer's weights are fixed with GloVe embeddings to leverage prior learning and ensure stable initial training.\n",
    "\n",
    "#### Iterative Training and Evaluation:\n",
    "- **Training**: Each hyperparameter combination undergoes training via Stochastic Gradient Descent (SGD), with an `early stopping` mechanism in place. The `freeze_emb` parameter remains `True` to preserve initial layer weights.\n",
    "- **Evaluation**: Following training, average validation loss is compared with the lowest recorded loss. Any improvements prompt an update to the model configuration, adjusting the best validation loss and storing hyperparameters in the `model` dictionary.\n",
    "\n",
    "#### Optimal Parameter Selection:\n",
    "- After exploring all combinations, those yielding the lowest validation loss are identified as optimal. This encompasses specific learning rates and epoch counts.\n",
    "\n",
    "This meticulous grid search methodology systematically examines how different settings influence model performance, favoring configurations associated with minimal validation loss. Despite its computational intensity, it's valued for its thoroughness in optimizing model performance. The best hyperparameter configuration obtained are `learning rate = 8e-5` and `epochs = 300`.\n",
    "\n",
    "The table for validation losses for each hyperparameter combination:\n",
    "\n",
    "| Learning Rate | Epochs | Validation Loss     |\n",
    "|---------------|--------|---------------------|\n",
    "| 1e-05         | 300    | 0.5883742153005599  |\n",
    "| 1e-05         | 400    | 0.5883742153005599  |\n",
    "| 5e-05         | 300    | 0.37430071738665    |\n",
    "| 5e-05         | 400    | 0.37430071738665    |\n",
    "| 8e-05         | 300    | 0.33719937221397417 |\n",
    "| 8e-05         | 400    | 0.33719937221397417 |"
   ]
  },
  {
   "cell_type": "markdown",
   "metadata": {},
   "source": [
    "# Extend to support deeper architectures \n",
    "\n",
    "Extend the network to support back-propagation for more hidden layers. You need to modify the `backward_pass` function above to compute gradients and update the weights between intermediate hidden layers. Finally, train and evaluate a network with a deeper architecture. Do deeper architectures increase performance?"
   ]
  },
  {
   "cell_type": "code",
   "execution_count": 50,
   "metadata": {
    "ExecuteTime": {
     "end_time": "2020-04-02T14:58:51.764619Z",
     "start_time": "2020-04-02T14:58:47.483690Z"
    },
    "scrolled": true
   },
   "outputs": [
    {
     "name": "stdout",
     "output_type": "stream",
     "text": [
      "Shape W0 (3000, 300)\n",
      "Shape W1 (300, 100)\n",
      "Shape W2 (100, 3)\n",
      "Using parameters, learning rate = 1e-06, epochs = 300, dropout rate = 0.009 and hidden dimensions = [100]\n",
      "Current lowest validation loss:  inf\n",
      "Validation loss:  1.060878366996014\n",
      "Shape W0 (3000, 300)\n",
      "Shape W1 (300, 300)\n",
      "Shape W2 (300, 3)\n",
      "Using parameters, learning rate = 1e-06, epochs = 300, dropout rate = 0.009 and hidden dimensions = [300]\n",
      "Early stopping triggered.\n",
      "Current lowest validation loss:  1.060878366996014\n",
      "Validation loss:  1.094861345920171\n",
      "Shape W0 (3000, 300)\n",
      "Shape W1 (300, 100)\n",
      "Shape W2 (100, 3)\n",
      "Using parameters, learning rate = 1e-06, epochs = 300, dropout rate = 0.4 and hidden dimensions = [100]\n",
      "Early stopping triggered.\n",
      "Current lowest validation loss:  1.060878366996014\n",
      "Validation loss:  1.0993407592776276\n",
      "Shape W0 (3000, 300)\n",
      "Shape W1 (300, 300)\n",
      "Shape W2 (300, 3)\n",
      "Using parameters, learning rate = 1e-06, epochs = 300, dropout rate = 0.4 and hidden dimensions = [300]\n",
      "Early stopping triggered.\n",
      "Current lowest validation loss:  1.060878366996014\n",
      "Validation loss:  1.1011493863828534\n",
      "Shape W0 (3000, 300)\n",
      "Shape W1 (300, 100)\n",
      "Shape W2 (100, 3)\n",
      "Using parameters, learning rate = 1e-06, epochs = 400, dropout rate = 0.009 and hidden dimensions = [100]\n",
      "Current lowest validation loss:  1.060878366996014\n",
      "Validation loss:  1.0491016540311457\n",
      "Shape W0 (3000, 300)\n",
      "Shape W1 (300, 300)\n",
      "Shape W2 (300, 3)\n",
      "Using parameters, learning rate = 1e-06, epochs = 400, dropout rate = 0.009 and hidden dimensions = [300]\n",
      "Early stopping triggered.\n",
      "Current lowest validation loss:  1.0491016540311457\n",
      "Validation loss:  1.094861345920171\n",
      "Shape W0 (3000, 300)\n",
      "Shape W1 (300, 100)\n",
      "Shape W2 (100, 3)\n",
      "Using parameters, learning rate = 1e-06, epochs = 400, dropout rate = 0.4 and hidden dimensions = [100]\n",
      "Early stopping triggered.\n",
      "Current lowest validation loss:  1.0491016540311457\n",
      "Validation loss:  1.0993407592776276\n",
      "Shape W0 (3000, 300)\n",
      "Shape W1 (300, 300)\n",
      "Shape W2 (300, 3)\n",
      "Using parameters, learning rate = 1e-06, epochs = 400, dropout rate = 0.4 and hidden dimensions = [300]\n",
      "Early stopping triggered.\n",
      "Current lowest validation loss:  1.0491016540311457\n",
      "Validation loss:  1.1011493863828534\n",
      "Shape W0 (3000, 300)\n",
      "Shape W1 (300, 100)\n",
      "Shape W2 (100, 3)\n",
      "Using parameters, learning rate = 2e-05, epochs = 300, dropout rate = 0.009 and hidden dimensions = [100]\n",
      "Current lowest validation loss:  1.0491016540311457\n",
      "Validation loss:  0.27039444171872007\n",
      "Shape W0 (3000, 300)\n",
      "Shape W1 (300, 300)\n",
      "Shape W2 (300, 3)\n",
      "Using parameters, learning rate = 2e-05, epochs = 300, dropout rate = 0.009 and hidden dimensions = [300]\n",
      "Early stopping triggered.\n",
      "Current lowest validation loss:  0.27039444171872007\n",
      "Validation loss:  0.39393502240205436\n",
      "Shape W0 (3000, 300)\n",
      "Shape W1 (300, 100)\n",
      "Shape W2 (100, 3)\n",
      "Using parameters, learning rate = 2e-05, epochs = 300, dropout rate = 0.4 and hidden dimensions = [100]\n",
      "Early stopping triggered.\n",
      "Current lowest validation loss:  0.27039444171872007\n",
      "Validation loss:  1.0961437724958372\n",
      "Shape W0 (3000, 300)\n",
      "Shape W1 (300, 300)\n",
      "Shape W2 (300, 3)\n",
      "Using parameters, learning rate = 2e-05, epochs = 300, dropout rate = 0.4 and hidden dimensions = [300]\n",
      "Early stopping triggered.\n",
      "Current lowest validation loss:  0.27039444171872007\n",
      "Validation loss:  1.0891813760287834\n",
      "Shape W0 (3000, 300)\n",
      "Shape W1 (300, 100)\n",
      "Shape W2 (100, 3)\n",
      "Using parameters, learning rate = 2e-05, epochs = 400, dropout rate = 0.009 and hidden dimensions = [100]\n",
      "Current lowest validation loss:  0.27039444171872007\n",
      "Validation loss:  0.2367237532784828\n",
      "Shape W0 (3000, 300)\n",
      "Shape W1 (300, 300)\n",
      "Shape W2 (300, 3)\n",
      "Using parameters, learning rate = 2e-05, epochs = 400, dropout rate = 0.009 and hidden dimensions = [300]\n",
      "Early stopping triggered.\n",
      "Current lowest validation loss:  0.2367237532784828\n",
      "Validation loss:  0.39393502240205436\n",
      "Shape W0 (3000, 300)\n",
      "Shape W1 (300, 100)\n",
      "Shape W2 (100, 3)\n",
      "Using parameters, learning rate = 2e-05, epochs = 400, dropout rate = 0.4 and hidden dimensions = [100]\n",
      "Early stopping triggered.\n",
      "Current lowest validation loss:  0.2367237532784828\n",
      "Validation loss:  1.0961437724958372\n",
      "Shape W0 (3000, 300)\n",
      "Shape W1 (300, 300)\n",
      "Shape W2 (300, 3)\n",
      "Using parameters, learning rate = 2e-05, epochs = 400, dropout rate = 0.4 and hidden dimensions = [300]\n",
      "Early stopping triggered.\n",
      "Current lowest validation loss:  0.2367237532784828\n",
      "Validation loss:  1.0891813760287834\n",
      "Shape W0 (3000, 300)\n",
      "Shape W1 (300, 100)\n",
      "Shape W2 (100, 3)\n",
      "Using parameters, learning rate = 5e-05, epochs = 300, dropout rate = 0.009 and hidden dimensions = [100]\n",
      "Current lowest validation loss:  0.2367237532784828\n",
      "Validation loss:  0.19784047474683744\n",
      "Shape W0 (3000, 300)\n",
      "Shape W1 (300, 300)\n",
      "Shape W2 (300, 3)\n",
      "Using parameters, learning rate = 5e-05, epochs = 300, dropout rate = 0.009 and hidden dimensions = [300]\n",
      "Early stopping triggered.\n",
      "Current lowest validation loss:  0.19784047474683744\n",
      "Validation loss:  0.32767017843736734\n",
      "Shape W0 (3000, 300)\n",
      "Shape W1 (300, 100)\n",
      "Shape W2 (100, 3)\n",
      "Using parameters, learning rate = 5e-05, epochs = 300, dropout rate = 0.4 and hidden dimensions = [100]\n",
      "Early stopping triggered.\n",
      "Current lowest validation loss:  0.19784047474683744\n",
      "Validation loss:  1.091128271065582\n",
      "Shape W0 (3000, 300)\n",
      "Shape W1 (300, 300)\n",
      "Shape W2 (300, 3)\n",
      "Using parameters, learning rate = 5e-05, epochs = 300, dropout rate = 0.4 and hidden dimensions = [300]\n",
      "Early stopping triggered.\n",
      "Current lowest validation loss:  0.19784047474683744\n",
      "Validation loss:  1.0705038041835337\n",
      "Shape W0 (3000, 300)\n",
      "Shape W1 (300, 100)\n",
      "Shape W2 (100, 3)\n",
      "Using parameters, learning rate = 5e-05, epochs = 400, dropout rate = 0.009 and hidden dimensions = [100]\n",
      "Current lowest validation loss:  0.19784047474683744\n",
      "Validation loss:  0.1863730005664646\n",
      "Shape W0 (3000, 300)\n",
      "Shape W1 (300, 300)\n",
      "Shape W2 (300, 3)\n",
      "Using parameters, learning rate = 5e-05, epochs = 400, dropout rate = 0.009 and hidden dimensions = [300]\n",
      "Early stopping triggered.\n",
      "Current lowest validation loss:  0.1863730005664646\n",
      "Validation loss:  0.32767017843736734\n",
      "Shape W0 (3000, 300)\n",
      "Shape W1 (300, 100)\n",
      "Shape W2 (100, 3)\n",
      "Using parameters, learning rate = 5e-05, epochs = 400, dropout rate = 0.4 and hidden dimensions = [100]\n",
      "Early stopping triggered.\n",
      "Current lowest validation loss:  0.1863730005664646\n",
      "Validation loss:  1.091128271065582\n",
      "Shape W0 (3000, 300)\n",
      "Shape W1 (300, 300)\n",
      "Shape W2 (300, 3)\n",
      "Using parameters, learning rate = 5e-05, epochs = 400, dropout rate = 0.4 and hidden dimensions = [300]\n",
      "Early stopping triggered.\n",
      "Current lowest validation loss:  0.1863730005664646\n",
      "Validation loss:  1.0705038041835337\n",
      "Best model hyperparmeters, learning rate = 5e-05, epochs = 400, hidden dimensions = [100], dropout rate = 0.009 and validation loss = 0.1863730005664646\n"
     ]
    }
   ],
   "source": [
    "learning_rates = [1e-6,2e-5,5e-5]\n",
    "epochs = [300,400]\n",
    "dr = [0.009,0.4]\n",
    "hd = [[100],[300]]\n",
    "val_loss = float('inf')\n",
    "\n",
    "model = {}\n",
    "\n",
    "\n",
    "for lr in learning_rates:\n",
    "    for epoch in epochs:\n",
    "        for dropout in dr:\n",
    "              for hid_dim in hd:\n",
    "                W = network_weights(vocab_size=len(vocab),embedding_dim=300,\n",
    "                            hidden_dim=hid_dim, num_classes=3)\n",
    "                \n",
    "                for i in range(len(W)):\n",
    "                    print('Shape W'+str(i), W[i].shape)\n",
    "                \n",
    "                W[0] = w_glove\n",
    "                \n",
    "                print(f'Using parameters, learning rate = {lr}, epochs = {epoch}, dropout rate = {dropout} and hidden dimensions = {hid_dim}')\n",
    "\n",
    "                W, loss_tr, dev_loss = SGD(X_tr = train_indices, Y_tr = Y_train,\n",
    "                                            W = W,\n",
    "                                            X_dev=dev_indices, \n",
    "                                            Y_dev=Y_dev,\n",
    "                                            lr= lr, \n",
    "                                            dropout=dropout,\n",
    "                                            freeze_emb=True,\n",
    "                                            tolerance=1e-7,\n",
    "                                            epochs=epoch,\n",
    "                                            print_progress=False)\n",
    "                \n",
    "                print('Current lowest validation loss: ', val_loss)\n",
    "                print('Validation loss: ',dev_loss[-1])\n",
    "                \n",
    "                if dev_loss[-1] < val_loss:\n",
    "                    val_loss = dev_loss[-1]\n",
    "                    model['loss'] = val_loss\n",
    "                    model['W'] = W\n",
    "                    model['epochs'] = epoch\n",
    "                    model['learning_rate'] = lr\n",
    "                    model['dev_loss'] = dev_loss\n",
    "                    model['loss_tr'] = loss_tr\n",
    "                    model['hid_dim'] = hid_dim\n",
    "                    model['dropout'] = dropout\n",
    "\n",
    "print(f'Best model hyperparmeters, learning rate = {model[\"learning_rate\"]}, epochs = {model[\"epochs\"]}, hidden dimensions = {model[\"hid_dim\"]}, dropout rate = {model[\"dropout\"]} and validation loss = {model[\"loss\"]}')\n"
   ]
  },
  {
   "cell_type": "code",
   "execution_count": 51,
   "metadata": {},
   "outputs": [
    {
     "data": {
      "image/png": "[encoded data removed]",
      "text/plain": [
       "<Figure size 1000x600 with 1 Axes>"
      ]
     },
     "metadata": {},
     "output_type": "display_data"
    }
   ],
   "source": [
    "import matplotlib.pyplot as plt\n",
    "\n",
    "# Assuming training_loss_history and validation_loss_history are populated\n",
    "epochs = range(1, len(model['loss_tr']) + 1)\n",
    "\n",
    "plt.figure(figsize=(10, 6))  # Set figure size\n",
    "plt.plot(epochs, model['loss_tr'], 'b-', label='Training Loss')\n",
    "plt.plot(epochs, model['dev_loss'], 'r-', label='Development Loss')\n",
    "plt.title('Training and Development Loss')\n",
    "plt.xlabel('Epochs')\n",
    "plt.ylabel('Loss')\n",
    "plt.legend()\n",
    "plt.grid()\n",
    "\n",
    "plt.show()"
   ]
  },
  {
   "cell_type": "code",
   "execution_count": 52,
   "metadata": {
    "ExecuteTime": {
     "end_time": "2020-04-02T15:11:51.994986Z",
     "start_time": "2020-04-02T15:11:51.992563Z"
    },
    "scrolled": true
   },
   "outputs": [
    {
     "name": "stdout",
     "output_type": "stream",
     "text": [
      "Accuracy: 0.9395973154362416\n",
      "Precision: 0.9407756813417191\n",
      "Recall: 0.9393197278911565\n",
      "F1-Score: 0.9396157221771704\n"
     ]
    }
   ],
   "source": [
    "preds_te = [np.argmax(forward_pass(x, model['W'], dropout_rate=0.0)['prediction'])\n",
    "            for x,y in zip(test_indices,Y_test)]\n",
    "\n",
    "preds_te1 = []\n",
    "\n",
    "for i in preds_te:\n",
    "    preds_te1.append(i+1)\n",
    "\n",
    "\n",
    "print('Accuracy:', accuracy_score(Y_test,preds_te1))\n",
    "print('Precision:', precision_score(Y_test,preds_te1,average='macro', zero_division=0))\n",
    "print('Recall:', recall_score(Y_test,preds_te1,average='macro'))\n",
    "print('F1-Score:', f1_score(Y_test,preds_te1,average='macro'))"
   ]
  },
  {
   "cell_type": "markdown",
   "metadata": {},
   "source": [
    "### Discuss how did you choose model hyperparameters ? "
   ]
  },
  {
   "cell_type": "markdown",
   "metadata": {},
   "source": [
    "The selection of model hyperparameters was conducted using a grid search method, which thoroughly tested combinations of learning rates, epochs, dropout rates, and hidden layer dimensions to determine the optimal settings that minimize validation loss.\n",
    "\n",
    "#### Hyperparameter Grid:\n",
    "- **Learning Rates** (`[1e-6, 2e-5, 5e-5]`): Selected to explore the balance between fast learning (higher rates) and stable convergence (lower rates) alongside fine-tuning the model's responsiveness to subtle changes.\n",
    "- **Epochs** (`[300, 400]`): Assessed to evaluate the influence of training duration on model performance, with longer training potentially leading to overfitting, mitigated by early stopping based on validation loss improvements.\n",
    "- **Dropout Rates** (`[0.009, 0.4]`): Examined to determine the right level of regularization needed to prevent overfitting without causing underfitting due to excessive neuron deactivation which may cause higher validation loss and thus lesser accuracy.\n",
    "- **Hidden Dimensions** (`[[100], [300]]`): Tested to identify the most effective network complexity for pattern recognition.\n",
    "\n",
    "#### Process:\n",
    "1. **Initialization**: Model weights were initialized, setting the first layer to GloVe embeddings (frozen to retain pre-trained features).\n",
    "2. **Iterative Training**: Each parameter set was trained using Stochastic Gradient Descent (SGD), with close monitoring of progress.\n",
    "3. **Performance Evaluation**: Validation loss was recorded for each setup. If a setup achieved a lower validation loss than previously seen, it was recorded as the best configuration.\n",
    "\n",
    "#### Outcome:\n",
    "The best configuration featured a learning rate of `5e-5`, `400` epochs, a dropout rate of `0.009`, and hidden dimensions of `[100]`, achieving the lowest validation loss of `0.1863730005664646`. This method ensured a data-driven determination of hyperparameters, optimizing model performance effectively. The lower dropout rate proved more appropriate, indicating that higher rates were leading to underfitting.\n",
    "\n",
    "The table for validation losses for each hyperparameter combination given below:\n",
    "\n",
    "\n",
    "| Learning Rate | Epochs | Dropout Rate | Hidden Dimensions | Validation Loss     |\n",
    "|---------------|--------|--------------|-------------------|---------------------|\n",
    "| 1e-06         | 300    | 0.009        | [100]             | 1.060878366996014   |\n",
    "| 1e-06         | 300    | 0.009        | [300]             | 1.094861345920171   |\n",
    "| 1e-06         | 300    | 0.4          | [100]             | 1.0993407592776276  |\n",
    "| 1e-06         | 300    | 0.4          | [300]             | 1.1011493863828534  |\n",
    "| 1e-06         | 400    | 0.009        | [100]             | 1.0491016540311457  |\n",
    "| 1e-06         | 400    | 0.009        | [300]             | 1.094861345920171   |\n",
    "| 1e-06         | 400    | 0.4          | [100]             | 1.0993407592776276  |\n",
    "| 1e-06         | 400    | 0.4          | [300]             | 1.1011493863828534  |\n",
    "| 2e-05         | 300    | 0.009        | [100]             | 0.27039444171872007 |\n",
    "| 2e-05         | 300    | 0.009        | [300]             | 0.39393502240205436 |\n",
    "| 2e-05         | 300    | 0.4          | [100]             | 1.0961437724958372  |\n",
    "| 2e-05         | 300    | 0.4          | [300]             | 1.0891813760287834  |\n",
    "| 2e-05         | 400    | 0.009        | [100]             | 0.2367237532784828  |\n",
    "| 2e-05         | 400    | 0.009        | [300]             | 0.39393502240205436 |\n",
    "| 2e-05         | 400    | 0.4          | [100]             | 1.0961437724958372  |\n",
    "| 2e-05         | 400    | 0.4          | [300]             | 1.0705038041835337  |\n",
    "| 5e-05         | 300    | 0.009        | [100]             | 0.19784047474683744 |\n",
    "| 5e-05         | 300    | 0.009        | [300]             | 0.32767017843736734 |\n",
    "| 5e-05         | 300    | 0.4          | [100]             | 1.091128271065582   |\n",
    "| 5e-05         | 300    | 0.4          | [300]             | 1.0705038041835337  |\n",
    "| 5e-05         | 400    | 0.009        | [100]             | 0.1863730005664646  |\n",
    "| 5e-05         | 400    | 0.009        | [300]             | 0.32767017843736734 |\n",
    "| 5e-05         | 400    | 0.4          | [100]             | 1.091128271065582   |\n",
    "| 5e-05         | 400    | 0.4          | [300]             | 1.0705038041835337  |"
   ]
  },
  {
   "cell_type": "markdown",
   "metadata": {},
   "source": [
    "## Full Results\n",
    "\n",
    "Add your final results here:\n",
    "\n",
    "| Model | Precision  | Recall  | F1-Score  | Accuracy\n",
    "|:-:|:-:|:-:|:-:|:-:|\n",
    "| Average Embedding  |  90.8% |  90.6% |  90.7% |  90.6%|\n",
    "| Average Embedding (Pre-trained)  |  92.3% |  91.9% |  92% |  91.9% |\n",
    "| Average Embedding (Pre-trained) + X hidden layers    | 94%  |  93.9% | 93.9%  |  93.9% |\n",
    "\n",
    "\n",
    "Please discuss why your best performing model is better than the rest and provide a bried error analaysis."
   ]
  },
  {
   "cell_type": "markdown",
   "metadata": {},
   "source": [
    "## Discussion:\n",
    "\n",
    "### Models Comparison:\n",
    "1. **Average Embedding**: This basic model uses average embeddings possibly trained from scratch. It provides decent results but lacks the depth of semantic understanding and contextualization that pre-trained models offer.\n",
    "\n",
    "2. **Average Embedding (Pre-trained)**: Leveraging pre-trained embeddings significantly improves performance across all metrics. Pre-trained models like Word2Vec or GloVe are trained on vast corpora, capturing rich semantic relationships between words. This enhancement likely provides a better foundational representation of text, leading to improved classification accuracy.\n",
    "\n",
    "3. **Average Embedding (Pre-trained) + X hidden layers**: Adding hidden layers to the model with pre-trained embeddings further enhances its ability to learn non-linear relationships and complex patterns in the data. The increase in all performance metrics indicates that the additional layers enable the model to capture more abstract features of the data, which are crucial for tasks such as text classification or sentiment analysis.\n",
    "\n",
    "The top-performing model, \"Average Embedding (Pre-trained) + X hidden layers,\" excels because it uses GloVe's pre-trained word embeddings along with additional hidden layers. This combination enhances the model's understanding of language and its ability to recognize complex patterns.\n",
    "\n",
    "### Model Performance Analysis:\n",
    "1. **Pre-trained Embeddings**: The model utilizes GloVe embeddings, which are advanced vector representations of words created by Stanford researchers. These embeddings provide a deep understanding of language nuances not typically captured in smaller, specialized datasets. This strong linguistic foundation improves the model's ability to accurately analyze and predict text.\n",
    "\n",
    "2. **Additional Hidden Layers**: Adding layers to the model allows it to uncover and interpret complex and abstract relationships within the data. These layers enable the model to connect different data features, helping it identify detailed patterns that simpler models might miss. This feature is particularly useful for tasks requiring detailed language processing or dealing with complex datasets.\n",
    "\n",
    "### Error Analysis:\n",
    "The model can still be improved considering the errors below:\n",
    "\n",
    "1. **Data Imbalances and Bias**: If the training data favors certain categories over others, the model might develop a bias toward the more common categories. This leads to poorer performance on rarer categories due to insufficient training on these types.\n",
    "\n",
    "2. **Overfitting**: More layers can make the model overly complex, causing it to learn irrelevant features from the training data. This can harm its ability to generalize well to new data.\n",
    "\n",
    "3. **Limitations of Embeddings**: While GloVe embeddings offer a strong base, they are based on generalised texts and lack specific terms used in specialized fields like medicine or law, which can limit the model's performance with respect to those terms.\n",
    "\n",
    "4. **Polysemy Issue (Multiple Meanings)**: Many words in the general language can have multiple meanings. For example, the word `bank` can mean either a financial institution or the side of a river. Without providing the right context, these words might be misunderstood by the network model."
   ]
  },
  {
   "cell_type": "markdown",
   "metadata": {},
   "source": []
  }
 ],
 "metadata": {
  "kernelspec": {
   "display_name": "Python 3 (ipykernel)",
   "language": "python",
   "name": "python3"
  },
  "language_info": {
   "codemirror_mode": {
    "name": "ipython",
    "version": 3
   },
   "file_extension": ".py",
   "mimetype": "text/x-python",
   "name": "python",
   "nbconvert_exporter": "python",
   "pygments_lexer": "ipython3",
   "version": "3.11.7"
  }
 },
 "nbformat": 4,
 "nbformat_minor": 2
}
