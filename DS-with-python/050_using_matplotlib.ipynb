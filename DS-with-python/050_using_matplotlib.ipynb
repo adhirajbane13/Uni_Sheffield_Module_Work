{
 "cells": [
  {
   "attachments": {},
   "cell_type": "markdown",
   "metadata": {},
   "source": [
    "# 050 Using Matplotlib\n",
    "\n",
    "> COM6018\n",
    "\n",
    "*Copyright &copy; 2023 Jon Barker, University of Sheffield. All rights reserved*.\n"
   ]
  },
  {
   "attachments": {},
   "cell_type": "markdown",
   "metadata": {},
   "source": [
    "In this lab class we are going to get practice with using Matplotlib. We will be using the [Matplotlib documentation](https://matplotlib.org/3.1.1/contents.html) and the Introducing Matplotlib notebook as a reference.\n",
    "\n",
    "The lab class is organised as a sequence of exercises. For each one you are provided with a dataset and an image of a plot of the data. Your task is to write code to reproduce the plot as closely as possible. After the lab class the solution code will be released so you can check your answers. The exercises start with simple plots and get progressively more complex."
   ]
  },
  {
   "cell_type": "code",
   "execution_count": 3,
   "metadata": {},
   "outputs": [],
   "source": [
    "import matplotlib.pyplot as plt\n",
    "import numpy as np\n",
    "import pandas as pd"
   ]
  },
  {
   "attachments": {},
   "cell_type": "markdown",
   "metadata": {},
   "source": [
    "## Plot 1 - Simple line plot\n",
    "\n",
    "The first plot is a simple line plot. The plot, shown below, shows worldwide renewable energy consumption from 1989 to 2022. The data for the plot is in file `data/renewable_energy.csv`. Your task is to write code to reproduce the plot as closely as possible.\n",
    "\n",
    "Some hints:\n",
    "- You will need to filter the pandas dataframe to select only the data for the 'World' region.\n",
    "- You can read the data using pandas `read_csv` function.\n",
    "- The plotting can be done with a series of calls to `plt.plot`.\n",
    "- Getting the grid lines right is is a bit tricky. You'll need to to use the 'plt.grid' function and `plt.yticks` to set the spacing of major and minor tick marks.\n",
    "\n",
    "Write your code in the cell below. Run the cell to display your plot and make adjustments to the code until it matches the target plot."
   ]
  },
  {
   "attachments": {},
   "cell_type": "markdown",
   "metadata": {},
   "source": [
    "<img src=\"figures/energy.png\" alt=\"plot1\" style=\"width: 500px;\"/>\n"
   ]
  },
  {
   "cell_type": "code",
   "execution_count": 6,
   "metadata": {},
   "outputs": [
    {
     "data": {
      "image/png": "[encoded data removed]",
      "text/plain": [
       "<Figure size 640x480 with 1 Axes>"
      ]
     },
     "metadata": {},
     "output_type": "display_data"
    }
   ],
   "source": [
    "# WRITE SOLUTION HERE\n",
    "df = pd.read_csv('data/renewable_energy.csv')\n",
    "df = df[df['Entity'] == 'World']\n",
    "plt.plot(df['Year'],df['Other'],c = 'blue',marker = 'o')\n",
    "plt.plot(df['Year'],df['Solar'])\n",
    "plt.grid()\n",
    "plt.show()"
   ]
  },
  {
   "attachments": {},
   "cell_type": "markdown",
   "metadata": {},
   "source": [
    "### Plot 1b - Using subplots\n",
    "\n",
    "The second plot uses the same data but uses subplots to compare energy consumption for the world, the EU and the UK.\n",
    "\n",
    "Hints:\n",
    "- Start with the command `plt.figure(figsize=(15, 5))` to set the size of the figure.\n",
    "- You can use the `plt.subplot` command to place the subplots on a 1x3 grid.\n",
    "- Write a function to generate each subplot, i.e. the function can take a filtered version of the dataframe and a title string as arguments.\n",
    "\n"
   ]
  },
  {
   "attachments": {},
   "cell_type": "markdown",
   "metadata": {},
   "source": [
    "<img src=\"figures/energy_subplots.png\" alt=\"plot1b\" style=\"width: 700px;\"/>\n",
    "\n"
   ]
  },
  {
   "cell_type": "code",
   "execution_count": null,
   "metadata": {},
   "outputs": [],
   "source": [
    "# WRITE SOLUTION HERE"
   ]
  },
  {
   "attachments": {},
   "cell_type": "markdown",
   "metadata": {},
   "source": [
    "## Plot 2 - Stackplot and pie charts\n",
    "\n",
    "The next plot shows the same worldwide energy consumption data but this time as a 'stackplot'. There are also two pie charts showing the proportion of energy of each type in 1989 and 2022.\n",
    "\n",
    "Hints:\n",
    "- The layout can be made using plt.subplot.\n",
    "- You can use the `plt.stackplot` function to generate the stackplot. Check the matlplot lib documentation for details.\n",
    "- The pie charts can be made with `plt.pie`. Again, check the documentation for details.\n",
    "- You will need to retrieve the first and last value in each data series to use as the data for the pie charts (i.e. 1989 and 2022). You can do this using the `iloc` method of the dataframe.\n",
    "- Note, the first pie chart groups wind, solar and other into 'all other'."
   ]
  },
  {
   "attachments": {},
   "cell_type": "markdown",
   "metadata": {},
   "source": [
    "<img src=\"figures/energy_stacked.png\" alt=\"plot2\" style=\"width: 500px;\"/>\n"
   ]
  },
  {
   "cell_type": "code",
   "execution_count": null,
   "metadata": {},
   "outputs": [],
   "source": [
    "# WRITE SOLUTION HERE"
   ]
  },
  {
   "attachments": {},
   "cell_type": "markdown",
   "metadata": {},
   "source": [
    "## Plot 3 - Grid of scatter plots"
   ]
  },
  {
   "attachments": {},
   "cell_type": "markdown",
   "metadata": {},
   "source": [
    "The next plot illustrates a famous dataset known as the 'iris' dataset. The dataset contains measurements of the sepal and petal length and width for three species of iris flower. This dataset was first published in 1936 by the British statistician and biologist Ronald Fisher. The dataset is widely used in machine learning and data science to illustrate classification and clustering algorithms.\n",
    "\n",
    "The plot shows a grid of scatter plots comparing each pair of measurements. The data is in file `data/iris.csv`.\n",
    "\n",
    "This plot is a bit more complex than the previous ones. \n",
    "\n",
    "Hints:\n",
    "- Write a function that can generate each subplot. The function should take the dataframe and the column names for the x and y axes as arguments.\n",
    "- Use a nested loop to loop over all combinations of x and y axes.\n",
    "- Note, the legend has only been placed on the diagonal subplots where it doesn't overlap with the data.\n",
    "- You can use the `plt.tight_layout()` function as the final command to ensure that the subplot axes titles don't overlap other subplots."
   ]
  },
  {
   "attachments": {},
   "cell_type": "markdown",
   "metadata": {},
   "source": [
    "<img src=\"figures/iris_scatter.png\" alt=\"plot3\" style=\"width: 700px;\"/>\n"
   ]
  },
  {
   "cell_type": "code",
   "execution_count": null,
   "metadata": {},
   "outputs": [],
   "source": [
    "# WRITE SOLUTION HERE"
   ]
  },
  {
   "attachments": {},
   "cell_type": "markdown",
   "metadata": {},
   "source": [
    "## Plot 4 - Geographic data plot\n"
   ]
  },
  {
   "attachments": {},
   "cell_type": "markdown",
   "metadata": {},
   "source": [
    "The next plot is showing the location and generation capacity of wind farms in the UK. The data is in file `data/wind_farms.csv`. The plot is basically a scatter plot but the points are shown over a map of the UK. This has been achieved using the `basemap` matplotlib toolkit.\n",
    "\n",
    "The first lines of the solution are as follows\n",
    "\n",
    "```python\n",
    "from mpl_toolkits.basemap import Basemap\n",
    "\n",
    "df = pd.read_csv('data/wind_farms_uk.csv')\n",
    "fig = plt.figure(figsize=(8, 8))\n",
    "m = Basemap(projection='lcc', resolution='i', \n",
    "            lat_0=55, lon_0=-3.5,\n",
    "            width=1E6, height=1.2E6)\n",
    "```\n",
    "\n",
    "You will now need to use the function `m.fillcontinents`, `m.drawcoastlines` and `m.drawmapboundary` to draw the map. You will also need to use the `m.scatter` function to plot the wind farm locations.\n",
    "\n",
    "Hints:\n",
    "- Note, that the *area* of the circles is proportional to the wind farm capacity.\n",
    "- You will need to use `m.scatter`'s parameters `latlon=True` so that the coordinates are interpreted as latitude and longitude.\n",
    "- The legend in the bottom left corner is quite tricky to generate. It can be made by placing invisible 'dummy' points on the plot that have labels attached. Try Googling for a solution but don't worry if you can't get this bit to work, wait for the solution code to be released."
   ]
  },
  {
   "attachments": {},
   "cell_type": "markdown",
   "metadata": {},
   "source": [
    "\n",
    "<img src=\"figures/wind_farms.png\" alt=\"plot4\" style=\"width: 500px;\"/>\n"
   ]
  },
  {
   "cell_type": "code",
   "execution_count": null,
   "metadata": {},
   "outputs": [],
   "source": [
    "# WRITE SOLUTION HERE"
   ]
  },
  {
   "attachments": {},
   "cell_type": "markdown",
   "metadata": {},
   "source": [
    "## Plot 5 - Contour plot of function"
   ]
  },
  {
   "attachments": {},
   "cell_type": "markdown",
   "metadata": {},
   "source": [
    "The last example is a contour plot of the function is $f(x,y) = sin(4x) + cos(xy)$\n",
    "\n",
    "This looks complicated but can actually be made with just a few lines of code. If you are unsure on how to proceed then check the contour plot example in the course notes.\n",
    "\n",
    "Hints:\n",
    "- Use `np.meshgrid` to generate the x and y coordinates.\n",
    "- Use `plt.contour` to generate the contour plot.\n",
    "- Use `plt.clabel` to add the contour labels.\n",
    "- The plot is using the colourmap called 'RdBu' which use red to represent low values and blue to represent high values.\n",
    "- Write a Python function called 'f' to compute the function values for each x and y coordinate. This will make the code easier to read. This function should take a pair of numpy arrays to represent the x and y coordinates of all the points that need to be computed and return the function values as a numpy array. (The x and y arrays can be generated using `np.meshgrid`.)\n",
    "\n",
    "You can easily change the function to plot by changing the definition of the function 'f'. By using sines and cosines of different sums, products and powers of x and y you can generate a wide range of interesting patterns."
   ]
  },
  {
   "attachments": {},
   "cell_type": "markdown",
   "metadata": {},
   "source": [
    "<img src=\"figures/contours.png\" alt=\"plot5\" style=\"width: 600px;\"/>\n"
   ]
  },
  {
   "cell_type": "code",
   "execution_count": null,
   "metadata": {},
   "outputs": [],
   "source": [
    "# WRITE SOLUTION HERE"
   ]
  }
 ],
 "metadata": {
  "kernelspec": {
   "display_name": "env",
   "language": "python",
   "name": "python3"
  },
  "language_info": {
   "codemirror_mode": {
    "name": "ipython",
    "version": 3
   },
   "file_extension": ".py",
   "mimetype": "text/x-python",
   "name": "python",
   "nbconvert_exporter": "python",
   "pygments_lexer": "ipython3",
   "version": "3.11.5"
  }
 },
 "nbformat": 4,
 "nbformat_minor": 2
}
