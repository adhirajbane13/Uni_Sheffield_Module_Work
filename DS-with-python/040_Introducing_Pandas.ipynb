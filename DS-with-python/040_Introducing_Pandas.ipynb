{
 "cells": [
  {
   "attachments": {},
   "cell_type": "markdown",
   "id": "9f64e8b9",
   "metadata": {},
   "source": [
    "# 040 Processing Data with Pandas\n",
    "\n",
    "> COM6018\n",
    "\n",
    "*Copyright &copy; 2023 Jon Barker, University of Sheffield. All rights reserved*.\n",
    "\n",
    "## 1. Introduction\n",
    "\n",
    "### 1.1 What is Pandas?\n",
    "\n",
    "So far in this module we have seen how data can be processed very flexibly using native Python code and Python dictionary and list data structures. However, this flexibility comes at a cost: processing data in this way can be slow and is not suitable for large datasets. We have also seen how using NumPy arrays allows us to process numeric data very efficiently. NumPy is excellent for mathematical computation, linear algebra and a lot of the matrix/vector calculations that occur in machine learning. However, it is not so good for processing more complex structured data which might have a mixture of data types (e.g., numeric, string, categorical, etc.) and missing values, etc. This is where **Pandas** comes in.\n",
    "\n",
    "**Pandas** is an open source 3rd party library designed for the needs of data scientists. It was originally built on top of NumPy which allows it to be very fast, but it offers a lot of functionality for processing structured data that is not available in NumPy.\n",
    "\n",
    "Although Pandas was originally built around NumPy, NumPy was not itself designed for this purpose and that has led to some inefficiencies. However, Pandas has recently had a major new release (Pandas 2.0) which now allows the NumPy 'backend' to be replaced with one built around [Apache Arrow](https://arrow.apache.org/) -- a framework that has been designed from the ground-up for efficient processing of large table-like datasets.\n",
    "\n",
    "This tutorial is based on Pandas 2.0. Full documentation can be found at [https://pandas.pydata.org/docs/](https://pandas.pydata.org/docs/).\n",
    "\n",
    "### 1.2 Installing Pandas\n",
    "\n",
    "As Pandas is not part of the Python standard library, it must first be installed before it can be used. This can be done easily using the `conda` package manager. (If you are using the Anaconda distribution of Python, then Pandas will already be installed. Or if you have built a conda environment using the `com6018.environment.yml` file provided with the module, then Pandas will also already be installed.)\n",
    "\n",
    "If Pandas is not installed, then you can install it by typing the following command in your terminal,\n",
    "\n",
    "```txt\n",
    "conda install -c conda-forge pandas\n",
    "```\n",
    "\n",
    "This will install the latest version of Pandas.\n",
    "\n",
    "To use Pandas in your Python code you simply need to import it at the start of your program, e.g.,"
   ]
  },
  {
   "cell_type": "code",
   "execution_count": 2,
   "id": "ec1e14cf",
   "metadata": {
    "execution": {
     "iopub.execute_input": "2023-05-24T16:47:36.128214Z",
     "iopub.status.busy": "2023-05-24T16:47:36.127476Z",
     "iopub.status.idle": "2023-05-24T16:47:36.306971Z",
     "shell.execute_reply": "2023-05-24T16:47:36.305977Z"
    }
   },
   "outputs": [],
   "source": [
    "import pandas as pd"
   ]
  },
  {
   "attachments": {},
   "cell_type": "markdown",
   "id": "917da9ff",
   "metadata": {},
   "source": [
    "Conventional Python practice is to import Pandas using the alias `pd`. This is not essential, but it is recommended. Following conventions will make your code easier to read for other Python programmers.\n",
    "\n",
    "### 1.3 Basic Pandas Concepts\n",
    "\n",
    "Pandas is designed for processing structured data much like the data that would be stored in a spreadsheet or a csv file. Pandas organises data using two basic data structures: the **Series** and the **DataFrame**. A **Series** is a one-dimensional array of data which can be thought of as a single column in a spreadsheet. A **DataFrame** represents a table of data, which is represented as a collection of **Series** objects. A **DataFrame** can be thought of as being similar to an entire spreadsheet.\n",
    "\n",
    "Pandas has its own **type system** for representing data which is the same as that for NumPy but with a few extensions for representing things like dates and intervals. Every Series (i.e., spreadsheet column) will have its own type but there can be a different type for each Series.\n",
    "\n",
    "Pandas offers a lot of functionality for processing data. This includes: operations such as filtering tables, joining tables, grouping data, etc. It also includes a lot of functionality for reading and writing data in different formats such as CSV, Excel, JSON, SQL, etc. It also has some functionality for visualising data which is typically easier to use than the equivalent functionality in `Matplotlib`.\n",
    "\n",
    "## 2. Reading Data\n",
    "\n",
    "Pandas has a range of methods for reading data from different standard data formats. For example, it can read Excel spreadsheets directly with a simple `read_excel()` method. However, continuing from our previous tutorials, we will focus on the commonly used CSV and JSON formats.\n",
    "\n",
    "### 2.1 Reading CSV Data\n",
    "\n",
    "Reading a CSV file with Pandas can be done with a single line of code:"
   ]
  },
  {
   "cell_type": "code",
   "execution_count": 3,
   "id": "8da3249b",
   "metadata": {
    "execution": {
     "iopub.execute_input": "2023-05-24T16:47:36.312209Z",
     "iopub.status.busy": "2023-05-24T16:47:36.311651Z",
     "iopub.status.idle": "2023-05-24T16:47:36.323041Z",
     "shell.execute_reply": "2023-05-24T16:47:36.322169Z"
    }
   },
   "outputs": [],
   "source": [
    "import pandas as pd\n",
    "\n",
    "df = pd.read_csv('data/windfarm.csv')"
   ]
  },
  {
   "attachments": {},
   "cell_type": "markdown",
   "id": "2bdfb08b",
   "metadata": {},
   "source": [
    "The `read_csv` function will parse the file and return the results as a Pandas DataFrame object. (It is common to use the variable name `df` for a DataFrame object in simple code examples. You may want to give the DataFrame a more descriptive name when writing more complex code.)\n",
    "\n",
    "We can now print the resulting DataFrame object to see what it contains:"
   ]
  },
  {
   "cell_type": "code",
   "execution_count": 4,
   "id": "ef40a248",
   "metadata": {
    "execution": {
     "iopub.execute_input": "2023-05-24T16:47:36.327210Z",
     "iopub.status.busy": "2023-05-24T16:47:36.326622Z",
     "iopub.status.idle": "2023-05-24T16:47:36.334621Z",
     "shell.execute_reply": "2023-05-24T16:47:36.333501Z"
    }
   },
   "outputs": [
    {
     "name": "stdout",
     "output_type": "stream",
     "text": [
      "       id   \"turbines\"   \"height\"   \"power\"\n",
      "0  WF1355           13         53   19500.0\n",
      "1  WF1364            3         60    8250.0\n",
      "2  WF1356           12         60   24000.0\n",
      "3  WF1357           36         60   72000.0\n"
     ]
    }
   ],
   "source": [
    "print(df)"
   ]
  },
  {
   "attachments": {},
   "cell_type": "markdown",
   "id": "2a1e39ed",
   "metadata": {},
   "source": [
    "This will produce output looking like the following,\n",
    "\n",
    "```text\n",
    "       id   \"turbines\"   \"height\"   \"power\"\n",
    "0  WF1355           13         53     19500.0\n",
    "1  WF1364            3         60      8250.0\n",
    "2  WF1356           12         60     24000.0\n",
    "3  WF1357           36         60     72000.0\n",
    "```\n",
    "\n",
    "Note, the `read_csv` function has read the names of the fields from the first line of the csv file and used these to name the DataFrame columns. If our csv file did not have column names in the first line, then we would need to specify them using the `names` parameter, e.g.,"
   ]
  },
  {
   "cell_type": "code",
   "execution_count": 5,
   "id": "00beec39",
   "metadata": {
    "execution": {
     "iopub.execute_input": "2023-05-24T16:47:36.339448Z",
     "iopub.status.busy": "2023-05-24T16:47:36.337994Z",
     "iopub.status.idle": "2023-05-24T16:47:36.345650Z",
     "shell.execute_reply": "2023-05-24T16:47:36.344402Z"
    }
   },
   "outputs": [
    {
     "name": "stdout",
     "output_type": "stream",
     "text": [
      "       id  turbines  height    power\n",
      "0  WF1355        13      53  19500.0\n",
      "1  WF1364         3      60   8250.0\n",
      "2  WF1356        12      60  24000.0\n",
      "3  WF1357        36      60  72000.0\n"
     ]
    }
   ],
   "source": [
    "df = pd.read_csv('data/windfarm.no_names.csv', names=['id', 'turbines', 'height', 'power'])\n",
    "print(df)"
   ]
  },
  {
   "attachments": {},
   "cell_type": "markdown",
   "id": "e065bcb8",
   "metadata": {},
   "source": [
    "Note also how Pandas has added an extra column without a title to the left of the data. This is known as the **index column**. The index column is used to uniquely identify each row in the DataFrame. Pandas has generated this index for us by giving the rows consecutive integer index values starting from 0. If we want to use a different column as the index, then we can specify this using the `index_col` parameter, e.g.,"
   ]
  },
  {
   "cell_type": "code",
   "execution_count": 6,
   "id": "748e0c44",
   "metadata": {
    "execution": {
     "iopub.execute_input": "2023-05-24T16:47:36.349647Z",
     "iopub.status.busy": "2023-05-24T16:47:36.349022Z",
     "iopub.status.idle": "2023-05-24T16:47:36.358368Z",
     "shell.execute_reply": "2023-05-24T16:47:36.357691Z"
    }
   },
   "outputs": [
    {
     "name": "stdout",
     "output_type": "stream",
     "text": [
      "         \"turbines\"   \"height\"   \"power\"\n",
      "id                                      \n",
      "WF1355           13         53   19500.0\n",
      "WF1364            3         60    8250.0\n",
      "WF1356           12         60   24000.0\n",
      "WF1357           36         60   72000.0\n"
     ]
    }
   ],
   "source": [
    "df_id = pd.read_csv('data/windfarm.csv', index_col='id')\n",
    "print(df_id)"
   ]
  },
  {
   "attachments": {},
   "cell_type": "markdown",
   "id": "e0a8ae0c",
   "metadata": {},
   "source": [
    "This will produce output looking like the following,\n",
    "\n",
    "```text\n",
    "         \"turbines\"   \"height\"   \"power\"\n",
    "id\n",
    "WF1355           13         53   19500.0\n",
    "WF1364            3         60    8250.0\n",
    "WF1356           12         60   24000.0\n",
    "WF1357           36         60   72000.0\n",
    "```\n",
    "\n",
    "```{tip}\n",
    "You typically want the values in the index column to be unique. If they are not unique, then Pandas will still allow you to use the column as the index, but it will not be able to use some of the more advanced functionality that it offers for indexing. It you are not sure about which column to use as the index, then it is often best not to specify one and to just allow Pandas to create its own index column.\n",
    "```\n",
    "\n",
    "### 2.2 Reading JSON Data\n",
    "\n",
    "Reading JSON data is just as easy as reading CSV data. We can read the climate JSON data from our previous tutorial with a single line of code:"
   ]
  },
  {
   "cell_type": "code",
   "execution_count": 7,
   "id": "a1e0c43f",
   "metadata": {
    "execution": {
     "iopub.execute_input": "2023-05-24T16:47:36.362268Z",
     "iopub.status.busy": "2023-05-24T16:47:36.361718Z",
     "iopub.status.idle": "2023-05-24T16:47:36.368880Z",
     "shell.execute_reply": "2023-05-24T16:47:36.368162Z"
    }
   },
   "outputs": [],
   "source": [
    "import pandas as pd\n",
    "\n",
    "df = pd.read_json('data/climate.json')"
   ]
  },
  {
   "attachments": {},
   "cell_type": "markdown",
   "id": "eee9b369",
   "metadata": {},
   "source": [
    "We can now print the resulting DataFrame object to see what it contains:"
   ]
  },
  {
   "cell_type": "code",
   "execution_count": 8,
   "id": "783cbd84",
   "metadata": {
    "execution": {
     "iopub.execute_input": "2023-05-24T16:47:36.374296Z",
     "iopub.status.busy": "2023-05-24T16:47:36.373960Z",
     "iopub.status.idle": "2023-05-24T16:47:36.390930Z",
     "shell.execute_reply": "2023-05-24T16:47:36.390200Z"
    }
   },
   "outputs": [
    {
     "name": "stdout",
     "output_type": "stream",
     "text": [
      "      id            city        country  \\\n",
      "0      1       Amsterdam    Netherlands   \n",
      "1      2          Athens         Greece   \n",
      "2      3      Atlanta GA  United States   \n",
      "3      4        Auckland    New Zealand   \n",
      "4      5       Austin TX  United States   \n",
      "..   ...             ...            ...   \n",
      "100  101  Albuquerque NM  United States   \n",
      "101  102      Vermont IL  United States   \n",
      "102  103    Nashville TE  United States   \n",
      "103  104    St. Louis MO  United States   \n",
      "104  105  Minneapolis MN  United States   \n",
      "\n",
      "                                            monthlyAvg  \n",
      "0    [{'high': 7, 'low': 3, 'dryDays': 19, 'snowDay...  \n",
      "1    [{'high': 12, 'low': 7, 'dryDays': 21, 'snowDa...  \n",
      "2    [{'high': 12, 'low': 2, 'dryDays': 18, 'snowDa...  \n",
      "3    [{'high': 23, 'low': 16, 'dryDays': 24, 'snowD...  \n",
      "4    [{'high': 18, 'low': 6, 'dryDays': 15, 'snowDa...  \n",
      "..                                                 ...  \n",
      "100  [{'high': 10, 'low': -4, 'dryDays': 24, 'snowD...  \n",
      "101  [{'high': 3, 'low': -8, 'dryDays': 18, 'snowDa...  \n",
      "102  [{'high': 9, 'low': -1, 'dryDays': 18, 'snowDa...  \n",
      "103  [{'high': 7, 'low': -4, 'dryDays': 16, 'snowDa...  \n",
      "104  [{'high': -3, 'low': -13, 'dryDays': 20, 'snow...  \n",
      "\n",
      "[105 rows x 4 columns]\n"
     ]
    }
   ],
   "source": [
    "print(df)"
   ]
  },
  {
   "attachments": {},
   "cell_type": "markdown",
   "id": "94dc8b74",
   "metadata": {},
   "source": [
    "Note, the `monthlyAvg` data which was a list of dictionaries in the JSON file is now appearing in a single column of the DataFrame. This is not a very convenient format for processing the data. We can use a method called `apply()` to convert this column into a DataFrame with one column per each dictionary in the list. Using `apply()` a second time can then expand the dictionaries into columns."
   ]
  },
  {
   "cell_type": "code",
   "execution_count": 11,
   "id": "d4eb7a13",
   "metadata": {
    "execution": {
     "iopub.execute_input": "2023-05-24T16:47:36.394836Z",
     "iopub.status.busy": "2023-05-24T16:47:36.394180Z",
     "iopub.status.idle": "2023-05-24T16:47:36.426377Z",
     "shell.execute_reply": "2023-05-24T16:47:36.426095Z"
    }
   },
   "outputs": [
    {
     "name": "stdout",
     "output_type": "stream",
     "text": [
      "     high   low  dryDays  snowDays  rainfall\n",
      "0     7.0   3.0     19.0       4.0      68.0\n",
      "1    12.0   7.0     21.0       1.0      53.0\n",
      "2    12.0   2.0     18.0       2.0      99.5\n",
      "3    23.0  16.0     24.0       0.0      25.6\n",
      "4    18.0   6.0     15.0       1.0      67.8\n",
      "..    ...   ...      ...       ...       ...\n",
      "100  10.0  -4.0     24.0       4.0      10.7\n",
      "101   3.0  -8.0     18.0      11.0      52.1\n",
      "102   9.0  -1.0     18.0       8.0      84.4\n",
      "103   7.0  -4.0     16.0      10.0      69.8\n",
      "104  -3.0 -13.0     20.0      16.0      19.9\n",
      "\n",
      "[105 rows x 5 columns]\n"
     ]
    }
   ],
   "source": [
    "df_monthly = df['monthlyAvg'].apply(pd.Series)\n",
    "print(df_monthly[0].apply(pd.Series))"
   ]
  },
  {
   "attachments": {},
   "cell_type": "markdown",
   "id": "1c6a3be1",
   "metadata": {},
   "source": [
    "This is a little complicated but it is typical of the preprocessing steps we might need to take if working with JSON files that have a complex nested structure. Fortunately, the majority of the data we will be working with will be in CSV format or in a simple JSON format with a flat structure.\n",
    "\n",
    "## 3. The DataFrame Object\n",
    "\n",
    "We will now look in a bit more detail at the DataFrame object. For this section we will be using a dataset that records the extent of sea ice in the Arctic and Antarctic. This data is available from the [National Snow and Ice Data Center](https://nsidc.org/data/g02135). The data is available in CSV format and we have already downloaded it and saved it in the `data` directory as `seaice.csv`.\n",
    "\n",
    "We will read the data and print the DataFrame,"
   ]
  },
  {
   "cell_type": "code",
   "execution_count": 12,
   "id": "9601512f",
   "metadata": {
    "execution": {
     "iopub.execute_input": "2023-05-24T16:47:36.427995Z",
     "iopub.status.busy": "2023-05-24T16:47:36.427893Z",
     "iopub.status.idle": "2023-05-24T16:47:36.467578Z",
     "shell.execute_reply": "2023-05-24T16:47:36.467278Z"
    }
   },
   "outputs": [],
   "source": [
    "import pandas as pd\n",
    "\n",
    "df = pd.read_csv('data/seaice.csv')"
   ]
  },
  {
   "cell_type": "code",
   "execution_count": 13,
   "id": "980a0b0a",
   "metadata": {
    "execution": {
     "iopub.execute_input": "2023-05-24T16:47:36.469230Z",
     "iopub.status.busy": "2023-05-24T16:47:36.469148Z",
     "iopub.status.idle": "2023-05-24T16:47:36.472395Z",
     "shell.execute_reply": "2023-05-24T16:47:36.472133Z"
    }
   },
   "outputs": [
    {
     "name": "stdout",
     "output_type": "stream",
     "text": [
      "       Year   Month   Day       Extent      Missing  \\\n",
      "0      1978      10    26       10.231          0.0   \n",
      "1      1978      10    28       10.420          0.0   \n",
      "2      1978      10    30       10.557          0.0   \n",
      "3      1978      11     1       10.670          0.0   \n",
      "4      1978      11     3       10.777          0.0   \n",
      "...     ...     ...   ...          ...          ...   \n",
      "26349  2019       5    27       10.085          0.0   \n",
      "26350  2019       5    28       10.078          0.0   \n",
      "26351  2019       5    29       10.219          0.0   \n",
      "26352  2019       5    30       10.363          0.0   \n",
      "26353  2019       5    31       10.436          0.0   \n",
      "\n",
      "                                             Source Data hemisphere  \n",
      "0       ['ftp://sidads.colorado.edu/pub/DATASETS/nsid...      north  \n",
      "1       ['ftp://sidads.colorado.edu/pub/DATASETS/nsid...      north  \n",
      "2       ['ftp://sidads.colorado.edu/pub/DATASETS/nsid...      north  \n",
      "3       ['ftp://sidads.colorado.edu/pub/DATASETS/nsid...      north  \n",
      "4       ['ftp://sidads.colorado.edu/pub/DATASETS/nsid...      north  \n",
      "...                                                  ...        ...  \n",
      "26349  ['ftp://sidads.colorado.edu/pub/DATASETS/nsidc...      south  \n",
      "26350  ['ftp://sidads.colorado.edu/pub/DATASETS/nsidc...      south  \n",
      "26351  ['ftp://sidads.colorado.edu/pub/DATASETS/nsidc...      south  \n",
      "26352  ['ftp://sidads.colorado.edu/pub/DATASETS/nsidc...      south  \n",
      "26353  ['ftp://sidads.colorado.edu/pub/DATASETS/nsidc...      south  \n",
      "\n",
      "[26354 rows x 7 columns]\n"
     ]
    }
   ],
   "source": [
    "print(df)"
   ]
  },
  {
   "attachments": {},
   "cell_type": "markdown",
   "id": "e9fb8f91",
   "metadata": {},
   "source": [
    "Note, when printing a DataFrame, Pandas will only show the first and last few rows and columns. We can see from the output that the DataFrame has 26354 rows and measurements that date back to 1978. But we can't see the full set of columns.\n",
    "\n",
    "To get a list of all the columns in the DataFrame we can use the `columns` attribute,"
   ]
  },
  {
   "cell_type": "code",
   "execution_count": 14,
   "id": "0a2c091e",
   "metadata": {
    "execution": {
     "iopub.execute_input": "2023-05-24T16:47:36.473876Z",
     "iopub.status.busy": "2023-05-24T16:47:36.473791Z",
     "iopub.status.idle": "2023-05-24T16:47:36.475614Z",
     "shell.execute_reply": "2023-05-24T16:47:36.475380Z"
    }
   },
   "outputs": [
    {
     "name": "stdout",
     "output_type": "stream",
     "text": [
      "Index(['Year', ' Month', ' Day', '     Extent', '    Missing', ' Source Data',\n",
      "       'hemisphere'],\n",
      "      dtype='object')\n"
     ]
    }
   ],
   "source": [
    "print(df.columns)"
   ]
  },
  {
   "attachments": {},
   "cell_type": "markdown",
   "id": "3aebef58",
   "metadata": {},
   "source": [
    "This will produce output looking like the following,\n",
    "\n",
    "```text\n",
    "Index(['Year', ' Month', ' Day', '     Extent', '    Missing', ' Source Data',\n",
    "       'hemisphere'],\n",
    "      dtype='object')\n",
    "```\n",
    "\n",
    "We can now see that the data is composed of seven columns: year, month, day, extent, missing, source data, and hemisphere. The extent and missing columns record the extent of the sea ice and the number of missing measurements for each day. The source data column records the source of the data. The hemisphere column records whether the data is for the Arctic or Antarctic.\n",
    "\n",
    "Note that space characters have become incorporated into the column names. This is because the columns in the CSV file had spaces after the commas. We can easily skip these spaces by adding the `skipinitialspace=True` parameter to the `read_csv()` method,"
   ]
  },
  {
   "cell_type": "code",
   "execution_count": 15,
   "id": "98fd53ad",
   "metadata": {
    "execution": {
     "iopub.execute_input": "2023-05-24T16:47:36.477068Z",
     "iopub.status.busy": "2023-05-24T16:47:36.476983Z",
     "iopub.status.idle": "2023-05-24T16:47:36.514724Z",
     "shell.execute_reply": "2023-05-24T16:47:36.514410Z"
    }
   },
   "outputs": [],
   "source": [
    "import pandas as pd\n",
    "\n",
    "df = pd.read_csv('data/seaice.csv', sep=',', skipinitialspace=True)"
   ]
  },
  {
   "cell_type": "code",
   "execution_count": 16,
   "id": "f8c406a5",
   "metadata": {
    "execution": {
     "iopub.execute_input": "2023-05-24T16:47:36.516385Z",
     "iopub.status.busy": "2023-05-24T16:47:36.516298Z",
     "iopub.status.idle": "2023-05-24T16:47:36.518205Z",
     "shell.execute_reply": "2023-05-24T16:47:36.517960Z"
    }
   },
   "outputs": [
    {
     "name": "stdout",
     "output_type": "stream",
     "text": [
      "Index(['Year', 'Month', 'Day', 'Extent', 'Missing', 'Source Data',\n",
      "       'hemisphere'],\n",
      "      dtype='object')\n"
     ]
    }
   ],
   "source": [
    "print(df.columns)"
   ]
  },
  {
   "attachments": {},
   "cell_type": "markdown",
   "id": "ce1ebfc1",
   "metadata": {},
   "source": [
    "### 3.1 Selecting a Column\n",
    "\n",
    "We can select a single column from the DataFrame using the column name as an index,"
   ]
  },
  {
   "cell_type": "code",
   "execution_count": 17,
   "id": "9ff80aa8",
   "metadata": {
    "execution": {
     "iopub.execute_input": "2023-05-24T16:47:36.519581Z",
     "iopub.status.busy": "2023-05-24T16:47:36.519497Z",
     "iopub.status.idle": "2023-05-24T16:47:36.521816Z",
     "shell.execute_reply": "2023-05-24T16:47:36.521577Z"
    }
   },
   "outputs": [
    {
     "name": "stdout",
     "output_type": "stream",
     "text": [
      "0        10.231\n",
      "1        10.420\n",
      "2        10.557\n",
      "3        10.670\n",
      "4        10.777\n",
      "          ...  \n",
      "26349    10.085\n",
      "26350    10.078\n",
      "26351    10.219\n",
      "26352    10.363\n",
      "26353    10.436\n",
      "Name: Extent, Length: 26354, dtype: float64\n"
     ]
    }
   ],
   "source": [
    "extent = df['Extent']\n",
    "print(extent)"
   ]
  },
  {
   "attachments": {},
   "cell_type": "markdown",
   "id": "1ccf385e",
   "metadata": {},
   "source": [
    "This will produce output looking like the following,\n",
    "\n",
    "```text\n",
    "0        10.231\n",
    "1        10.420\n",
    "2        10.557\n",
    "3        10.670\n",
    "4        10.777\n",
    "          ...\n",
    "26349    10.085\n",
    "26350    10.078\n",
    "26351    10.219\n",
    "26352    10.363\n",
    "26353    10.436\n",
    "Name: Extent, Length: 26354, dtype: float64\n",
    "```\n",
    "\n",
    "Notice how this looks a bit different from when we printed the DataFrame. This is because the column is not a DataFrame, it is a Series. Remember, Pandas uses the Series object for storing individual columns of data. We can check this by printing the type of the column,"
   ]
  },
  {
   "cell_type": "code",
   "execution_count": 18,
   "id": "2d368f48",
   "metadata": {
    "execution": {
     "iopub.execute_input": "2023-05-24T16:47:36.523183Z",
     "iopub.status.busy": "2023-05-24T16:47:36.523105Z",
     "iopub.status.idle": "2023-05-24T16:47:36.524987Z",
     "shell.execute_reply": "2023-05-24T16:47:36.524776Z"
    }
   },
   "outputs": [
    {
     "name": "stdout",
     "output_type": "stream",
     "text": [
      "<class 'pandas.core.frame.DataFrame'>\n",
      "<class 'pandas.core.series.Series'>\n"
     ]
    }
   ],
   "source": [
    "print(type(df))  # This will print <class 'pandas.core.frame.DataFrame'>\n",
    "extent = df['Extent']\n",
    "print(type(extent)) # This will print <class 'pandas.core.series.Series'>"
   ]
  },
  {
   "attachments": {},
   "cell_type": "markdown",
   "id": "437f7a74",
   "metadata": {},
   "source": [
    "The Series object has a specific type (called its `dtype`). In this case the type is `float64` which means that the data is stored as 64-bit floating point numbers. We can check the type of the data in a Series using the `dtype` attribute. Or more conveniently we can retrieve the data type of all the columns in the DataFrame using the DataFrame's `dtypes` attribute. Let's do that now,"
   ]
  },
  {
   "cell_type": "code",
   "execution_count": 19,
   "id": "0b2a0f2a",
   "metadata": {
    "execution": {
     "iopub.execute_input": "2023-05-24T16:47:36.526328Z",
     "iopub.status.busy": "2023-05-24T16:47:36.526256Z",
     "iopub.status.idle": "2023-05-24T16:47:36.528170Z",
     "shell.execute_reply": "2023-05-24T16:47:36.527928Z"
    }
   },
   "outputs": [
    {
     "name": "stdout",
     "output_type": "stream",
     "text": [
      "Year             int64\n",
      "Month            int64\n",
      "Day              int64\n",
      "Extent         float64\n",
      "Missing        float64\n",
      "Source Data     object\n",
      "hemisphere      object\n",
      "dtype: object\n"
     ]
    }
   ],
   "source": [
    "print(df.dtypes)"
   ]
  },
  {
   "attachments": {},
   "cell_type": "markdown",
   "id": "71c4e457",
   "metadata": {},
   "source": [
    "This will produce output looking like the following,\n",
    "\n",
    "```text\n",
    "Year             int64\n",
    "Month            int64\n",
    "Day              int64\n",
    "Extent         float64\n",
    "Missing        float64\n",
    "Source Data     object\n",
    "hemisphere      object\n",
    "dtype: object\n",
    "```\n",
    "\n",
    "We can see that the Year, Month and Day have integer values; the Extent and Missing columns have floating point values; and the Source Data and hemisphere columns have 'object' values.\n",
    "\n",
    "Pandas has inferred these types from the content of the csv file. It usually guesses correctly but it can sometimes get it wrong. If it is unsure it will typically default to the 'object' type. This has happened for the Source Data and hemisphere columns which should be strings. We can fix this by explicitly converting these columns to strings using the `astype()` method,"
   ]
  },
  {
   "cell_type": "code",
   "execution_count": 20,
   "id": "7a8ed798",
   "metadata": {
    "execution": {
     "iopub.execute_input": "2023-05-24T16:47:36.529529Z",
     "iopub.status.busy": "2023-05-24T16:47:36.529450Z",
     "iopub.status.idle": "2023-05-24T16:47:36.533626Z",
     "shell.execute_reply": "2023-05-24T16:47:36.533382Z"
    }
   },
   "outputs": [
    {
     "name": "stdout",
     "output_type": "stream",
     "text": [
      "Year                    int64\n",
      "Month                   int64\n",
      "Day                     int64\n",
      "Extent                float64\n",
      "Missing               float64\n",
      "Source Data    string[python]\n",
      "hemisphere     string[python]\n",
      "dtype: object\n"
     ]
    }
   ],
   "source": [
    "df['Source Data'] = df['Source Data'].astype(\"string\")\n",
    "df['hemisphere'] = df['hemisphere'].astype(\"string\")\n",
    "print(df.dtypes)"
   ]
  },
  {
   "attachments": {},
   "cell_type": "markdown",
   "id": "85db9f8a",
   "metadata": {},
   "source": [
    "A Series object is much like a list and we can use indexes and slicing operators to reference elements in the Series. For example, we can get the first element in the Series using,"
   ]
  },
  {
   "cell_type": "code",
   "execution_count": 21,
   "id": "417eef64",
   "metadata": {
    "execution": {
     "iopub.execute_input": "2023-05-24T16:47:36.535030Z",
     "iopub.status.busy": "2023-05-24T16:47:36.534950Z",
     "iopub.status.idle": "2023-05-24T16:47:36.537143Z",
     "shell.execute_reply": "2023-05-24T16:47:36.536894Z"
    }
   },
   "outputs": [
    {
     "name": "stdout",
     "output_type": "stream",
     "text": [
      "10.231\n"
     ]
    }
   ],
   "source": [
    "extent = df['Extent']\n",
    "print(extent[0])  # print the first element"
   ]
  },
  {
   "attachments": {},
   "cell_type": "markdown",
   "id": "405e31ad",
   "metadata": {},
   "source": [
    "or we can retrieve the sequence of elements from the 6th to 10th with,"
   ]
  },
  {
   "cell_type": "code",
   "execution_count": 22,
   "id": "1f7fba0d",
   "metadata": {
    "execution": {
     "iopub.execute_input": "2023-09-08T16:04:40.637404Z",
     "iopub.status.busy": "2023-09-08T16:04:40.637325Z",
     "iopub.status.idle": "2023-09-08T16:04:40.639312Z",
     "shell.execute_reply": "2023-09-08T16:04:40.639091Z"
    }
   },
   "outputs": [
    {
     "name": "stdout",
     "output_type": "stream",
     "text": [
      "5    10.968\n",
      "6    11.080\n",
      "7    11.189\n",
      "8    11.314\n",
      "9    11.460\n",
      "Name: Extent, dtype: float64\n"
     ]
    }
   ],
   "source": [
    "extent = df['Extent']\n",
    "print(extent[5:10]) # print a subseries from index 5 to 9"
   ]
  },
  {
   "cell_type": "markdown",
   "id": "52f9a88c",
   "metadata": {},
   "source": [
    "(Remember, the first element of a series has index 0, so the 10th element has index 9. The slicing notation `a:b` means to go from index `a` to `b-1` inclusive.)\n",
    "\n",
    "### 3.2 Selecting a Row\n",
    "\n",
    "We can select a single *row* from the DataFrame using the `iloc` attribute. This attribute takes a single integer index and returns a Series containing the data from the row at that index. For example, to select the first row we can use,"
   ]
  },
  {
   "cell_type": "code",
   "execution_count": 23,
   "id": "bd50c685",
   "metadata": {
    "execution": {
     "iopub.execute_input": "2023-05-24T16:47:36.538496Z",
     "iopub.status.busy": "2023-05-24T16:47:36.538419Z",
     "iopub.status.idle": "2023-05-24T16:47:36.540048Z",
     "shell.execute_reply": "2023-05-24T16:47:36.539816Z"
    }
   },
   "outputs": [],
   "source": [
    "row = df.iloc[0]"
   ]
  },
  {
   "cell_type": "code",
   "execution_count": 24,
   "id": "e8559788",
   "metadata": {
    "execution": {
     "iopub.execute_input": "2023-05-24T16:47:36.541351Z",
     "iopub.status.busy": "2023-05-24T16:47:36.541277Z",
     "iopub.status.idle": "2023-05-24T16:47:36.543135Z",
     "shell.execute_reply": "2023-05-24T16:47:36.542875Z"
    }
   },
   "outputs": [
    {
     "name": "stdout",
     "output_type": "stream",
     "text": [
      "Year                                                        1978\n",
      "Month                                                         10\n",
      "Day                                                           26\n",
      "Extent                                                    10.231\n",
      "Missing                                                      0.0\n",
      "Source Data    ['ftp://sidads.colorado.edu/pub/DATASETS/nsidc...\n",
      "hemisphere                                                 north\n",
      "Name: 0, dtype: object\n"
     ]
    }
   ],
   "source": [
    "print(row)"
   ]
  },
  {
   "attachments": {},
   "cell_type": "markdown",
   "id": "b9eb2701",
   "metadata": {},
   "source": [
    "Notice how the results have been returned as a Series object. We can check this by printing the type of the row,"
   ]
  },
  {
   "cell_type": "code",
   "execution_count": 25,
   "id": "94489908",
   "metadata": {
    "execution": {
     "iopub.execute_input": "2023-05-24T16:47:36.544480Z",
     "iopub.status.busy": "2023-05-24T16:47:36.544405Z",
     "iopub.status.idle": "2023-05-24T16:47:36.546154Z",
     "shell.execute_reply": "2023-05-24T16:47:36.545907Z"
    }
   },
   "outputs": [
    {
     "name": "stdout",
     "output_type": "stream",
     "text": [
      "<class 'pandas.core.series.Series'>\n"
     ]
    }
   ],
   "source": [
    "print(type(row)) # This will print <class 'pandas.core.series.Series'>"
   ]
  },
  {
   "attachments": {},
   "cell_type": "markdown",
   "id": "3a2978fb",
   "metadata": {},
   "source": [
    "So DataFrames are a collection of Series objects representing the columns, but if we extract a single row we get a Series object representing the row. The dtype of the row series is 'object'. An object type can basically store anything so it is being used here because each element in the row series has a different type.\n",
    "\n",
    "Alternatively, we can extract a range of rows using slicing,"
   ]
  },
  {
   "cell_type": "code",
   "execution_count": 26,
   "id": "a1c9a532",
   "metadata": {
    "execution": {
     "iopub.execute_input": "2023-05-24T16:47:36.550619Z",
     "iopub.status.busy": "2023-05-24T16:47:36.550540Z",
     "iopub.status.idle": "2023-05-24T16:47:36.552248Z",
     "shell.execute_reply": "2023-05-24T16:47:36.552026Z"
    }
   },
   "outputs": [],
   "source": [
    "rows = df.iloc[0:5]"
   ]
  },
  {
   "cell_type": "code",
   "execution_count": 27,
   "id": "947e9fda",
   "metadata": {
    "execution": {
     "iopub.execute_input": "2023-05-24T16:47:36.553661Z",
     "iopub.status.busy": "2023-05-24T16:47:36.553582Z",
     "iopub.status.idle": "2023-05-24T16:47:36.556237Z",
     "shell.execute_reply": "2023-05-24T16:47:36.555975Z"
    }
   },
   "outputs": [
    {
     "name": "stdout",
     "output_type": "stream",
     "text": [
      "   Year  Month  Day  Extent  Missing  \\\n",
      "0  1978     10   26  10.231      0.0   \n",
      "1  1978     10   28  10.420      0.0   \n",
      "2  1978     10   30  10.557      0.0   \n",
      "3  1978     11    1  10.670      0.0   \n",
      "4  1978     11    3  10.777      0.0   \n",
      "\n",
      "                                         Source Data hemisphere  \n",
      "0  ['ftp://sidads.colorado.edu/pub/DATASETS/nsidc...      north  \n",
      "1  ['ftp://sidads.colorado.edu/pub/DATASETS/nsidc...      north  \n",
      "2  ['ftp://sidads.colorado.edu/pub/DATASETS/nsidc...      north  \n",
      "3  ['ftp://sidads.colorado.edu/pub/DATASETS/nsidc...      north  \n",
      "4  ['ftp://sidads.colorado.edu/pub/DATASETS/nsidc...      north  \n"
     ]
    }
   ],
   "source": [
    "print(rows)"
   ]
  },
  {
   "attachments": {},
   "cell_type": "markdown",
   "id": "0cdf9bfc",
   "metadata": {},
   "source": [
    "Note that a collection of rows is still a DataFrame. We can check this by printing the type of the variable `rows`,"
   ]
  },
  {
   "cell_type": "code",
   "execution_count": 28,
   "id": "48077c1e",
   "metadata": {
    "execution": {
     "iopub.execute_input": "2023-05-24T16:47:36.557597Z",
     "iopub.status.busy": "2023-05-24T16:47:36.557522Z",
     "iopub.status.idle": "2023-05-24T16:47:36.559222Z",
     "shell.execute_reply": "2023-05-24T16:47:36.558995Z"
    }
   },
   "outputs": [
    {
     "name": "stdout",
     "output_type": "stream",
     "text": [
      "<class 'pandas.core.frame.DataFrame'>\n"
     ]
    }
   ],
   "source": [
    "print(type(rows))"
   ]
  },
  {
   "attachments": {},
   "cell_type": "markdown",
   "id": "cde08f97",
   "metadata": {},
   "source": [
    "Basically, if we have a single row or column then we are dealing with a Series, but if we have multiple rows and columns then we are dealing with a DataFrame.\n",
    "\n",
    "### 3.3 Filtering a DataFrame\n",
    "\n",
    "Very often in data science we need to select some subset of our data based on some condition, e.g., all cities where the population is greater than 1 million, or all years where the average temperature was less than 15 degrees Celcius. Or, more simply, we may wish to select every row that has an even index value. Alternatively, we may want to remove various columns from the DataFrame, i.e., those representing fields that we are not interested in. We will refer to these operations that take a DataFrame and return another smaller DataFrame as **filtering** operations. In this section we will look at a few simple examples.\n",
    "\n",
    "#### 3.3.1 Removing or Selecting Columns\n",
    "\n",
    "After loading our data we may want to remove columns that we are not interested in. This is easily done using the `drop()` method. For example, to make it easier to print the data frame, we will remove the Source Data column using,"
   ]
  },
  {
   "cell_type": "code",
   "execution_count": 29,
   "id": "fb4f38ba",
   "metadata": {
    "execution": {
     "iopub.execute_input": "2023-05-24T16:47:36.560562Z",
     "iopub.status.busy": "2023-05-24T16:47:36.560488Z",
     "iopub.status.idle": "2023-05-24T16:47:36.562711Z",
     "shell.execute_reply": "2023-05-24T16:47:36.562441Z"
    }
   },
   "outputs": [],
   "source": [
    "df = df.drop(columns=['Source Data'])"
   ]
  },
  {
   "attachments": {},
   "cell_type": "markdown",
   "id": "84df5ae8",
   "metadata": {},
   "source": [
    "There are now only 6 columns in the DataFrame and they can all be viewed at once,"
   ]
  },
  {
   "cell_type": "code",
   "execution_count": 30,
   "id": "70f02af1",
   "metadata": {
    "execution": {
     "iopub.execute_input": "2023-05-24T16:47:36.564103Z",
     "iopub.status.busy": "2023-05-24T16:47:36.564024Z",
     "iopub.status.idle": "2023-05-24T16:47:36.567120Z",
     "shell.execute_reply": "2023-05-24T16:47:36.566880Z"
    }
   },
   "outputs": [
    {
     "name": "stdout",
     "output_type": "stream",
     "text": [
      "       Year  Month  Day  Extent  Missing hemisphere\n",
      "0      1978     10   26  10.231      0.0      north\n",
      "1      1978     10   28  10.420      0.0      north\n",
      "2      1978     10   30  10.557      0.0      north\n",
      "3      1978     11    1  10.670      0.0      north\n",
      "4      1978     11    3  10.777      0.0      north\n",
      "...     ...    ...  ...     ...      ...        ...\n",
      "26349  2019      5   27  10.085      0.0      south\n",
      "26350  2019      5   28  10.078      0.0      south\n",
      "26351  2019      5   29  10.219      0.0      south\n",
      "26352  2019      5   30  10.363      0.0      south\n",
      "26353  2019      5   31  10.436      0.0      south\n",
      "\n",
      "[26354 rows x 6 columns]\n"
     ]
    }
   ],
   "source": [
    "print(df)"
   ]
  },
  {
   "attachments": {},
   "cell_type": "markdown",
   "id": "d999354e",
   "metadata": {},
   "source": [
    "Rather than removing columns, an alternative is to actively select the subset of columns that we wish to keep. This is done with the following indexing notation,"
   ]
  },
  {
   "cell_type": "code",
   "execution_count": 31,
   "id": "2f5e9f64",
   "metadata": {
    "execution": {
     "iopub.execute_input": "2023-05-24T16:47:36.568485Z",
     "iopub.status.busy": "2023-05-24T16:47:36.568403Z",
     "iopub.status.idle": "2023-05-24T16:47:36.570810Z",
     "shell.execute_reply": "2023-05-24T16:47:36.570582Z"
    }
   },
   "outputs": [],
   "source": [
    "df = df[['Year', 'Month', 'Day', 'Extent', 'Missing', 'hemisphere']]"
   ]
  },
  {
   "attachments": {},
   "cell_type": "markdown",
   "id": "45b605ff",
   "metadata": {},
   "source": [
    "#### 3.3.2 Selecting Rows\n",
    "\n",
    "Very often when analysing data we want to select a subset of the samples entries that match some criterion, i.e., to select a subset of the rows in our DataFrame.  This is very straightforward in Pandas and is done using a boolean expression as the index value.\n",
    "\n",
    "For example, lets say we want to select all the rows where the sea ice extent value is less than 5.0. We can do this using,"
   ]
  },
  {
   "cell_type": "code",
   "execution_count": 32,
   "id": "f80e80e8",
   "metadata": {
    "execution": {
     "iopub.execute_input": "2023-05-24T16:47:36.572145Z",
     "iopub.status.busy": "2023-05-24T16:47:36.572064Z",
     "iopub.status.idle": "2023-05-24T16:47:36.574171Z",
     "shell.execute_reply": "2023-05-24T16:47:36.573945Z"
    }
   },
   "outputs": [],
   "source": [
    "selector = df['Extent'] < 5.0\n",
    "df_low_extent = df[selector]"
   ]
  },
  {
   "attachments": {},
   "cell_type": "markdown",
   "id": "7c9cec68",
   "metadata": {},
   "source": [
    "We have done this in two steps. The first line takes the Extent series and compares every value to 5.0. This produces a series of boolean (i.e, True or False) values which we have stored in a variable called `selector`. The second line uses this boolean series as an index which has the effect of selecting only the rows where the value is True.\n",
    "\n",
    "If we now print the resulting DataFrame we can see that it only contains about 3000 rows of the original 26,354 rows in the dataset, i.e., these are the samples where the sea ice extent has fallen below 5.0 billion square kilometers."
   ]
  },
  {
   "cell_type": "code",
   "execution_count": 33,
   "id": "41f7fb33",
   "metadata": {
    "execution": {
     "iopub.execute_input": "2023-05-24T16:47:36.575560Z",
     "iopub.status.busy": "2023-05-24T16:47:36.575482Z",
     "iopub.status.idle": "2023-05-24T16:47:36.578697Z",
     "shell.execute_reply": "2023-05-24T16:47:36.578454Z"
    }
   },
   "outputs": [
    {
     "name": "stdout",
     "output_type": "stream",
     "text": [
      "       Year  Month  Day  Extent  Missing hemisphere\n",
      "8874   2007      8   20   4.997      0.0      north\n",
      "8875   2007      8   21   4.923      0.0      north\n",
      "8876   2007      8   22   4.901      0.0      north\n",
      "8877   2007      8   23   4.872      0.0      north\n",
      "8878   2007      8   24   4.837      0.0      north\n",
      "...     ...    ...  ...     ...      ...        ...\n",
      "26296  2019      4    4   4.564      0.0      south\n",
      "26297  2019      4    5   4.730      0.0      south\n",
      "26298  2019      4    6   4.856      0.0      south\n",
      "26299  2019      4    7   4.902      0.0      south\n",
      "26300  2019      4    8   4.993      0.0      south\n",
      "\n",
      "[2988 rows x 6 columns]\n"
     ]
    }
   ],
   "source": [
    "print(df_low_extent)"
   ]
  },
  {
   "attachments": {},
   "cell_type": "markdown",
   "id": "b4fd3ad3",
   "metadata": {},
   "source": [
    "They are ordered by year. What do you notice about the earliest year of this data? Remember that the original complete dataset had recordings going back to 1979, but all the monthly recordings where the sea ice extent have fallen below 5.0 billion square kilometers have occurred since 2007. Is this something that might have happened by chance or is it evidence of a trend in the data? We will see how to answer such questions a little later in the module.\n",
    "\n",
    "Let's say that we now just want to look at the Arctic data. We can do this by selecting only the rows where the hemisphere is 'north'. We can do this using the `eq()` method,"
   ]
  },
  {
   "cell_type": "code",
   "execution_count": 34,
   "id": "92573141",
   "metadata": {
    "execution": {
     "iopub.execute_input": "2023-05-24T16:47:36.580056Z",
     "iopub.status.busy": "2023-05-24T16:47:36.579980Z",
     "iopub.status.idle": "2023-05-24T16:47:36.582591Z",
     "shell.execute_reply": "2023-05-24T16:47:36.582351Z"
    }
   },
   "outputs": [],
   "source": [
    "filter = df['hemisphere'].eq('north')"
   ]
  },
  {
   "attachments": {},
   "cell_type": "markdown",
   "id": "9493ebe7",
   "metadata": {},
   "source": [
    "If we wanted to combine these two filters to select only the rows where the sea ice extent is less than 5.0 billion square kilometers and the hemisphere is 'north' we could do this using the `&` operator,"
   ]
  },
  {
   "cell_type": "code",
   "execution_count": 35,
   "id": "b972deea",
   "metadata": {
    "execution": {
     "iopub.execute_input": "2023-05-24T16:47:36.584008Z",
     "iopub.status.busy": "2023-05-24T16:47:36.583927Z",
     "iopub.status.idle": "2023-05-24T16:47:36.587139Z",
     "shell.execute_reply": "2023-05-24T16:47:36.586905Z"
    }
   },
   "outputs": [],
   "source": [
    "filter = (df['hemisphere'].eq('north')) & (df['Extent'] < 5.0)\n",
    "df_low_extent_north = df[filter]"
   ]
  },
  {
   "cell_type": "code",
   "execution_count": 36,
   "id": "f52cfdfe",
   "metadata": {
    "execution": {
     "iopub.execute_input": "2023-05-24T16:47:36.588498Z",
     "iopub.status.busy": "2023-05-24T16:47:36.588422Z",
     "iopub.status.idle": "2023-05-24T16:47:36.591452Z",
     "shell.execute_reply": "2023-05-24T16:47:36.591213Z"
    }
   },
   "outputs": [
    {
     "name": "stdout",
     "output_type": "stream",
     "text": [
      "       Year  Month  Day  Extent  Missing hemisphere\n",
      "8874   2007      8   20   4.997      0.0      north\n",
      "8875   2007      8   21   4.923      0.0      north\n",
      "8876   2007      8   22   4.901      0.0      north\n",
      "8877   2007      8   23   4.872      0.0      north\n",
      "8878   2007      8   24   4.837      0.0      north\n",
      "...     ...    ...  ...     ...      ...        ...\n",
      "12932  2018      9   29   4.846      0.0      north\n",
      "12933  2018      9   30   4.875      0.0      north\n",
      "12934  2018     10    1   4.947      0.0      north\n",
      "12935  2018     10    2   4.988      0.0      north\n",
      "12936  2018     10    3   4.975      0.0      north\n",
      "\n",
      "[339 rows x 6 columns]\n"
     ]
    }
   ],
   "source": [
    "print(df_low_extent_north)"
   ]
  },
  {
   "attachments": {},
   "cell_type": "markdown",
   "id": "6efeee10",
   "metadata": {},
   "source": [
    "This leave just 339 rows.\n",
    "\n",
    "```{note}\n",
    "Be careful to use parentheses around each filter expression above. The `&` operator has a higher precedence than the `<` operator so if you don't use parentheses then it will still be a valid the expression but will not work in the way you expected.\n",
    "```\n",
    "\n",
    "Note, that we use a very similar indexing syntax, i.e., `df[selector]`, for selecting both rows and columns. The difference is that when selecting rows we use a boolean series as the index value, whereas when selecting columns we use a list of column names as the index value. This can be a little confusing at first but you will soon get used to it.\n",
    "\n",
    "## 4 Grouping and averaging values\n",
    "\n",
    "### 4.1 Operating on columns\n",
    "\n",
    "There are many operations that we might apply over an entire column to compute some 'statistic' of that column. For example, we might want to compute a columns minimum, maximum, mean, median, standard deviation, etc. The Series object provides many methods to make this easy.\n",
    "\n",
    "For example, to compute the mean of the Extent column we can use,"
   ]
  },
  {
   "cell_type": "code",
   "execution_count": 37,
   "id": "f9c3ba1c",
   "metadata": {
    "execution": {
     "iopub.execute_input": "2023-05-24T16:47:36.592853Z",
     "iopub.status.busy": "2023-05-24T16:47:36.592775Z",
     "iopub.status.idle": "2023-05-24T16:47:36.594651Z",
     "shell.execute_reply": "2023-05-24T16:47:36.594401Z"
    }
   },
   "outputs": [
    {
     "name": "stdout",
     "output_type": "stream",
     "text": [
      "11.494986301889654\n"
     ]
    }
   ],
   "source": [
    "mean_value = df['Extent'].mean()\n",
    "print(mean_value)"
   ]
  },
  {
   "attachments": {},
   "cell_type": "markdown",
   "id": "3bba2e02",
   "metadata": {},
   "source": [
    "We can also calculate the minimum and maximum values in a similar way,"
   ]
  },
  {
   "cell_type": "code",
   "execution_count": 38,
   "id": "f652ba85",
   "metadata": {
    "execution": {
     "iopub.execute_input": "2023-05-24T16:47:36.596043Z",
     "iopub.status.busy": "2023-05-24T16:47:36.595966Z",
     "iopub.status.idle": "2023-05-24T16:47:36.597947Z",
     "shell.execute_reply": "2023-05-24T16:47:36.597718Z"
    }
   },
   "outputs": [
    {
     "name": "stdout",
     "output_type": "stream",
     "text": [
      "2.08 20.201\n"
     ]
    }
   ],
   "source": [
    "print(df['Extent'].min(), df['Extent'].max())"
   ]
  },
  {
   "attachments": {},
   "cell_type": "markdown",
   "id": "17870a5a",
   "metadata": {},
   "source": [
    "For convenience, the DataFrame object provides a `describe()` method that will compute and display the basic statistics for all the columns in the DataFrame that have numerical values. For example,"
   ]
  },
  {
   "cell_type": "code",
   "execution_count": 39,
   "id": "8662d35d",
   "metadata": {
    "execution": {
     "iopub.execute_input": "2023-05-24T16:47:36.599320Z",
     "iopub.status.busy": "2023-05-24T16:47:36.599238Z",
     "iopub.status.idle": "2023-05-24T16:47:36.606457Z",
     "shell.execute_reply": "2023-05-24T16:47:36.606221Z"
    }
   },
   "outputs": [
    {
     "name": "stdout",
     "output_type": "stream",
     "text": [
      "               Year         Month           Day        Extent       Missing\n",
      "count  26354.000000  26354.000000  26354.000000  26354.000000  26354.000000\n",
      "mean    2000.591941      6.507399     15.740685     11.494986      0.000003\n",
      "std       10.896821      3.451938      8.801607      4.611734      0.000227\n",
      "min     1978.000000      1.000000      1.000000      2.080000      0.000000\n",
      "25%     1992.000000      4.000000      8.000000      7.601000      0.000000\n",
      "50%     2001.000000      7.000000     16.000000     12.217000      0.000000\n",
      "75%     2010.000000     10.000000     23.000000     15.114000      0.000000\n",
      "max     2019.000000     12.000000     31.000000     20.201000      0.024000\n"
     ]
    }
   ],
   "source": [
    "print(df.describe())"
   ]
  },
  {
   "attachments": {},
   "cell_type": "markdown",
   "id": "653a5065",
   "metadata": {},
   "source": [
    "This will print the following table:\n",
    "\n",
    "```text\n",
    "               Year         Month           Day        Extent       Missing\n",
    "count  26354.000000  26354.000000  26354.000000  26354.000000  26354.000000\n",
    "mean    2000.591941      6.507399     15.740685     11.494986      0.000003\n",
    "std       10.896821      3.451938      8.801607      4.611734      0.000227\n",
    "min     1978.000000      1.000000      1.000000      2.080000      0.000000\n",
    "25%     1992.000000      4.000000      8.000000      7.601000      0.000000\n",
    "50%     2001.000000      7.000000     16.000000     12.217000      0.000000\n",
    "75%     2010.000000     10.000000     23.000000     15.114000      0.000000\n",
    "max     2019.000000     12.000000     31.000000     20.201000      0.024000\n",
    "```\n",
    "\n",
    "The table shows the number of items (count), mean, standard deviation (std), minimum (min), maximum (max), and the 25th, 50th, and 75th percentiles of the data in each column. Note, the 50th percentile is the same as the median. These statistics will be more meaningful for some columns than others. For example, in the above the mean and standard deviation of the Month and Day columns are not very meaningful. Nevertheless, the `describe()` methods is very useful for getting a quick overview of the data and is often the first thing we will do when we load a new dataset.\n",
    "\n",
    "### 4.2 Grouping data\n",
    "\n",
    "In the above, we have computed statistics of the entire data set. It is more common to want to compute statistics after grouping the data into meaningful subsets. For example, we might be interested in the mean sea ice extent for each year, or for each month, or for the north and south hemispheres, separately. To compute such statistics we need to group the data into subsets and then compute the statistics for each subset.\n",
    "\n",
    "Grouping the data is done using the `groupby()` method. For example, to group the data by month we can use,"
   ]
  },
  {
   "cell_type": "code",
   "execution_count": 40,
   "id": "11d2117a",
   "metadata": {
    "execution": {
     "iopub.execute_input": "2023-05-24T16:47:36.607939Z",
     "iopub.status.busy": "2023-05-24T16:47:36.607860Z",
     "iopub.status.idle": "2023-05-24T16:47:36.609633Z",
     "shell.execute_reply": "2023-05-24T16:47:36.609406Z"
    }
   },
   "outputs": [],
   "source": [
    "grouped = df.groupby('Month')"
   ]
  },
  {
   "attachments": {},
   "cell_type": "markdown",
   "id": "052c385e",
   "metadata": {},
   "source": [
    "This returns a special `DataFrameGroupBy` object. This object is a special type of DataFrame that contains the data grouped by the column we specified. We can then compute statistics on groups by selecting a column and using the same methods that we used earlier. For example, to compute the mean sea ice extent for each month we can use,"
   ]
  },
  {
   "cell_type": "code",
   "execution_count": 41,
   "id": "7164705d",
   "metadata": {
    "execution": {
     "iopub.execute_input": "2023-05-24T16:47:36.611044Z",
     "iopub.status.busy": "2023-05-24T16:47:36.610967Z",
     "iopub.status.idle": "2023-05-24T16:47:36.615862Z",
     "shell.execute_reply": "2023-05-24T16:47:36.615605Z"
    }
   },
   "outputs": [
    {
     "name": "stdout",
     "output_type": "stream",
     "text": [
      "Month\n",
      "1      9.587706\n",
      "2      9.057401\n",
      "3      9.621926\n",
      "4     10.678099\n",
      "5     11.637163\n",
      "6     12.476158\n",
      "7     12.563403\n",
      "8     12.288473\n",
      "9     12.265863\n",
      "10    13.044214\n",
      "11    13.152069\n",
      "12    11.514823\n",
      "Name: Extent, dtype: float64\n"
     ]
    }
   ],
   "source": [
    "print(grouped['Extent'].mean())"
   ]
  },
  {
   "attachments": {},
   "cell_type": "markdown",
   "id": "546982ef",
   "metadata": {},
   "source": [
    "The code above has produced a mean value for each month of the year (1 is January, 2 is February, etc). Notice how the amount of ice reaches a maximum in November and has a minimum in February. This might seem somewhat surprising to you, e.g., the maximum and minimum are not six months apart, as might be expected. Note, however, that when we grouped by month we included both Northern and Southern hemisphere measurements, so this mean will be the average across both hemispheres and this can lead to an unintuitive outcome.\n",
    "\n",
    "Let's say that we wanted to look at the sea ice extent for each month but separately for the northern and southern hemisphere. We now want to group by both month and hemisphere. We can do this easily by passing a list of column names to the `groupby()` method,"
   ]
  },
  {
   "cell_type": "code",
   "execution_count": 42,
   "id": "fe6bbbc4",
   "metadata": {
    "execution": {
     "iopub.execute_input": "2023-05-24T16:47:36.617257Z",
     "iopub.status.busy": "2023-05-24T16:47:36.617178Z",
     "iopub.status.idle": "2023-05-24T16:47:36.621653Z",
     "shell.execute_reply": "2023-05-24T16:47:36.621412Z"
    }
   },
   "outputs": [
    {
     "name": "stdout",
     "output_type": "stream",
     "text": [
      "hemisphere  Month\n",
      "north       1        14.176006\n",
      "            2        15.044512\n",
      "            3        15.205876\n",
      "            4        14.481141\n",
      "            5        13.072172\n",
      "            6        11.516788\n",
      "            7         9.090173\n",
      "            8         6.784248\n",
      "            9         5.988981\n",
      "            10        7.929377\n",
      "            11       10.448120\n",
      "            12       12.638618\n",
      "south       1         4.999406\n",
      "            2         3.070290\n",
      "            3         4.037976\n",
      "            4         6.875058\n",
      "            5        10.202155\n",
      "            6        13.435529\n",
      "            7        16.036633\n",
      "            8        17.792698\n",
      "            9        18.542745\n",
      "            10       18.159051\n",
      "            11       15.856019\n",
      "            12       10.391028\n",
      "Name: Extent, dtype: float64\n"
     ]
    }
   ],
   "source": [
    "grouped = df.groupby(['hemisphere', 'Month'])\n",
    "print(grouped['Extent'].mean())"
   ]
  },
  {
   "attachments": {},
   "cell_type": "markdown",
   "id": "6b971c67",
   "metadata": {},
   "source": [
    "Note, that when printing out a DataFrameGroupBy object that has been grouped by multiple fields, Pandas will produce a multicolumn table with the first column being the first field in the groupby list, the second column being the second field in the groupby list, etc. In this case, the first column is the hemisphere and the second column is the month.\n",
    "\n",
    "We now see that in the Arctic, the sea ice reaches a maximum in March and a minimum in September. In the Antarctic, the sea ice reaches a maximum in September and a minimum in February. This is more in line with what we might expect, i.e., the maxima and minima are about 6 months apart. The dates might seem a little later than what you would consider to be the peak of winter and summer. This is because of the way in which water stores heat. The oceans take a long time to cool down and warm up so the coldest and warmest months are not the same as the months with the shortest and longest days. You can now also see that the Antarctic sea ice extent is much more variable than the Arctic sea ice extent.\n",
    "\n",
    "Let us now consider how we would examine the Arctic and Antarctic sea ice minimum over the years. We can do this by grouping by hemisphere and year and then selecting the minimum value in each group,"
   ]
  },
  {
   "cell_type": "code",
   "execution_count": 43,
   "id": "dee0924b",
   "metadata": {
    "execution": {
     "iopub.execute_input": "2023-05-24T16:47:36.623071Z",
     "iopub.status.busy": "2023-05-24T16:47:36.622990Z",
     "iopub.status.idle": "2023-05-24T16:47:36.628469Z",
     "shell.execute_reply": "2023-05-24T16:47:36.628231Z"
    }
   },
   "outputs": [
    {
     "name": "stdout",
     "output_type": "stream",
     "text": [
      "hemisphere  Year\n",
      "north       1978    10.231\n",
      "            1979     6.895\n",
      "            1980     7.533\n",
      "            1981     6.902\n",
      "            1982     7.160\n",
      "                     ...  \n",
      "south       2015     3.544\n",
      "            2016     2.616\n",
      "            2017     2.080\n",
      "            2018     2.150\n",
      "            2019     2.444\n",
      "Name: Extent, Length: 84, dtype: float64\n"
     ]
    }
   ],
   "source": [
    "grouped = df.groupby(['hemisphere', 'Year'])\n",
    "print(grouped['Extent'].min())"
   ]
  },
  {
   "attachments": {},
   "cell_type": "markdown",
   "id": "0d8d1d43",
   "metadata": {},
   "source": [
    "Pandas has built-in methods for making plots. Below we are making a plot and then getting the `figure` from the plot and saving it to a file. The resulting plot is being imported back into these notes."
   ]
  },
  {
   "cell_type": "code",
   "execution_count": 45,
   "id": "87151adf",
   "metadata": {
    "execution": {
     "iopub.execute_input": "2023-05-24T16:47:36.629873Z",
     "iopub.status.busy": "2023-05-24T16:47:36.629778Z",
     "iopub.status.idle": "2023-05-24T16:47:36.898161Z",
     "shell.execute_reply": "2023-05-24T16:47:36.897864Z"
    }
   },
   "outputs": [
    {
     "data": {
      "image/png": "[encoded data removed]",
      "text/plain": [
       "<Figure size 640x480 with 1 Axes>"
      ]
     },
     "metadata": {},
     "output_type": "display_data"
    }
   ],
   "source": [
    "grouped = df.groupby(['hemisphere', 'Year'])\n",
    "ice_extent = grouped['Extent'].min()['north']\n",
    "\n",
    "my_plot = ice_extent.plot()\n",
    "my_plot.get_figure().savefig(\"figures/040_1.jpeg\")"
   ]
  },
  {
   "cell_type": "code",
   "execution_count": 49,
   "id": "1b1db027",
   "metadata": {},
   "outputs": [
    {
     "name": "stdout",
     "output_type": "stream",
     "text": [
      "Year\n",
      "1978    10.231\n",
      "1979     6.895\n",
      "1980     7.533\n",
      "1981     6.902\n",
      "1982     7.160\n",
      "1983     7.204\n",
      "1984     6.396\n",
      "1985     6.486\n",
      "1986     7.122\n",
      "1987     6.890\n",
      "1988     7.048\n",
      "1989     6.888\n",
      "1990     6.011\n",
      "1991     6.259\n",
      "1992     7.159\n",
      "1993     6.161\n",
      "1994     6.934\n",
      "1995     6.012\n",
      "1996     7.147\n",
      "1997     6.602\n",
      "1998     6.293\n",
      "1999     5.676\n",
      "2000     5.943\n",
      "2001     6.567\n",
      "2002     5.625\n",
      "2003     5.969\n",
      "2004     5.770\n",
      "2005     5.314\n",
      "2006     5.746\n",
      "2007     4.147\n",
      "2008     4.548\n",
      "2009     5.047\n",
      "2010     4.590\n",
      "2011     4.333\n",
      "2012     3.340\n",
      "2013     5.040\n",
      "2014     4.988\n",
      "2015     4.387\n",
      "2016     4.145\n",
      "2017     4.635\n",
      "2018     4.553\n",
      "2019    11.486\n",
      "Name: Extent, dtype: float64\n"
     ]
    }
   ],
   "source": [
    "grouped = df.groupby(['hemisphere', 'Year'])\n",
    "ice_extent = grouped['Extent'].min()['north']\n",
    "print(ice_extent)"
   ]
  },
  {
   "attachments": {},
   "cell_type": "markdown",
   "id": "62d2492c",
   "metadata": {},
   "source": [
    "You can see that the sea ice extent has been broadly trending downwards but the values at the extremes of the x-axis look a bit odd, i.e., there are very large values for the first and last year in the dataset. This is is an 'artefact' caused because the data for these years is incomplete. The data for 1978 only starts in November and the data for 2019 only goes up to July. The code has computed the average for the few months that are available but this is not representative of the average for the full year. We can fix this problem by simply removing these years from the data before plotting.\n",
    "\n",
    "To remove the first and last values in a series we can use the familiar slicing notation that we saw when using NumPy, '[1:-1]'. So the code will now look like,"
   ]
  },
  {
   "cell_type": "code",
   "execution_count": 50,
   "id": "63bd00d6",
   "metadata": {
    "execution": {
     "iopub.execute_input": "2023-05-24T16:47:36.899841Z",
     "iopub.status.busy": "2023-05-24T16:47:36.899710Z",
     "iopub.status.idle": "2023-05-24T16:47:36.995690Z",
     "shell.execute_reply": "2023-05-24T16:47:36.995366Z"
    }
   },
   "outputs": [
    {
     "data": {
      "image/png": "[encoded data removed]",
      "text/plain": [
       "<Figure size 640x480 with 1 Axes>"
      ]
     },
     "metadata": {},
     "output_type": "display_data"
    }
   ],
   "source": [
    "grouped = df.groupby(['hemisphere', 'Year'])\n",
    "ice_extent = grouped['Extent'].min()['north']\n",
    "ice_extent = ice_extent[1:-1]  # remove first and last years\n",
    "\n",
    "my_plot = ice_extent.plot(title='Arctic sea ice minimum', ylabel='million square km')\n",
    "my_plot.get_figure().savefig(\"figures/040_2.jpeg\")"
   ]
  },
  {
   "attachments": {},
   "cell_type": "markdown",
   "id": "47dca778",
   "metadata": {},
   "source": [
    "Notice how the sea ice minimum fluctuates seemingly at random from year to year. This kind of unexplained variation in data is often referred to as noise. But ignoring the fluctuations, we can see that there also appears to be a downward trend in the sea ice minimum. If we want to be sure that there is a genuine downward trend and that the low values in recent years are not just part of the usual random fluctuations, then we need to do some statistical analysis. We will look at how to do this later in the module.\n",
    "\n",
    "## 5 Dealing with Missing Data\n",
    "\n",
    "Very often we need to work with data sets that have 'missing values', i.e., for one or more fields in the data there is no value available. These are typically encoded in the data file using a special symbol such as 'NaN'. For example, we may have some employee data that records an ID, a surname and age and a gender, but there may be some employees that have not provided either their age or gender or both.\n",
    "\n",
    "We can read and display some example data"
   ]
  },
  {
   "cell_type": "code",
   "execution_count": 51,
   "id": "782f5daf",
   "metadata": {
    "execution": {
     "iopub.execute_input": "2023-05-25T19:01:50.535125Z",
     "iopub.status.busy": "2023-05-25T19:01:50.535008Z",
     "iopub.status.idle": "2023-05-25T19:01:50.537639Z",
     "shell.execute_reply": "2023-05-25T19:01:50.537378Z"
    }
   },
   "outputs": [],
   "source": [
    "df = pd.read_csv('data/employee.csv')"
   ]
  },
  {
   "attachments": {},
   "cell_type": "markdown",
   "id": "3f91f3c0",
   "metadata": {},
   "source": [
    "Note, below, the presence of 'NaN' in the age and gender columns."
   ]
  },
  {
   "cell_type": "code",
   "execution_count": 52,
   "id": "332fa05b",
   "metadata": {
    "execution": {
     "iopub.execute_input": "2023-05-25T19:01:50.539121Z",
     "iopub.status.busy": "2023-05-25T19:01:50.539015Z",
     "iopub.status.idle": "2023-05-25T19:01:50.541700Z",
     "shell.execute_reply": "2023-05-25T19:01:50.541445Z"
    }
   },
   "outputs": [
    {
     "name": "stdout",
     "output_type": "stream",
     "text": [
      "   ID    Surname   Age  Gender\n",
      "0   1      Smith  32.0    Male\n",
      "1   2    Johnson  45.0  Female\n",
      "2   3   Gonzalez   NaN     NaN\n",
      "3   4         Li  37.0  Female\n",
      "4   5      Brown  41.0    Male\n",
      "5   6  Rodriguez  29.0  Female\n",
      "6   7      Kumar  32.0     NaN\n",
      "7   8      Lopez  36.0  Female\n",
      "8   9     Nguyen   NaN    Male\n",
      "9  10      Patel  40.0    Male\n"
     ]
    }
   ],
   "source": [
    "print(df)"
   ]
  },
  {
   "attachments": {},
   "cell_type": "markdown",
   "id": "e0dfc80a",
   "metadata": {},
   "source": [
    "There are some simple functions for testing for the presence of these missing values. For example, the `isnull()` method will produce a new dataframe of boolean values with a True in every location where data is missing."
   ]
  },
  {
   "cell_type": "code",
   "execution_count": 53,
   "id": "dcb9deed",
   "metadata": {
    "execution": {
     "iopub.execute_input": "2023-05-25T19:01:50.543279Z",
     "iopub.status.busy": "2023-05-25T19:01:50.543177Z",
     "iopub.status.idle": "2023-05-25T19:01:50.545797Z",
     "shell.execute_reply": "2023-05-25T19:01:50.545476Z"
    }
   },
   "outputs": [
    {
     "name": "stdout",
     "output_type": "stream",
     "text": [
      "      ID  Surname    Age  Gender\n",
      "0  False    False  False   False\n",
      "1  False    False  False   False\n",
      "2  False    False   True    True\n",
      "3  False    False  False   False\n",
      "4  False    False  False   False\n",
      "5  False    False  False   False\n",
      "6  False    False  False    True\n",
      "7  False    False  False   False\n",
      "8  False    False   True   False\n",
      "9  False    False  False   False\n"
     ]
    }
   ],
   "source": [
    "print(pd.isnull(df))"
   ]
  },
  {
   "attachments": {},
   "cell_type": "markdown",
   "id": "b53a068e",
   "metadata": {},
   "source": [
    "Typically if we have missing values we will need to take some action to deal with them before progressing with our analysis. Depending on the situation, the most appropriate action might be to simply remove the rows with missing values, or to fill in the missing values with some sensible default value, or to use some more sophisticated method for estimating what the missing values would have been if they had been present.\n",
    "\n",
    "### 5.1 Filling missing data with a fixed value\n",
    "\n",
    "We can fill in missing values using the `fillna` method. For example, if displaying the data, we may simply want to replace the Gender NaNs with something more readable such as 'Gender not provided'. This is done as follows,"
   ]
  },
  {
   "cell_type": "code",
   "execution_count": 54,
   "id": "d3e1177b",
   "metadata": {
    "execution": {
     "iopub.execute_input": "2023-05-25T19:01:50.547269Z",
     "iopub.status.busy": "2023-05-25T19:01:50.547168Z",
     "iopub.status.idle": "2023-05-25T19:01:50.549050Z",
     "shell.execute_reply": "2023-05-25T19:01:50.548797Z"
    }
   },
   "outputs": [],
   "source": [
    "df['Gender'].fillna(\"Gender not provided\", inplace = True)"
   ]
  },
  {
   "cell_type": "code",
   "execution_count": 55,
   "id": "d8c1e77b",
   "metadata": {
    "execution": {
     "iopub.execute_input": "2023-05-25T19:01:50.550466Z",
     "iopub.status.busy": "2023-05-25T19:01:50.550365Z",
     "iopub.status.idle": "2023-05-25T19:01:50.552842Z",
     "shell.execute_reply": "2023-05-25T19:01:50.552547Z"
    }
   },
   "outputs": [
    {
     "name": "stdout",
     "output_type": "stream",
     "text": [
      "   ID    Surname   Age               Gender\n",
      "0   1      Smith  32.0                 Male\n",
      "1   2    Johnson  45.0               Female\n",
      "2   3   Gonzalez   NaN  Gender not provided\n",
      "3   4         Li  37.0               Female\n",
      "4   5      Brown  41.0                 Male\n",
      "5   6  Rodriguez  29.0               Female\n",
      "6   7      Kumar  32.0  Gender not provided\n",
      "7   8      Lopez  36.0               Female\n",
      "8   9     Nguyen   NaN                 Male\n",
      "9  10      Patel  40.0                 Male\n"
     ]
    }
   ],
   "source": [
    "print(df)"
   ]
  },
  {
   "attachments": {},
   "cell_type": "markdown",
   "id": "9bfbcbf1",
   "metadata": {},
   "source": [
    "Note the parameter `inplace = True`. This tells Pandas to modify the DataFrame 'in place' rather than making and returning a modified copy of the original DataFrame (which is what happens when you set `inplace = False`, or use the default behaviour). This 'in place' modification is a common pattern in Pandas and many methods have this `inplace` parameter. For large DataFrames it is often desirable to modify the DataFrame in place to avoid the memory overhead of creating a new DataFrame. It can however be a dangerous style of programming that can lead to subtle errors. For example, if we have a function that modifies a DataFrame in place but which also returns the modified DataFrame then the user of the function may be unaware that the DataFrame they are passing as a parameter is going to be changed by the function. This unexpected behaviour can easily lead to bugs. It is often better to leave the `inplace` attribute set to False and to assign the result of the method to a new variable. This is a safer style of programming and should be preferred unless you are sure that it is causing a performance problem.\n",
    "\n",
    "The `fillna` method has other useful options such as a `method` parameter that can fill the missing value with the previous or next valid observation in the Series. This behaviour is useful for sequential data, e.g., data ordered by date, for example. For example, if there is a weather station but it has failed to record a temperature on a particular day, then we might opt to fill in the missing value with the temperature recorded on the previous day as this is likely to be a reasonably good estimate.\n",
    "\n",
    "### 5.2 Filling missing values using 'mean imputation'\n",
    "\n",
    "Another common strategy for filling missing values in numeric data is to fill the missing values with the mean of the values that are present. In the data science literature this is known as 'mean imputation'. This might be a sensible way of treating our missing employee age data and can be easily done using,"
   ]
  },
  {
   "cell_type": "code",
   "execution_count": 56,
   "id": "87fe8b3d",
   "metadata": {
    "execution": {
     "iopub.execute_input": "2023-05-25T19:01:50.554260Z",
     "iopub.status.busy": "2023-05-25T19:01:50.554162Z",
     "iopub.status.idle": "2023-05-25T19:01:50.556045Z",
     "shell.execute_reply": "2023-05-25T19:01:50.555799Z"
    }
   },
   "outputs": [],
   "source": [
    "df['Age'].fillna(df['Age'].mean(), inplace = True)"
   ]
  },
  {
   "attachments": {},
   "cell_type": "markdown",
   "id": "fc1bcf37",
   "metadata": {},
   "source": [
    "This will produce the following,"
   ]
  },
  {
   "cell_type": "code",
   "execution_count": 57,
   "id": "436fad9c",
   "metadata": {
    "execution": {
     "iopub.execute_input": "2023-05-25T19:01:50.557550Z",
     "iopub.status.busy": "2023-05-25T19:01:50.557451Z",
     "iopub.status.idle": "2023-05-25T19:01:50.559981Z",
     "shell.execute_reply": "2023-05-25T19:01:50.559671Z"
    }
   },
   "outputs": [
    {
     "name": "stdout",
     "output_type": "stream",
     "text": [
      "   ID    Surname   Age               Gender\n",
      "0   1      Smith  32.0                 Male\n",
      "1   2    Johnson  45.0               Female\n",
      "2   3   Gonzalez  36.5  Gender not provided\n",
      "3   4         Li  37.0               Female\n",
      "4   5      Brown  41.0                 Male\n",
      "5   6  Rodriguez  29.0               Female\n",
      "6   7      Kumar  32.0  Gender not provided\n",
      "7   8      Lopez  36.0               Female\n",
      "8   9     Nguyen  36.5                 Male\n",
      "9  10      Patel  40.0                 Male\n"
     ]
    }
   ],
   "source": [
    "print(df)"
   ]
  },
  {
   "attachments": {},
   "cell_type": "markdown",
   "id": "7ab2d0e9",
   "metadata": {},
   "source": [
    "Note how the missing age values for Gonzalez and Nguyen have now been replaced with 36.5.  Obviously, this is unlikely to be their true ages, but it might be a sensible guess to use in the analysis stages that are going to follow.\n",
    "\n",
    "Treatment of missing data is a big topic and something we will return to later in the module.\n",
    "\n",
    "## 6 Collating data\n",
    "\n",
    "Very often as Data Scientists, we need to combine data from different sources. For example, we might have two separate datasets that are linked by a shared field, such as customer ID, date, or location. These will typically start lief as separate files. These can be read into two separate DataFrames but in order to understand the data we will generally need to combine these DataFrames into a new common DataFrame, in some way.\n",
    "\n",
    "In the simple example below, we will consider two different sets of atmospheric gas readings, carbon dioxide and methane that have been measured at the same location over time but are stored separately in the files `co2.csv` and `ch4.csv`. (The file names are based on the chemical formulae for carbon dioxide and methane, CO<sub>2</sub> and CH<sub>4</sub>, respectively).\n",
    "\n",
    "Let's imagine that the first few rows of these tables look like this\n",
    "\n",
    "```csv\n",
    "year, month, day, co2\n",
    "2020, 1, 02, 442\n",
    "2020, 1, 03, 444\n",
    "2020, 1, 04, 441\n",
    "2020, 1, 07, 446\n",
    "```\n",
    "\n",
    "and this,\n",
    "\n",
    "```csv\n",
    "year, month, day, ch4\n",
    "2020, 1, 02, 442\n",
    "2020, 1, 03, 444\n",
    "2020, 1, 05, 441\n",
    "2020, 1, 06, 442\n",
    "2020, 1, 07, 446\n",
    "```\n",
    "\n",
    "We can see that for both tables share the same year, month and day columns but each have their own unique column for the gas concentration measurement. We can also see that the data is not recorded on every day: on some days there is both a carbon dioxide and a methane measurement, on some just one or the other and on some dates there is neither. We will now consider different ways in which these datasets can be combined.\n",
    "\n",
    "### 6.1 Combining DataFrames using the `merge` method\n",
    "\n",
    "To make the task a bit more instructive, the data above has some missing entries, e.g., entries for day 05 and 06 are missing from the CO<sub>2</sub> data. The entry for day 04 is missing from the CH<sub>4</sub> data. In a well designed dataset these might have been recorded with NaN values but often there are just gaps in the data.\n",
    "\n",
    "We can read these tables using,"
   ]
  },
  {
   "cell_type": "code",
   "execution_count": 58,
   "id": "9155bbc2",
   "metadata": {
    "execution": {
     "iopub.execute_input": "2023-05-25T19:01:50.561413Z",
     "iopub.status.busy": "2023-05-25T19:01:50.561313Z",
     "iopub.status.idle": "2023-05-25T19:01:50.564273Z",
     "shell.execute_reply": "2023-05-25T19:01:50.564022Z"
    }
   },
   "outputs": [],
   "source": [
    "co2_df = pd.read_csv('data/co2_ex.csv', skipinitialspace=True)\n",
    "ch4_df = pd.read_csv('data/ch4_ex.csv',  skipinitialspace=True)"
   ]
  },
  {
   "cell_type": "code",
   "execution_count": 59,
   "id": "e50c64b4",
   "metadata": {
    "execution": {
     "iopub.execute_input": "2023-05-25T19:01:50.565664Z",
     "iopub.status.busy": "2023-05-25T19:01:50.565565Z",
     "iopub.status.idle": "2023-05-25T19:01:50.568269Z",
     "shell.execute_reply": "2023-05-25T19:01:50.567985Z"
    }
   },
   "outputs": [
    {
     "name": "stdout",
     "output_type": "stream",
     "text": [
      "   year  month  day  co2\n",
      "0  2020      1    2  442\n",
      "1  2020      1    3  444\n",
      "2  2020      1    4  441\n",
      "3  2020      1    7  446\n",
      "   year  month  day  ch4\n",
      "0  2020      1    2  442\n",
      "1  2020      1    3  444\n",
      "2  2020      1    5  441\n",
      "3  2020      1    6  442\n",
      "4  2020      1    7  446\n"
     ]
    }
   ],
   "source": [
    "print(co2_df)\n",
    "print(ch4_df)"
   ]
  },
  {
   "attachments": {},
   "cell_type": "markdown",
   "id": "e48899c7",
   "metadata": {},
   "source": [
    "We can now `merge` the tables. To do this we need to pick a column to **merge on**. This is typically a key-like value that uniquely identifies the data entry (i.e., row) and which appears in both tables. If no one column is unique then we can use a collection of columns to merge on. For example, in our data, neither the year, month nor day would be a unique identifier if taken in isolation, but the three together form a unique set of values (i.e., because there is only one measurement per day, no two rows have an identical year, month and day). So we will use `on=['year', 'month', 'day']`.\n",
    "\n",
    "We can then merge in four different ways: `inner`, `outer`, `left` or `right`. These differ in how they treat missing values: `inner` will only merge rows in which the row exists in both DataFrames (i.e., if you think of this a merging two *sets* then this would be an 'intersection'); `outer` will include rows that exist in either of the two DataFrames (i.e., in terms of sets, this would be a 'union'); `left` only includes rows which are in the first DataFrame and `right` only those in the second. This can be most easily understood by comparing the outputs below.\n",
    "\n",
    "* Merging CO<sub>2</sub> and CH<sub>4</sub> using an `inner` merge:"
   ]
  },
  {
   "cell_type": "code",
   "execution_count": 60,
   "id": "76a4a2fb",
   "metadata": {
    "execution": {
     "iopub.execute_input": "2023-05-25T19:01:50.569782Z",
     "iopub.status.busy": "2023-05-25T19:01:50.569682Z",
     "iopub.status.idle": "2023-05-25T19:01:50.573169Z",
     "shell.execute_reply": "2023-05-25T19:01:50.572872Z"
    }
   },
   "outputs": [
    {
     "name": "stdout",
     "output_type": "stream",
     "text": [
      "   year  month  day  co2  ch4\n",
      "0  2020      1    2  442  442\n",
      "1  2020      1    3  444  444\n",
      "2  2020      1    7  446  446\n"
     ]
    }
   ],
   "source": [
    "combined_df = co2_df.merge(ch4_df, on=['year', 'month', 'day'], how='inner')\n",
    "print(combined_df)"
   ]
  },
  {
   "attachments": {},
   "cell_type": "markdown",
   "id": "c5419d3b",
   "metadata": {},
   "source": [
    "* Merging CO<sub>2</sub> and CH<sub>4</sub> using an `outer` merge:"
   ]
  },
  {
   "cell_type": "code",
   "execution_count": 61,
   "id": "95fed390",
   "metadata": {
    "execution": {
     "iopub.execute_input": "2023-05-25T19:01:50.574593Z",
     "iopub.status.busy": "2023-05-25T19:01:50.574509Z",
     "iopub.status.idle": "2023-05-25T19:01:50.578883Z",
     "shell.execute_reply": "2023-05-25T19:01:50.578624Z"
    }
   },
   "outputs": [
    {
     "name": "stdout",
     "output_type": "stream",
     "text": [
      "   year  month  day    co2    ch4\n",
      "0  2020      1    2  442.0  442.0\n",
      "1  2020      1    3  444.0  444.0\n",
      "2  2020      1    4  441.0    NaN\n",
      "3  2020      1    7  446.0  446.0\n",
      "4  2020      1    5    NaN  441.0\n",
      "5  2020      1    6    NaN  442.0\n"
     ]
    }
   ],
   "source": [
    "combined_df = co2_df.merge(ch4_df, on=['year', 'month', 'day'], how='outer')\n",
    "print(combined_df)"
   ]
  },
  {
   "attachments": {},
   "cell_type": "markdown",
   "id": "5ba5b96d",
   "metadata": {},
   "source": [
    "* Merging CO<sub>2</sub> and CH<sub>4</sub> using a `left` merge:"
   ]
  },
  {
   "cell_type": "code",
   "execution_count": 62,
   "id": "fcf81da0",
   "metadata": {
    "execution": {
     "iopub.execute_input": "2023-05-25T19:01:50.580314Z",
     "iopub.status.busy": "2023-05-25T19:01:50.580232Z",
     "iopub.status.idle": "2023-05-25T19:01:50.583657Z",
     "shell.execute_reply": "2023-05-25T19:01:50.583366Z"
    }
   },
   "outputs": [
    {
     "name": "stdout",
     "output_type": "stream",
     "text": [
      "   year  month  day  co2    ch4\n",
      "0  2020      1    2  442  442.0\n",
      "1  2020      1    3  444  444.0\n",
      "2  2020      1    4  441    NaN\n",
      "3  2020      1    7  446  446.0\n"
     ]
    }
   ],
   "source": [
    "combined_df = co2_df.merge(ch4_df, on=['year', 'month', 'day'], how='left')\n",
    "print(combined_df)"
   ]
  },
  {
   "attachments": {},
   "cell_type": "markdown",
   "id": "a07d41e0",
   "metadata": {},
   "source": [
    "* Merging CO<sub>2</sub> and CH<sub>4</sub> using a `right` merge:"
   ]
  },
  {
   "cell_type": "code",
   "execution_count": 63,
   "id": "d092ff9e",
   "metadata": {
    "execution": {
     "iopub.execute_input": "2023-05-25T19:01:50.585101Z",
     "iopub.status.busy": "2023-05-25T19:01:50.585019Z",
     "iopub.status.idle": "2023-05-25T19:01:50.589008Z",
     "shell.execute_reply": "2023-05-25T19:01:50.588756Z"
    }
   },
   "outputs": [
    {
     "name": "stdout",
     "output_type": "stream",
     "text": [
      "   year  month  day    co2  ch4\n",
      "0  2020      1    2  442.0  442\n",
      "1  2020      1    3  444.0  444\n",
      "2  2020      1    5    NaN  441\n",
      "3  2020      1    6    NaN  442\n",
      "4  2020      1    7  446.0  446\n"
     ]
    }
   ],
   "source": [
    "combined_df = co2_df.merge(ch4_df, on=['year', 'month', 'day'], how='right')\n",
    "print(combined_df)"
   ]
  },
  {
   "attachments": {},
   "cell_type": "markdown",
   "id": "9d121447",
   "metadata": {},
   "source": [
    "In all cases, in the resulting table, any missing values will be automatically filled in with NaNs.\n",
    "\n",
    "Warning:\n",
    "\n",
    "Typically the join columns act as a unique key. What happens if we choose columns that are not unique? Below we attempt to join on the 'year' column which is actually the same for all our rows, i.e.,"
   ]
  },
  {
   "cell_type": "code",
   "execution_count": 64,
   "id": "f3b4f79b",
   "metadata": {
    "execution": {
     "iopub.execute_input": "2023-05-25T19:01:50.590524Z",
     "iopub.status.busy": "2023-05-25T19:01:50.590422Z",
     "iopub.status.idle": "2023-05-25T19:01:50.593730Z",
     "shell.execute_reply": "2023-05-25T19:01:50.593438Z"
    }
   },
   "outputs": [
    {
     "name": "stdout",
     "output_type": "stream",
     "text": [
      "    year  month_x  day_x  co2  month_y  day_y  ch4\n",
      "0   2020        1      2  442        1      2  442\n",
      "1   2020        1      2  442        1      3  444\n",
      "2   2020        1      2  442        1      5  441\n",
      "3   2020        1      2  442        1      6  442\n",
      "4   2020        1      2  442        1      7  446\n",
      "5   2020        1      3  444        1      2  442\n",
      "6   2020        1      3  444        1      3  444\n",
      "7   2020        1      3  444        1      5  441\n",
      "8   2020        1      3  444        1      6  442\n",
      "9   2020        1      3  444        1      7  446\n",
      "10  2020        1      4  441        1      2  442\n",
      "11  2020        1      4  441        1      3  444\n",
      "12  2020        1      4  441        1      5  441\n",
      "13  2020        1      4  441        1      6  442\n",
      "14  2020        1      4  441        1      7  446\n",
      "15  2020        1      7  446        1      2  442\n",
      "16  2020        1      7  446        1      3  444\n",
      "17  2020        1      7  446        1      5  441\n",
      "18  2020        1      7  446        1      6  442\n",
      "19  2020        1      7  446        1      7  446\n"
     ]
    }
   ],
   "source": [
    "combined_df = co2_df.merge(ch4_df, on=['year'], how='inner')\n",
    "print(combined_df)"
   ]
  },
  {
   "attachments": {},
   "cell_type": "markdown",
   "id": "c912b77e",
   "metadata": {},
   "source": [
    "This has taken the set of rows from each table that share the same year, and made new rows using every possible pairing of rows in these sets. Also because 'month' and 'day' were not in the join the new DataFrame now has a separate month and day columns coming from the two original DataFrames which have been automatically distinguished with the suffixes '_x' and '_y'.  There are actually instances when we might want this behaviour, but if your output is looking like this, it is more likely that it's because you have set the `on` parameter incorrectly.\n",
    "\n",
    "### 6.2 Combining DataFrames using the `join` method\n",
    "\n",
    "The `join` function is very similar to `merge` except that it uses the DataFrame's index to decide which rows to combine. It can be thought of as a special case of `merge`, however, it is often more convenient and faster to use. If the DataFrame already has a meaningful index then this is very easy to use, e.g., perhaps a product ID column is being used as the index and we have two DataFrames containing product sales for different product ranges that we wish to join.\n",
    "\n",
    "In our case, if working with the CO<sub>2</sub> and CH<sub>4</sub> data from above, in order to use join we would first need to make an index using the year, month and day columns. We can do this using the `set_index` method, like so:"
   ]
  },
  {
   "cell_type": "code",
   "execution_count": 65,
   "id": "e69b2720",
   "metadata": {
    "execution": {
     "iopub.execute_input": "2023-05-25T19:01:50.595138Z",
     "iopub.status.busy": "2023-05-25T19:01:50.595055Z",
     "iopub.status.idle": "2023-05-25T19:01:50.598071Z",
     "shell.execute_reply": "2023-05-25T19:01:50.597760Z"
    }
   },
   "outputs": [],
   "source": [
    "co2_df_indexed = co2_df.set_index(['year', 'month', 'day'])\n",
    "ch4_df_indexed = ch4_df.set_index(['year', 'month', 'day'])"
   ]
  },
  {
   "cell_type": "code",
   "execution_count": 66,
   "id": "4b76771d",
   "metadata": {
    "execution": {
     "iopub.execute_input": "2023-05-25T19:01:50.599436Z",
     "iopub.status.busy": "2023-05-25T19:01:50.599354Z",
     "iopub.status.idle": "2023-05-25T19:01:50.601940Z",
     "shell.execute_reply": "2023-05-25T19:01:50.601686Z"
    }
   },
   "outputs": [
    {
     "name": "stdout",
     "output_type": "stream",
     "text": [
      "                co2\n",
      "year month day     \n",
      "2020 1     2    442\n",
      "           3    444\n",
      "           4    441\n",
      "           7    446\n",
      "                ch4\n",
      "year month day     \n",
      "2020 1     2    442\n",
      "           3    444\n",
      "           5    441\n",
      "           6    442\n",
      "           7    446\n"
     ]
    }
   ],
   "source": [
    "print(co2_df_indexed)\n",
    "print(ch4_df_indexed)"
   ]
  },
  {
   "attachments": {},
   "cell_type": "markdown",
   "id": "eda2f7e5",
   "metadata": {},
   "source": [
    "We can now perform the join. Again, as with merge, we can join using `inner`, `outer`, `left` or `right`."
   ]
  },
  {
   "cell_type": "code",
   "execution_count": 67,
   "id": "7e79d630",
   "metadata": {
    "execution": {
     "iopub.execute_input": "2023-05-25T19:01:50.603426Z",
     "iopub.status.busy": "2023-05-25T19:01:50.603328Z",
     "iopub.status.idle": "2023-05-25T19:01:50.607732Z",
     "shell.execute_reply": "2023-05-25T19:01:50.607489Z"
    }
   },
   "outputs": [
    {
     "name": "stdout",
     "output_type": "stream",
     "text": [
      "                  co2    ch4\n",
      "year month day              \n",
      "2020 1     2    442.0  442.0\n",
      "           3    444.0  444.0\n",
      "           4    441.0    NaN\n",
      "           5      NaN  441.0\n",
      "           6      NaN  442.0\n",
      "           7    446.0  446.0\n"
     ]
    }
   ],
   "source": [
    "combined_df = co2_df_indexed.join(ch4_df_indexed, how='outer')\n",
    "print(combined_df)"
   ]
  },
  {
   "attachments": {},
   "cell_type": "markdown",
   "id": "b74da396",
   "metadata": {},
   "source": [
    "Comparing `merge` and `join`, `merge` is more versatile because it can merge on any column, whereas join can only merge on the index. So you might wonder why have a `join` method at all? The answer is that the `join` method works internally in a very different way than `merge` that exploits special properties of the DataFrame index. For large DataFrames, `join` is generally much faster than `merge` and so should be preferred if its use is possible.\n",
    "\n",
    "## Summary\n",
    "\n",
    "Pandas is a large and sophisticated package for working with data. In this tutorial we have used it to read data, to deal with missing values, to conditionally filter data, to compute statistic on fields with and without prior grouping, to combine datasets using merge and join. This is a good overview of the most commonly used functionality but only scratches the surface of what Pandas can do. There are entire books dedicated to Pandas and extensive documentation available online: it is a very useful tool to have in your toolbox. We will be using it throughout the rest of the module and will introduce new functionality as required."
   ]
  }
 ],
 "metadata": {
  "jupytext": {
   "cell_metadata_filter": "incorrectly_encoded_metadata,-all",
   "cell_metadata_json": true
  },
  "kernelspec": {
   "display_name": "Python 3 (ipykernel)",
   "language": "python",
   "name": "python3"
  },
  "language_info": {
   "codemirror_mode": {
    "name": "ipython",
    "version": 3
   },
   "file_extension": ".py",
   "mimetype": "text/x-python",
   "name": "python",
   "nbconvert_exporter": "python",
   "pygments_lexer": "ipython3",
   "version": "3.11.5"
  }
 },
 "nbformat": 4,
 "nbformat_minor": 5
}
