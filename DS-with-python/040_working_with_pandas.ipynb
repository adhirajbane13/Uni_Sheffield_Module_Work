{
 "cells": [
  {
   "attachments": {},
   "cell_type": "markdown",
   "metadata": {},
   "source": [
    "# 040 Working with Pandas\n",
    "\n",
    "> COM6018\n",
    "\n",
    "*Copyright &copy; 2023 Jon Barker, University of Sheffield. All rights reserved*.\n",
    "\n",
    "In this lab we are going to be working with Pandas. We will see how it can greatly simplify tasks that were quite challenging when using pure Python. To make this clear we will be starting by repeating the analysis we performed in Lab Class 020, ie. producing a plot of the combined Global Warming Potential of atmospheric methane and carbon dioxide over the last three decades. \n",
    "\n",
    "Start by briefly reviewing the solution notebook for Lab Class 020. Also make sure you have read through the Pandas tutorial notebook that will introduce a lot of the functionality that we will be using in this lab.\n"
   ]
  },
  {
   "attachments": {},
   "cell_type": "markdown",
   "metadata": {},
   "source": [
    "## Step 1 - Reading in the C02 data\n",
    "\n",
    "Before we can use the Pandas package, we will need to import it. Pandas is conventionally imported with the name 'pd'. Run the cell below which will import both Pandas and NumPy."
   ]
  },
  {
   "cell_type": "code",
   "execution_count": 115,
   "metadata": {},
   "outputs": [],
   "source": [
    "import pandas as pd\n",
    "import numpy as np"
   ]
  },
  {
   "attachments": {},
   "cell_type": "markdown",
   "metadata": {},
   "source": [
    "First, we will use the `pd.read_csv` method to load the carbon dioxide data from the CSV file, `data/co2.csv`. The loaded data will be stored in a Pandas dataframe which we will call `co2_df`. The CSV file has six fields which we will name as follows: 'Yr', 'Mn', 'Dy', 'CO2', 'NB', 'scale'. The `co2.csv` file has comment lines starting with a '%' symbol. These can be automatically skipped. If you are unsure how to do this then look again at the tutorial notebook, or check the documentation for `pd.read_csv`. \n",
    "\n",
    "Complete the cell below such that the TEST cell passes correctly."
   ]
  },
  {
   "cell_type": "code",
   "execution_count": 116,
   "metadata": {},
   "outputs": [],
   "source": [
    "# WRITE SOLUTION HERE\n",
    "co2_df = pd.read_csv('data/co2.csv',names=['Yr', 'Mn', 'Dy', 'CO2','NB','Scale'], skipinitialspace= True,comment=\"%\")\n",
    "col = co2_df.columns\n",
    "for i in col:\n",
    "    co2_df[i] = co2_df[i].astype('float')"
   ]
  },
  {
   "cell_type": "code",
   "execution_count": 117,
   "metadata": {},
   "outputs": [
    {
     "name": "stdout",
     "output_type": "stream",
     "text": [
      "Yr       1960.00\n",
      "Mn          9.00\n",
      "Dy         27.00\n",
      "CO2       313.31\n",
      "NB          3.00\n",
      "Scale      12.00\n",
      "Name: 1000, dtype: float64\n"
     ]
    }
   ],
   "source": [
    "print(co2_df.iloc[1000])"
   ]
  },
  {
   "cell_type": "code",
   "execution_count": 118,
   "metadata": {},
   "outputs": [
    {
     "name": "stdout",
     "output_type": "stream",
     "text": [
      "All tests passed!\n"
     ]
    }
   ],
   "source": [
    "# TEST\n",
    "assert dict(co2_df.iloc[1000]) == {'Yr': 1960.0, 'Mn': 9.0, 'Dy': 27.0, 'CO2': 313.31, 'NB': 3.0, 'Scale': 12.0}\n",
    "print(\"All tests passed!\")"
   ]
  },
  {
   "attachments": {},
   "cell_type": "markdown",
   "metadata": {},
   "source": [
    "Note that all the fields have correctly been recognised as numeric types. The year, month and day fields would be more sensibly stored as integers but we are not going to worry about that for now. Note also that reading the data and converting to numeric types has taken one line of code. Compare this to the solution in Lab Class 020 which required quite a lot of code even when using the `csv` module."
   ]
  },
  {
   "attachments": {},
   "cell_type": "markdown",
   "metadata": {},
   "source": [
    "## Step 2 - Reading in the CH<sub>4</sub> data\n",
    "\n",
    "We will now read the methane data (i.e., CH<sub>4</sub>) from the file `data/ch4.csv` into a variable which we will call `ch4_df`. This can be done in a similar way but you will need to modify the `read_csv` parameters to match the CSV file contents. \n",
    "\n",
    "Note, the `data/ch4.csv` file has a row that stores the field names so you will not need to use the `names` parameter. Note also that the file uses the value '-999.99' to mean that there is a missing reading. You will need to set the 'na_values' parameter in order to handle this correctly. If in doubt, check the Pandas `read_csv` documentation.\n",
    "\n",
    "Write the code below and then check it by running the test cell.\n"
   ]
  },
  {
   "cell_type": "code",
   "execution_count": 119,
   "metadata": {},
   "outputs": [],
   "source": [
    "# WRITE SOLUTION HERE\n",
    "ch4_df = pd.read_csv('data/ch4.csv',skipinitialspace=True,delimiter=' ',comment= '#',na_values='-999.99')"
   ]
  },
  {
   "cell_type": "code",
   "execution_count": 120,
   "metadata": {},
   "outputs": [
    {
     "name": "stdout",
     "output_type": "stream",
     "text": [
      "      site_code  year  month  day  hour  minute  second  time_decimal  \\\n",
      "0           MLO  1987      1    1     0       0       0   1987.000000   \n",
      "1           MLO  1987      1    2     0       0       0   1987.002740   \n",
      "2           MLO  1987      1    3     0       0       0   1987.005479   \n",
      "3           MLO  1987      1    4     0       0       0   1987.008219   \n",
      "4           MLO  1987      1    5     0       0       0   1987.010959   \n",
      "...         ...   ...    ...  ...   ...     ...     ...           ...   \n",
      "12779       MLO  2021     12   27     0       0       0   2021.986301   \n",
      "12780       MLO  2021     12   28     0       0       0   2021.989041   \n",
      "12781       MLO  2021     12   29     0       0       0   2021.991781   \n",
      "12782       MLO  2021     12   30     0       0       0   2021.994521   \n",
      "12783       MLO  2021     12   31     0       0       0   2021.997260   \n",
      "\n",
      "         value  value_std_dev  nvalue  latitude  longitude  altitude  \\\n",
      "0          NaN         -99.99       0    19.536   -155.576    3437.0   \n",
      "1          NaN         -99.99       0    19.536   -155.576    3437.0   \n",
      "2          NaN         -99.99       0    19.536   -155.576    3437.0   \n",
      "3          NaN         -99.99       0    19.536   -155.576    3437.0   \n",
      "4          NaN         -99.99       0    19.536   -155.576    3437.0   \n",
      "...        ...            ...     ...       ...        ...       ...   \n",
      "12779  1940.34           1.42       7    19.536   -155.576    3437.0   \n",
      "12780  1948.03           2.20       7    19.536   -155.576    3437.0   \n",
      "12781  1943.84           4.32       7    19.536   -155.576    3437.0   \n",
      "12782  1915.23           0.88       7    19.536   -155.576    3437.0   \n",
      "12783  1914.17           4.12       7    19.536   -155.576    3437.0   \n",
      "\n",
      "       elevation  intake_height qcflag  \n",
      "0         3397.0           40.0    *..  \n",
      "1         3397.0           40.0    *..  \n",
      "2         3397.0           40.0    *..  \n",
      "3         3397.0           40.0    *..  \n",
      "4         3397.0           40.0    *..  \n",
      "...          ...            ...    ...  \n",
      "12779     3397.0           40.0    ...  \n",
      "12780     3397.0           40.0    ...  \n",
      "12781     3397.0           40.0    ...  \n",
      "12782     3397.0           40.0    ...  \n",
      "12783     3397.0           40.0    ...  \n",
      "\n",
      "[12784 rows x 17 columns]\n"
     ]
    }
   ],
   "source": [
    "print(ch4_df)"
   ]
  },
  {
   "cell_type": "code",
   "execution_count": 121,
   "metadata": {},
   "outputs": [
    {
     "name": "stdout",
     "output_type": "stream",
     "text": [
      "All tests passed!\n"
     ]
    }
   ],
   "source": [
    "# TEST\n",
    "assert dict(ch4_df.iloc[1000]) == {'site_code': 'MLO', 'year': 1989, 'month': 9, 'day': 27, 'hour': 0, 'minute': 0, 'second': 0, 'time_decimal': 1989.7369863013696, 'value': 1696.03, 'value_std_dev': 7.04, 'nvalue': 7, 'latitude': 19.536, 'longitude': -155.576, 'altitude': 3437.0, 'elevation': 3397.0, 'intake_height': 40.0, 'qcflag': '...'}\n",
    "print(\"All tests passed!\")"
   ]
  },
  {
   "attachments": {},
   "cell_type": "markdown",
   "metadata": {},
   "source": [
    "## Step 3 - Simplifying the data\n",
    "\n",
    "We are now going to remove the fields that from each data frame that we are not interested in and rename the others. In our transformed dataframes we want just four columns: `year`, `month`, `day` and `co2_concentration` for the carbon dioxide data, and `year`, `month`, `day` and `ch4_concentration` for the methane data. \n",
    "\n",
    "Making a new dataframe from a subset of columns of an existing one is a very common operation. Check the tutorial notes if you cannot remember how to do this. To rename the fields we can use the DataFrame `rename` method. These two steps can be written in a single line of code. (Again, compare this with the equivalent step when we implemented this in Lab Class 020 without using Pandas.)"
   ]
  },
  {
   "cell_type": "code",
   "execution_count": 122,
   "metadata": {},
   "outputs": [],
   "source": [
    "# WRITE SOLUTION HERE\n",
    "co2_df = co2_df.rename(columns={'Yr':'year','Mn':'month','Dy':'day','CO2':'co2_concentration'})\n",
    "co2_df = co2_df[['year','month','day','co2_concentration']]\n",
    "ch4_df = ch4_df.rename(columns={'value':'ch4_concentration'})\n",
    "ch4_df = ch4_df[['year','month','day','ch4_concentration']]\n"
   ]
  },
  {
   "cell_type": "code",
   "execution_count": 123,
   "metadata": {},
   "outputs": [
    {
     "data": {
      "text/html": [
       "<div>\n",
       "<style scoped>\n",
       "    .dataframe tbody tr th:only-of-type {\n",
       "        vertical-align: middle;\n",
       "    }\n",
       "\n",
       "    .dataframe tbody tr th {\n",
       "        vertical-align: top;\n",
       "    }\n",
       "\n",
       "    .dataframe thead th {\n",
       "        text-align: right;\n",
       "    }\n",
       "</style>\n",
       "<table border=\"1\" class=\"dataframe\">\n",
       "  <thead>\n",
       "    <tr style=\"text-align: right;\">\n",
       "      <th></th>\n",
       "      <th>year</th>\n",
       "      <th>month</th>\n",
       "      <th>day</th>\n",
       "      <th>co2_concentration</th>\n",
       "    </tr>\n",
       "  </thead>\n",
       "  <tbody>\n",
       "    <tr>\n",
       "      <th>0</th>\n",
       "      <td>1958.0</td>\n",
       "      <td>1.0</td>\n",
       "      <td>1.0</td>\n",
       "      <td>NaN</td>\n",
       "    </tr>\n",
       "    <tr>\n",
       "      <th>1</th>\n",
       "      <td>1958.0</td>\n",
       "      <td>1.0</td>\n",
       "      <td>2.0</td>\n",
       "      <td>NaN</td>\n",
       "    </tr>\n",
       "    <tr>\n",
       "      <th>2</th>\n",
       "      <td>1958.0</td>\n",
       "      <td>1.0</td>\n",
       "      <td>3.0</td>\n",
       "      <td>NaN</td>\n",
       "    </tr>\n",
       "    <tr>\n",
       "      <th>3</th>\n",
       "      <td>1958.0</td>\n",
       "      <td>1.0</td>\n",
       "      <td>4.0</td>\n",
       "      <td>NaN</td>\n",
       "    </tr>\n",
       "    <tr>\n",
       "      <th>4</th>\n",
       "      <td>1958.0</td>\n",
       "      <td>1.0</td>\n",
       "      <td>5.0</td>\n",
       "      <td>NaN</td>\n",
       "    </tr>\n",
       "    <tr>\n",
       "      <th>...</th>\n",
       "      <td>...</td>\n",
       "      <td>...</td>\n",
       "      <td>...</td>\n",
       "      <td>...</td>\n",
       "    </tr>\n",
       "    <tr>\n",
       "      <th>23887</th>\n",
       "      <td>2023.0</td>\n",
       "      <td>5.0</td>\n",
       "      <td>27.0</td>\n",
       "      <td>NaN</td>\n",
       "    </tr>\n",
       "    <tr>\n",
       "      <th>23888</th>\n",
       "      <td>2023.0</td>\n",
       "      <td>5.0</td>\n",
       "      <td>28.0</td>\n",
       "      <td>NaN</td>\n",
       "    </tr>\n",
       "    <tr>\n",
       "      <th>23889</th>\n",
       "      <td>2023.0</td>\n",
       "      <td>5.0</td>\n",
       "      <td>29.0</td>\n",
       "      <td>NaN</td>\n",
       "    </tr>\n",
       "    <tr>\n",
       "      <th>23890</th>\n",
       "      <td>2023.0</td>\n",
       "      <td>5.0</td>\n",
       "      <td>30.0</td>\n",
       "      <td>NaN</td>\n",
       "    </tr>\n",
       "    <tr>\n",
       "      <th>23891</th>\n",
       "      <td>2023.0</td>\n",
       "      <td>5.0</td>\n",
       "      <td>31.0</td>\n",
       "      <td>NaN</td>\n",
       "    </tr>\n",
       "  </tbody>\n",
       "</table>\n",
       "<p>23892 rows × 4 columns</p>\n",
       "</div>"
      ],
      "text/plain": [
       "         year  month   day  co2_concentration\n",
       "0      1958.0    1.0   1.0                NaN\n",
       "1      1958.0    1.0   2.0                NaN\n",
       "2      1958.0    1.0   3.0                NaN\n",
       "3      1958.0    1.0   4.0                NaN\n",
       "4      1958.0    1.0   5.0                NaN\n",
       "...       ...    ...   ...                ...\n",
       "23887  2023.0    5.0  27.0                NaN\n",
       "23888  2023.0    5.0  28.0                NaN\n",
       "23889  2023.0    5.0  29.0                NaN\n",
       "23890  2023.0    5.0  30.0                NaN\n",
       "23891  2023.0    5.0  31.0                NaN\n",
       "\n",
       "[23892 rows x 4 columns]"
      ]
     },
     "execution_count": 123,
     "metadata": {},
     "output_type": "execute_result"
    }
   ],
   "source": [
    "co2_df.rename(columns={'Yr':'year','Mn':'month','Dy':'day','CO2':'co2_concentration'})"
   ]
  },
  {
   "cell_type": "code",
   "execution_count": 124,
   "metadata": {},
   "outputs": [
    {
     "name": "stdout",
     "output_type": "stream",
     "text": [
      "All tests passed!\n"
     ]
    }
   ],
   "source": [
    "# TEST\n",
    "\n",
    "assert dict(co2_df.iloc[1000]) == {'year': 1960.0, 'month': 9.0, 'day': 27.0, 'co2_concentration': 313.31}\n",
    "assert dict(ch4_df.iloc[1000]) == {'year': 1989.0, 'month': 9.0, 'day': 27.0, 'ch4_concentration': 1696.03}\n",
    "print('All tests passed!')\n",
    "\n"
   ]
  },
  {
   "attachments": {},
   "cell_type": "markdown",
   "metadata": {},
   "source": [
    "## Step 4 - Dealing with missing values\n",
    "\n",
    "In the next step we will remove any rows from the dataframes that contain missing concentration values. Check the notes on selecting rows. Hint: you can use the `isna()` method which returns True for data entries that have NaN values."
   ]
  },
  {
   "cell_type": "code",
   "execution_count": 125,
   "metadata": {},
   "outputs": [],
   "source": [
    "# WRITE SOLUTION HERE\n",
    "#co2_df = co2_df.dropna()\n",
    "#ch4_df = ch4_df.dropna()\n",
    "co2_df = co2_df[~co2_df.co2_concentration.isna()]\n",
    "ch4_df = ch4_df[~ch4_df.ch4_concentration.isna()]"
   ]
  },
  {
   "cell_type": "code",
   "execution_count": 126,
   "metadata": {},
   "outputs": [
    {
     "name": "stdout",
     "output_type": "stream",
     "text": [
      "All tests passed!\n"
     ]
    }
   ],
   "source": [
    "# TEST\n",
    "assert len(co2_df) == 17685\n",
    "assert len(ch4_df) == 12111\n",
    "print('All tests passed!')\n"
   ]
  },
  {
   "attachments": {},
   "cell_type": "markdown",
   "metadata": {},
   "source": [
    "## Step 5 - Fixing the units\n",
    "\n",
    "If you remember from Lab 2, the methane concentrations are stored as parts per billion, whereas the carbon dioxide is in parts per million. It will be more convenient to have them both in the same units (i.e., parts per million, *ppm*). This can be done simply by dividing the `ch4_concentration` values by 1000. \n",
    "\n",
    "Scaling a single column of a dataframe is very easy and can be done with a single line. Do this in the cell below."
   ]
  },
  {
   "cell_type": "code",
   "execution_count": 127,
   "metadata": {},
   "outputs": [],
   "source": [
    "# WRITE SOLUTION HERE\n",
    "ch4_df['ch4_concentration'] = ch4_df['ch4_concentration']/1000"
   ]
  },
  {
   "cell_type": "code",
   "execution_count": 128,
   "metadata": {},
   "outputs": [
    {
     "name": "stdout",
     "output_type": "stream",
     "text": [
      "1.70002\n",
      "All tests passed!\n"
     ]
    }
   ],
   "source": [
    "# TEST\n",
    "print(ch4_df.ch4_concentration[92])\n",
    "print('All tests passed!')"
   ]
  },
  {
   "attachments": {},
   "cell_type": "markdown",
   "metadata": {},
   "source": [
    "## Step 6 - Joining the data\n",
    "\n",
    "We will now merge our dataframes into a single dataframe using the `merge` method.\n",
    "\n",
    "We want to ignore any rows for which there is not both a CO<sub>2</sub> and a CH<sub>4</sub> measurement, i.e., if for a given day either the CO<sub>2</sub> *or* CH<sub>4</sub> measurement is missing then that day will not appear in the merged dataframe.  This is called an 'inner' join. We can specify that we want an 'inner' join by setting the `how` parameter to `inner` when we call the `merge` method.  \n",
    "\n",
    "When performing a merge we need a unique identifier for each row. In our case we will use the combination of the 'year', 'month' and 'day' fields.  This is specified using the `on` parameter. \n",
    "\n",
    "The `merge` method returns a new dataframe which we will store in a variable called `df`.\n",
    "\n",
    "This step can be completed with a single line. Check the notes if you are unsure."
   ]
  },
  {
   "cell_type": "code",
   "execution_count": 129,
   "metadata": {},
   "outputs": [],
   "source": [
    "# WRITE SOLUTION HERE\n",
    "df = co2_df.merge(ch4_df,on=['year', 'month', 'day'],how='inner')"
   ]
  },
  {
   "cell_type": "code",
   "execution_count": 130,
   "metadata": {},
   "outputs": [
    {
     "name": "stdout",
     "output_type": "stream",
     "text": [
      "All tests passed\n"
     ]
    }
   ],
   "source": [
    "# TEST\n",
    "assert df['co2_concentration'][0] == 350.84\n",
    "assert df['ch4_concentration'][0] == 1.70002\n",
    "print('All tests passed')"
   ]
  },
  {
   "attachments": {},
   "cell_type": "markdown",
   "metadata": {},
   "source": [
    "Another advantage of using Pandas is that it is very fast. In the cell below, '%timeit' is used to time the `merge` command. On my machine is takes about 2 ms. This is faster than the function that we wrote in lab 2 when implementing the `merge` using Python."
   ]
  },
  {
   "cell_type": "code",
   "execution_count": 131,
   "metadata": {},
   "outputs": [
    {
     "name": "stdout",
     "output_type": "stream",
     "text": [
      "4.22 ms ± 535 µs per loop (mean ± std. dev. of 7 runs, 100 loops each)\n"
     ]
    }
   ],
   "source": [
    "%timeit co2_df.merge(ch4_df, how='inner', on=['day', 'month', 'year'])"
   ]
  },
  {
   "attachments": {},
   "cell_type": "markdown",
   "metadata": {},
   "source": [
    "## Step 7 - Processing the data\n",
    "\n",
    "We will continue to follow the steps from Lab 020. We will now combine the CO<sub>2</sub> and CH<sub>4</sub> concentrations into a single value to represent the total 'Global Warming Potential' (GWP) of the gases. Remember, we can do this by converting all gas concentrations into 'CO<sub>2</sub> equivalent' (CO<sub>2</sub>e) and then summing them. For CH<sub>4</sub> we need to multiple by 28 to compute it's CO<sub>2</sub> equivalent.\n",
    "\n",
    "So we will make a new column in the dataframe that we will call `co2e` and which will be equal to `co2_concentration + 28 * ch4_concentration`. This should be a single line of code. Refer to the notes if you are unsure how to do it. Write this in the cell below.\n"
   ]
  },
  {
   "cell_type": "code",
   "execution_count": 132,
   "metadata": {},
   "outputs": [],
   "source": [
    "# WRITE SOLUTION HERE\n",
    "df['co2e'] = df['co2_concentration'] + 28 * df['ch4_concentration']"
   ]
  },
  {
   "cell_type": "code",
   "execution_count": 133,
   "metadata": {},
   "outputs": [
    {
     "name": "stdout",
     "output_type": "stream",
     "text": [
      "All tests passed!\n"
     ]
    }
   ],
   "source": [
    "# TEST\n",
    "assert df.co2e[0] == 398.44056\n",
    "print('All tests passed!')"
   ]
  },
  {
   "attachments": {},
   "cell_type": "markdown",
   "metadata": {},
   "source": [
    "## Step 8 -- Plotting the data\n",
    "\n",
    "### Step 8.1 -- Plotting CO<sub>2</sub>e concentration over time\n",
    "\n",
    "We are now ready to plot the data. We want to see a graph of the CO<sub>2</sub>e concentration over time.\n",
    "\n",
    "Previously, in Lab 2, we used the matplotlib library to make the plot. Pandas makes things a bit easier as it has its own plotting tools builtin. The Data Series class has a plot method. e.g. to plot the `co2e` data we can use `df['co2e'].plot()` or, equivalently, `df.co2e.plot()`. The plot method has many parameters that can be used to control the appearance of the plot.\n",
    "\n",
    "Make a plot with the title 'CO2e over time' and with the y-axis labeled as 'CO2e (ppm)' and the x-axis labeled as 'Year'\n",
    "\n",
    "You will find that the x-axis will be the index of the row, ie from 0 to 9375. We would like it to be the year. Don't worry about this for now, we will fix it in the next step.\n",
    "\n"
   ]
  },
  {
   "cell_type": "code",
   "execution_count": 134,
   "metadata": {},
   "outputs": [
    {
     "data": {
      "image/png": "[encoded data removed]",
      "text/plain": [
       "<Figure size 640x480 with 1 Axes>"
      ]
     },
     "metadata": {},
     "output_type": "display_data"
    }
   ],
   "source": [
    "# WRITE SOLUTION HERE\n",
    "myplot = df['co2e'].plot(title='CO2e over time',ylabel='CO2e(ppm)',xlabel='Year')\n",
    "myplot.figure.savefig('pandas_plot.jpg')\n"
   ]
  },
  {
   "attachments": {},
   "cell_type": "markdown",
   "metadata": {},
   "source": [
    "### Step 8.2 -- Plotting by decimal year\n",
    "\n",
    "In order to get the x-axis right, we need to turn the date into a decimal number that we can plot against. \n",
    "\n",
    "Following what we did in Lab 2, we will use the following equation to convert the year, month and day into a single decimial year value,\n",
    "\n",
    "`decimal_year = year + (month - 1) / 12 + (day - 1) / 365`\n",
    "\n",
    "(Note, this equation is not quite correct as it assumes that each month is the same length, but it is good enough for our purposes.)\n",
    "\n",
    "Add a new column to the DataFrame called `decimal_year` that is formed using the above equation."
   ]
  },
  {
   "cell_type": "code",
   "execution_count": 135,
   "metadata": {},
   "outputs": [],
   "source": [
    "# WRITE SOLUTION HERE\n",
    "df['decimal_year'] = df['year'] + (df['month'] - 1)/12 + (df['day']-1)/365"
   ]
  },
  {
   "cell_type": "code",
   "execution_count": 136,
   "metadata": {},
   "outputs": [
    {
     "name": "stdout",
     "output_type": "stream",
     "text": [
      "1987.2554794520547\n"
     ]
    }
   ],
   "source": [
    "print(df.decimal_year[0])"
   ]
  },
  {
   "cell_type": "code",
   "execution_count": 139,
   "metadata": {},
   "outputs": [
    {
     "name": "stdout",
     "output_type": "stream",
     "text": [
      "All tests passed!\n"
     ]
    }
   ],
   "source": [
    "# TEST\n",
    "assert df.decimal_year[0] == 1987.2554794520547\n",
    "print('All tests passed!')"
   ]
  },
  {
   "attachments": {},
   "cell_type": "markdown",
   "metadata": {},
   "source": [
    "We can now plot the `co2_e` values against decimal year. To plot one column against another we can use the `plot` method of the dataframe itself and use the 'x' and 'y' parameters: this looks like `df.plot(x='decimial_year, y='co2e')`\n",
    "\n",
    "Try this below, but remember to also give the plot a title and axes labels."
   ]
  },
  {
   "cell_type": "code",
   "execution_count": 140,
   "metadata": {},
   "outputs": [
    {
     "data": {
      "image/png": "[encoded data removed]",
      "text/plain": [
       "<Figure size 640x480 with 1 Axes>"
      ]
     },
     "metadata": {},
     "output_type": "display_data"
    }
   ],
   "source": [
    "# WRITE SOLUTION HERE\n",
    "plot1 = df.plot(x='decimal_year', y='co2e',xlabel='year',ylabel='co2e(ppm)',title='CO2e over time')\n",
    "plot1.figure.savefig('pandas_plot.jpg')"
   ]
  },
  {
   "attachments": {},
   "cell_type": "markdown",
   "metadata": {},
   "source": [
    "We have now used Pandas to repeat everything we did in Lab class 020. Although it has taken a similar number of steps, each step could be completed with a single line of code using pre-existing Pandas functions. Each step will also have run faster."
   ]
  },
  {
   "attachments": {},
   "cell_type": "markdown",
   "metadata": {},
   "source": [
    "## Step 9 - Extending the analysis\n",
    "\n",
    "In this last step we are going to practice what we have just done by adding in data for two more global warming gases: nitrous oxide (N<sub>2</sub>O) and sulphur hexaflouride (SF<sub>6</sub>). The data for these gases is stored in the file `data/n2o.csv` and `data/sf6.csv`.\n",
    "\n",
    "Using the techniques from above, read these files and add two new columns to the dataframe, i.e. `n2o_concentration` and `sf6_concentration` storing concentrations in parts per million (ppm).\n",
    "\n",
    "Be careful to interpret the data correctly, i.e. the nitrous oxide data is recorded in parts per billion and the sulfur hexaflouride is measured as parts per trillion (i.e., 10^9). When computing the CO<sub>2</sub>e figure you can use the following multipliers: 265 for nitrous oxide and 23,500 for sulphur hexaflouride. (These values have been taken from the (IPCC fifth assessment report)[https://ghgprotocol.org/sites/default/files/ghgp/Global-Warming-Potential-Values%20%28Feb%2016%202016%29_1.pdf])\n"
   ]
  },
  {
   "cell_type": "code",
   "execution_count": null,
   "metadata": {},
   "outputs": [],
   "source": [
    "# WRITE SOLUTION HERE\n",
    "n2o_df = pd.read_csv('data/n2o.csv',skipinitialspace=True,delimiter=' ',comment= '#')\n",
    "sf6_df = pd.read_csv('data/sf6.csv',skipinitialspace=True,delimiter=' ',comment= '#')\n",
    "#simplify\n",
    "n2o_df = co2_df.rename(columns={'Yr':'year','Mn':'month','Dy':'day','CO2':'co2_concentration'})\n",
    "n2o_df_df = co2_df[['year','month','day','co2_concentration']]\n",
    "ch4_df = ch4_df.rename(columns={'value':'ch4_concentration'})\n",
    "ch4_df = ch4_df[['year','month','day','ch4_concentration']]\n"
   ]
  },
  {
   "attachments": {},
   "cell_type": "markdown",
   "metadata": {},
   "source": [
    "Now make a plot of the total CO2e."
   ]
  },
  {
   "cell_type": "code",
   "execution_count": null,
   "metadata": {},
   "outputs": [],
   "source": [
    "# WRITE SOLUTION HERE"
   ]
  },
  {
   "attachments": {},
   "cell_type": "markdown",
   "metadata": {},
   "source": [
    "You can plot multiple series on the same axes by setting the plot method's y parameter to be a list of the names of the series you want to plot, e.g., `y=['co2e', 'co2_concentration']`. Make a plot that shows the CO<sub>2</sub>e value for each of the four gases and the total CO<sub>2</sub>e, all plotted on the same axes. (Hint: in order to do this, you will first need to add new columns to the dataframe to store the CO<sub>2</sub>e of each of the separate gases.)\n",
    "\n",
    "Write your code in the cell below."
   ]
  },
  {
   "cell_type": "code",
   "execution_count": null,
   "metadata": {},
   "outputs": [],
   "source": [
    "# WRITE SOLUTION HERE"
   ]
  },
  {
   "attachments": {},
   "cell_type": "markdown",
   "metadata": {},
   "source": [
    "You should see from the plot that although the total CO<sub>2</sub>e has been steadily rising, nearly all of the increase is due to co2. i.e., the total CO<sub>2</sub>e line runs in parallel to the CO<sub>2</sub> line.\n",
    "\n",
    "If all have gone well you should have produced a plot looking like the one below.\n",
    "\n",
    "[final plot](figures/co2e_plot.png)"
   ]
  },
  {
   "cell_type": "markdown",
   "metadata": {},
   "source": [
    "## Conclusion\n",
    "\n",
    "In this lab, we learned how to use Pandas to load and process data from CSV files. We also learned how to merge data from multiple sources into a single dataframe, how to construct new DataSeries from existing ones, and how to plot the data using matplotlib.\n",
    "\n",
    "All of these steps could have been done without Pandas, indeed, we did most of this in Lab 020 just using Python and standard library module. However, using Pandas has made the process considerably simpler to develop and faster to execute. Pandas also contains a lot of more sophisticated functionality that we have not covered here, but which is easy to learn (or look up!) once you have understood the basics. "
   ]
  },
  {
   "attachments": {},
   "cell_type": "markdown",
   "metadata": {},
   "source": [
    "*Copyright &copy; 2023 Jon Barker, University of Sheffield. All rights reserved*."
   ]
  }
 ],
 "metadata": {
  "kernelspec": {
   "display_name": "env",
   "language": "python",
   "name": "python3"
  },
  "language_info": {
   "codemirror_mode": {
    "name": "ipython",
    "version": 3
   },
   "file_extension": ".py",
   "mimetype": "text/x-python",
   "name": "python",
   "nbconvert_exporter": "python",
   "pygments_lexer": "ipython3",
   "version": "3.11.5"
  }
 },
 "nbformat": 4,
 "nbformat_minor": 2
}
